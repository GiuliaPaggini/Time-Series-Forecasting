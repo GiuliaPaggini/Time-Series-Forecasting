{
  "cells": [
    {
      "cell_type": "markdown",
      "metadata": {
        "id": "9Lkjrqp08EeV"
      },
      "source": [
        "# LSTM - Nasdaq-100"
      ]
    },
    {
      "cell_type": "markdown",
      "metadata": {
        "id": "mas87hWgHYgq"
      },
      "source": [
        "**Notebook Summary**"
      ]
    },
    {
      "cell_type": "markdown",
      "metadata": {
        "id": "YBNdC5JZHeo0"
      },
      "source": [
        "\n",
        "**Granularity**: minute data\n",
        "\n",
        "**Source**: Refinitiv\n",
        "\n",
        "**Time period**: 03-01-2023 / 05-15-2023\n",
        "\n",
        "**Model**: LSTM"
      ]
    },
    {
      "cell_type": "markdown",
      "metadata": {
        "id": "ZqDTXuDMjbve"
      },
      "source": [
        "#Importing libraries"
      ]
    },
    {
      "cell_type": "code",
      "execution_count": 79,
      "metadata": {
        "id": "uNBd2DsX0TF-"
      },
      "outputs": [],
      "source": [
        "# Standard libraries\n",
        "import warnings\n",
        "warnings.filterwarnings(\"ignore\")\n",
        "import io\n",
        "import math\n",
        "import pandas as pd\n",
        "import numpy as np\n",
        "import datetime\n",
        "from datetime import time\n",
        "\n",
        "# Keras\n",
        "import keras\n",
        "from keras.layers import *\n",
        "from keras.models import Sequential\n",
        "from keras.wrappers.scikit_learn import KerasRegressor\n",
        "\n",
        "# Sklearn\n",
        "from sklearn.metrics import *\n",
        "from sklearn.model_selection import train_test_split\n",
        "from sklearn.model_selection import TimeSeriesSplit\n",
        "from sklearn.model_selection import GridSearchCV\n",
        "from sklearn.model_selection import cross_val_score\n",
        "\n",
        "# Plot\n",
        "%matplotlib inline\n",
        "import matplotlib.pyplot as plt\n",
        "import seaborn as sns"
      ]
    },
    {
      "cell_type": "code",
      "execution_count": null,
      "metadata": {
        "id": "9EVLwd950VIx"
      },
      "outputs": [],
      "source": [
        "from google.colab import drive\n",
        "drive.mount('/content/drive')"
      ]
    },
    {
      "cell_type": "code",
      "execution_count": null,
      "metadata": {
        "id": "Dce3UOGp0Wp_"
      },
      "outputs": [],
      "source": [
        "from google.colab import files\n",
        "uploaded = files.upload()"
      ]
    },
    {
      "cell_type": "markdown",
      "metadata": {
        "id": "CCb-JVdk1H_4"
      },
      "source": [
        "# Load data\n"
      ]
    },
    {
      "cell_type": "code",
      "execution_count": 82,
      "metadata": {
        "id": "_nqr6DcM0YUn"
      },
      "outputs": [],
      "source": [
        "# Import raw data\n",
        "data = pd.read_excel(io.BytesIO(uploaded['nasdaq100-ultimo.xlsx']))"
      ]
    },
    {
      "cell_type": "markdown",
      "metadata": {
        "id": "fpK1aPtIXsjZ"
      },
      "source": [
        "# Exploratory analysis"
      ]
    },
    {
      "cell_type": "code",
      "execution_count": 83,
      "metadata": {
        "colab": {
          "base_uri": "https://localhost:8080/",
          "height": 354
        },
        "id": "oginbw0v0cRO",
        "outputId": "8f52895d-44fe-46aa-b050-304542eb7f33"
      },
      "outputs": [
        {
          "output_type": "execute_result",
          "data": {
            "text/plain": [
              "           Local Date          Local Time      Close    Net      %Chg  \\\n",
              "0 2023-05-15 21:00:00 2023-05-15 21:00:00  13414.978  7.340  0.000547   \n",
              "1 2023-05-15 20:59:00 2023-05-15 20:59:00  13407.638 -0.568 -0.000042   \n",
              "2 2023-05-15 20:58:00 2023-05-15 20:58:00  13408.206  3.740  0.000279   \n",
              "3 2023-05-15 20:57:00 2023-05-15 20:57:00  13404.466  2.494  0.000186   \n",
              "4 2023-05-15 20:56:00 2023-05-15 20:56:00  13401.972 -5.011 -0.000374   \n",
              "\n",
              "        Open        Low       High   Volume  \n",
              "0  13408.672  13406.831  13414.978  5872939  \n",
              "1  13408.515  13406.908  13408.515  2578428  \n",
              "2  13404.600  13403.706  13408.901  1856072  \n",
              "3  13401.677  13401.473  13405.016  1457454  \n",
              "4  13404.145  13400.701  13404.145  1705538  "
            ],
            "text/html": [
              "\n",
              "  <div id=\"df-09eaa37c-58e7-4d77-acb0-c363f4b26ad4\">\n",
              "    <div class=\"colab-df-container\">\n",
              "      <div>\n",
              "<style scoped>\n",
              "    .dataframe tbody tr th:only-of-type {\n",
              "        vertical-align: middle;\n",
              "    }\n",
              "\n",
              "    .dataframe tbody tr th {\n",
              "        vertical-align: top;\n",
              "    }\n",
              "\n",
              "    .dataframe thead th {\n",
              "        text-align: right;\n",
              "    }\n",
              "</style>\n",
              "<table border=\"1\" class=\"dataframe\">\n",
              "  <thead>\n",
              "    <tr style=\"text-align: right;\">\n",
              "      <th></th>\n",
              "      <th>Local Date</th>\n",
              "      <th>Local Time</th>\n",
              "      <th>Close</th>\n",
              "      <th>Net</th>\n",
              "      <th>%Chg</th>\n",
              "      <th>Open</th>\n",
              "      <th>Low</th>\n",
              "      <th>High</th>\n",
              "      <th>Volume</th>\n",
              "    </tr>\n",
              "  </thead>\n",
              "  <tbody>\n",
              "    <tr>\n",
              "      <th>0</th>\n",
              "      <td>2023-05-15 21:00:00</td>\n",
              "      <td>2023-05-15 21:00:00</td>\n",
              "      <td>13414.978</td>\n",
              "      <td>7.340</td>\n",
              "      <td>0.000547</td>\n",
              "      <td>13408.672</td>\n",
              "      <td>13406.831</td>\n",
              "      <td>13414.978</td>\n",
              "      <td>5872939</td>\n",
              "    </tr>\n",
              "    <tr>\n",
              "      <th>1</th>\n",
              "      <td>2023-05-15 20:59:00</td>\n",
              "      <td>2023-05-15 20:59:00</td>\n",
              "      <td>13407.638</td>\n",
              "      <td>-0.568</td>\n",
              "      <td>-0.000042</td>\n",
              "      <td>13408.515</td>\n",
              "      <td>13406.908</td>\n",
              "      <td>13408.515</td>\n",
              "      <td>2578428</td>\n",
              "    </tr>\n",
              "    <tr>\n",
              "      <th>2</th>\n",
              "      <td>2023-05-15 20:58:00</td>\n",
              "      <td>2023-05-15 20:58:00</td>\n",
              "      <td>13408.206</td>\n",
              "      <td>3.740</td>\n",
              "      <td>0.000279</td>\n",
              "      <td>13404.600</td>\n",
              "      <td>13403.706</td>\n",
              "      <td>13408.901</td>\n",
              "      <td>1856072</td>\n",
              "    </tr>\n",
              "    <tr>\n",
              "      <th>3</th>\n",
              "      <td>2023-05-15 20:57:00</td>\n",
              "      <td>2023-05-15 20:57:00</td>\n",
              "      <td>13404.466</td>\n",
              "      <td>2.494</td>\n",
              "      <td>0.000186</td>\n",
              "      <td>13401.677</td>\n",
              "      <td>13401.473</td>\n",
              "      <td>13405.016</td>\n",
              "      <td>1457454</td>\n",
              "    </tr>\n",
              "    <tr>\n",
              "      <th>4</th>\n",
              "      <td>2023-05-15 20:56:00</td>\n",
              "      <td>2023-05-15 20:56:00</td>\n",
              "      <td>13401.972</td>\n",
              "      <td>-5.011</td>\n",
              "      <td>-0.000374</td>\n",
              "      <td>13404.145</td>\n",
              "      <td>13400.701</td>\n",
              "      <td>13404.145</td>\n",
              "      <td>1705538</td>\n",
              "    </tr>\n",
              "  </tbody>\n",
              "</table>\n",
              "</div>\n",
              "      <button class=\"colab-df-convert\" onclick=\"convertToInteractive('df-09eaa37c-58e7-4d77-acb0-c363f4b26ad4')\"\n",
              "              title=\"Convert this dataframe to an interactive table.\"\n",
              "              style=\"display:none;\">\n",
              "        \n",
              "  <svg xmlns=\"http://www.w3.org/2000/svg\" height=\"24px\"viewBox=\"0 0 24 24\"\n",
              "       width=\"24px\">\n",
              "    <path d=\"M0 0h24v24H0V0z\" fill=\"none\"/>\n",
              "    <path d=\"M18.56 5.44l.94 2.06.94-2.06 2.06-.94-2.06-.94-.94-2.06-.94 2.06-2.06.94zm-11 1L8.5 8.5l.94-2.06 2.06-.94-2.06-.94L8.5 2.5l-.94 2.06-2.06.94zm10 10l.94 2.06.94-2.06 2.06-.94-2.06-.94-.94-2.06-.94 2.06-2.06.94z\"/><path d=\"M17.41 7.96l-1.37-1.37c-.4-.4-.92-.59-1.43-.59-.52 0-1.04.2-1.43.59L10.3 9.45l-7.72 7.72c-.78.78-.78 2.05 0 2.83L4 21.41c.39.39.9.59 1.41.59.51 0 1.02-.2 1.41-.59l7.78-7.78 2.81-2.81c.8-.78.8-2.07 0-2.86zM5.41 20L4 18.59l7.72-7.72 1.47 1.35L5.41 20z\"/>\n",
              "  </svg>\n",
              "      </button>\n",
              "      \n",
              "  <style>\n",
              "    .colab-df-container {\n",
              "      display:flex;\n",
              "      flex-wrap:wrap;\n",
              "      gap: 12px;\n",
              "    }\n",
              "\n",
              "    .colab-df-convert {\n",
              "      background-color: #E8F0FE;\n",
              "      border: none;\n",
              "      border-radius: 50%;\n",
              "      cursor: pointer;\n",
              "      display: none;\n",
              "      fill: #1967D2;\n",
              "      height: 32px;\n",
              "      padding: 0 0 0 0;\n",
              "      width: 32px;\n",
              "    }\n",
              "\n",
              "    .colab-df-convert:hover {\n",
              "      background-color: #E2EBFA;\n",
              "      box-shadow: 0px 1px 2px rgba(60, 64, 67, 0.3), 0px 1px 3px 1px rgba(60, 64, 67, 0.15);\n",
              "      fill: #174EA6;\n",
              "    }\n",
              "\n",
              "    [theme=dark] .colab-df-convert {\n",
              "      background-color: #3B4455;\n",
              "      fill: #D2E3FC;\n",
              "    }\n",
              "\n",
              "    [theme=dark] .colab-df-convert:hover {\n",
              "      background-color: #434B5C;\n",
              "      box-shadow: 0px 1px 3px 1px rgba(0, 0, 0, 0.15);\n",
              "      filter: drop-shadow(0px 1px 2px rgba(0, 0, 0, 0.3));\n",
              "      fill: #FFFFFF;\n",
              "    }\n",
              "  </style>\n",
              "\n",
              "      <script>\n",
              "        const buttonEl =\n",
              "          document.querySelector('#df-09eaa37c-58e7-4d77-acb0-c363f4b26ad4 button.colab-df-convert');\n",
              "        buttonEl.style.display =\n",
              "          google.colab.kernel.accessAllowed ? 'block' : 'none';\n",
              "\n",
              "        async function convertToInteractive(key) {\n",
              "          const element = document.querySelector('#df-09eaa37c-58e7-4d77-acb0-c363f4b26ad4');\n",
              "          const dataTable =\n",
              "            await google.colab.kernel.invokeFunction('convertToInteractive',\n",
              "                                                     [key], {});\n",
              "          if (!dataTable) return;\n",
              "\n",
              "          const docLinkHtml = 'Like what you see? Visit the ' +\n",
              "            '<a target=\"_blank\" href=https://colab.research.google.com/notebooks/data_table.ipynb>data table notebook</a>'\n",
              "            + ' to learn more about interactive tables.';\n",
              "          element.innerHTML = '';\n",
              "          dataTable['output_type'] = 'display_data';\n",
              "          await google.colab.output.renderOutput(dataTable, element);\n",
              "          const docLink = document.createElement('div');\n",
              "          docLink.innerHTML = docLinkHtml;\n",
              "          element.appendChild(docLink);\n",
              "        }\n",
              "      </script>\n",
              "    </div>\n",
              "  </div>\n",
              "  "
            ]
          },
          "metadata": {},
          "execution_count": 83
        }
      ],
      "source": [
        "data.head()"
      ]
    },
    {
      "cell_type": "code",
      "execution_count": 84,
      "metadata": {
        "colab": {
          "base_uri": "https://localhost:8080/"
        },
        "id": "kZZFwtURP8Ft",
        "outputId": "07af1bf0-609f-4a67-c224-0f3862294a38"
      },
      "outputs": [
        {
          "output_type": "stream",
          "name": "stdout",
          "text": [
            "<class 'pandas.core.frame.DataFrame'>\n",
            "RangeIndex: 32641 entries, 0 to 32640\n",
            "Data columns (total 9 columns):\n",
            " #   Column      Non-Null Count  Dtype         \n",
            "---  ------      --------------  -----         \n",
            " 0   Local Date  32641 non-null  datetime64[ns]\n",
            " 1   Local Time  32641 non-null  datetime64[ns]\n",
            " 2   Close       32641 non-null  float64       \n",
            " 3   Net         32640 non-null  float64       \n",
            " 4   %Chg        32640 non-null  float64       \n",
            " 5   Open        32641 non-null  float64       \n",
            " 6   Low         32641 non-null  float64       \n",
            " 7   High        32641 non-null  float64       \n",
            " 8   Volume      32641 non-null  int64         \n",
            "dtypes: datetime64[ns](2), float64(6), int64(1)\n",
            "memory usage: 2.2 MB\n"
          ]
        }
      ],
      "source": [
        "data.info()"
      ]
    },
    {
      "cell_type": "code",
      "execution_count": 85,
      "metadata": {
        "id": "bisu7cu5Y_5x"
      },
      "outputs": [],
      "source": [
        "# Set a time index\n",
        "data.set_index('Local Time', inplace = True)\n",
        "data = data[['Close']]\n",
        "data.sort_index(inplace = True)"
      ]
    },
    {
      "cell_type": "code",
      "source": [
        "data"
      ],
      "metadata": {
        "colab": {
          "base_uri": "https://localhost:8080/",
          "height": 455
        },
        "id": "vAZ8iGbPSfIZ",
        "outputId": "24f9fbc3-b24b-45c1-9863-5d25ccb80be1"
      },
      "execution_count": 86,
      "outputs": [
        {
          "output_type": "execute_result",
          "data": {
            "text/plain": [
              "                         Close\n",
              "Local Time                    \n",
              "2023-03-01 14:31:00  12022.784\n",
              "2023-03-01 14:32:00  12035.656\n",
              "2023-03-01 14:33:00  12023.583\n",
              "2023-03-01 14:34:00  12009.438\n",
              "2023-03-01 14:35:00  12003.977\n",
              "...                        ...\n",
              "2023-05-15 20:56:00  13401.972\n",
              "2023-05-15 20:57:00  13404.466\n",
              "2023-05-15 20:58:00  13408.206\n",
              "2023-05-15 20:59:00  13407.638\n",
              "2023-05-15 21:00:00  13414.978\n",
              "\n",
              "[32641 rows x 1 columns]"
            ],
            "text/html": [
              "\n",
              "  <div id=\"df-e02e26af-be33-4ed4-88e8-bd6cdf81cf6e\">\n",
              "    <div class=\"colab-df-container\">\n",
              "      <div>\n",
              "<style scoped>\n",
              "    .dataframe tbody tr th:only-of-type {\n",
              "        vertical-align: middle;\n",
              "    }\n",
              "\n",
              "    .dataframe tbody tr th {\n",
              "        vertical-align: top;\n",
              "    }\n",
              "\n",
              "    .dataframe thead th {\n",
              "        text-align: right;\n",
              "    }\n",
              "</style>\n",
              "<table border=\"1\" class=\"dataframe\">\n",
              "  <thead>\n",
              "    <tr style=\"text-align: right;\">\n",
              "      <th></th>\n",
              "      <th>Close</th>\n",
              "    </tr>\n",
              "    <tr>\n",
              "      <th>Local Time</th>\n",
              "      <th></th>\n",
              "    </tr>\n",
              "  </thead>\n",
              "  <tbody>\n",
              "    <tr>\n",
              "      <th>2023-03-01 14:31:00</th>\n",
              "      <td>12022.784</td>\n",
              "    </tr>\n",
              "    <tr>\n",
              "      <th>2023-03-01 14:32:00</th>\n",
              "      <td>12035.656</td>\n",
              "    </tr>\n",
              "    <tr>\n",
              "      <th>2023-03-01 14:33:00</th>\n",
              "      <td>12023.583</td>\n",
              "    </tr>\n",
              "    <tr>\n",
              "      <th>2023-03-01 14:34:00</th>\n",
              "      <td>12009.438</td>\n",
              "    </tr>\n",
              "    <tr>\n",
              "      <th>2023-03-01 14:35:00</th>\n",
              "      <td>12003.977</td>\n",
              "    </tr>\n",
              "    <tr>\n",
              "      <th>...</th>\n",
              "      <td>...</td>\n",
              "    </tr>\n",
              "    <tr>\n",
              "      <th>2023-05-15 20:56:00</th>\n",
              "      <td>13401.972</td>\n",
              "    </tr>\n",
              "    <tr>\n",
              "      <th>2023-05-15 20:57:00</th>\n",
              "      <td>13404.466</td>\n",
              "    </tr>\n",
              "    <tr>\n",
              "      <th>2023-05-15 20:58:00</th>\n",
              "      <td>13408.206</td>\n",
              "    </tr>\n",
              "    <tr>\n",
              "      <th>2023-05-15 20:59:00</th>\n",
              "      <td>13407.638</td>\n",
              "    </tr>\n",
              "    <tr>\n",
              "      <th>2023-05-15 21:00:00</th>\n",
              "      <td>13414.978</td>\n",
              "    </tr>\n",
              "  </tbody>\n",
              "</table>\n",
              "<p>32641 rows × 1 columns</p>\n",
              "</div>\n",
              "      <button class=\"colab-df-convert\" onclick=\"convertToInteractive('df-e02e26af-be33-4ed4-88e8-bd6cdf81cf6e')\"\n",
              "              title=\"Convert this dataframe to an interactive table.\"\n",
              "              style=\"display:none;\">\n",
              "        \n",
              "  <svg xmlns=\"http://www.w3.org/2000/svg\" height=\"24px\"viewBox=\"0 0 24 24\"\n",
              "       width=\"24px\">\n",
              "    <path d=\"M0 0h24v24H0V0z\" fill=\"none\"/>\n",
              "    <path d=\"M18.56 5.44l.94 2.06.94-2.06 2.06-.94-2.06-.94-.94-2.06-.94 2.06-2.06.94zm-11 1L8.5 8.5l.94-2.06 2.06-.94-2.06-.94L8.5 2.5l-.94 2.06-2.06.94zm10 10l.94 2.06.94-2.06 2.06-.94-2.06-.94-.94-2.06-.94 2.06-2.06.94z\"/><path d=\"M17.41 7.96l-1.37-1.37c-.4-.4-.92-.59-1.43-.59-.52 0-1.04.2-1.43.59L10.3 9.45l-7.72 7.72c-.78.78-.78 2.05 0 2.83L4 21.41c.39.39.9.59 1.41.59.51 0 1.02-.2 1.41-.59l7.78-7.78 2.81-2.81c.8-.78.8-2.07 0-2.86zM5.41 20L4 18.59l7.72-7.72 1.47 1.35L5.41 20z\"/>\n",
              "  </svg>\n",
              "      </button>\n",
              "      \n",
              "  <style>\n",
              "    .colab-df-container {\n",
              "      display:flex;\n",
              "      flex-wrap:wrap;\n",
              "      gap: 12px;\n",
              "    }\n",
              "\n",
              "    .colab-df-convert {\n",
              "      background-color: #E8F0FE;\n",
              "      border: none;\n",
              "      border-radius: 50%;\n",
              "      cursor: pointer;\n",
              "      display: none;\n",
              "      fill: #1967D2;\n",
              "      height: 32px;\n",
              "      padding: 0 0 0 0;\n",
              "      width: 32px;\n",
              "    }\n",
              "\n",
              "    .colab-df-convert:hover {\n",
              "      background-color: #E2EBFA;\n",
              "      box-shadow: 0px 1px 2px rgba(60, 64, 67, 0.3), 0px 1px 3px 1px rgba(60, 64, 67, 0.15);\n",
              "      fill: #174EA6;\n",
              "    }\n",
              "\n",
              "    [theme=dark] .colab-df-convert {\n",
              "      background-color: #3B4455;\n",
              "      fill: #D2E3FC;\n",
              "    }\n",
              "\n",
              "    [theme=dark] .colab-df-convert:hover {\n",
              "      background-color: #434B5C;\n",
              "      box-shadow: 0px 1px 3px 1px rgba(0, 0, 0, 0.15);\n",
              "      filter: drop-shadow(0px 1px 2px rgba(0, 0, 0, 0.3));\n",
              "      fill: #FFFFFF;\n",
              "    }\n",
              "  </style>\n",
              "\n",
              "      <script>\n",
              "        const buttonEl =\n",
              "          document.querySelector('#df-e02e26af-be33-4ed4-88e8-bd6cdf81cf6e button.colab-df-convert');\n",
              "        buttonEl.style.display =\n",
              "          google.colab.kernel.accessAllowed ? 'block' : 'none';\n",
              "\n",
              "        async function convertToInteractive(key) {\n",
              "          const element = document.querySelector('#df-e02e26af-be33-4ed4-88e8-bd6cdf81cf6e');\n",
              "          const dataTable =\n",
              "            await google.colab.kernel.invokeFunction('convertToInteractive',\n",
              "                                                     [key], {});\n",
              "          if (!dataTable) return;\n",
              "\n",
              "          const docLinkHtml = 'Like what you see? Visit the ' +\n",
              "            '<a target=\"_blank\" href=https://colab.research.google.com/notebooks/data_table.ipynb>data table notebook</a>'\n",
              "            + ' to learn more about interactive tables.';\n",
              "          element.innerHTML = '';\n",
              "          dataTable['output_type'] = 'display_data';\n",
              "          await google.colab.output.renderOutput(dataTable, element);\n",
              "          const docLink = document.createElement('div');\n",
              "          docLink.innerHTML = docLinkHtml;\n",
              "          element.appendChild(docLink);\n",
              "        }\n",
              "      </script>\n",
              "    </div>\n",
              "  </div>\n",
              "  "
            ]
          },
          "metadata": {},
          "execution_count": 86
        }
      ]
    },
    {
      "cell_type": "code",
      "execution_count": 87,
      "metadata": {
        "colab": {
          "base_uri": "https://localhost:8080/",
          "height": 448
        },
        "id": "9VsbFMCo0aRr",
        "outputId": "e60d4958-0958-4a3b-ac45-9eb47eaa5861"
      },
      "outputs": [
        {
          "output_type": "display_data",
          "data": {
            "text/plain": [
              "<Figure size 640x480 with 1 Axes>"
            ],
            "image/png": "[encoded data removed]"
          },
          "metadata": {}
        }
      ],
      "source": [
        "# Plot the closing price\n",
        "data.plot()\n",
        "plt.show()"
      ]
    },
    {
      "cell_type": "code",
      "execution_count": 88,
      "metadata": {
        "id": "8DRmcobA8X0X"
      },
      "outputs": [],
      "source": [
        "# Create a new feature\n",
        "log_returns = np.log(data[\"Close\"]).diff(1) \n",
        "data[\"log_returns\"] = log_returns "
      ]
    },
    {
      "cell_type": "code",
      "execution_count": 89,
      "metadata": {
        "id": "LfAhaQyiYiTp"
      },
      "outputs": [],
      "source": [
        "# Refine the dataset\n",
        "data = data[[\"log_returns\"]]"
      ]
    },
    {
      "cell_type": "code",
      "execution_count": 90,
      "metadata": {
        "colab": {
          "base_uri": "https://localhost:8080/",
          "height": 455
        },
        "id": "vtVKLXLnMqGC",
        "outputId": "fd555514-5c00-458b-e6a3-bf6fe6f74a24"
      },
      "outputs": [
        {
          "output_type": "execute_result",
          "data": {
            "text/plain": [
              "                     log_returns\n",
              "Local Time                      \n",
              "2023-03-01 15:31:00    -0.000619\n",
              "2023-03-01 15:32:00    -0.000411\n",
              "2023-03-01 15:33:00    -0.000395\n",
              "2023-03-01 15:34:00     0.000823\n",
              "2023-03-01 15:35:00     0.000372\n",
              "...                          ...\n",
              "2023-05-15 19:55:00    -0.000153\n",
              "2023-05-15 19:56:00     0.000114\n",
              "2023-05-15 19:57:00    -0.000035\n",
              "2023-05-15 19:58:00    -0.000267\n",
              "2023-05-15 19:59:00     0.000420\n",
              "\n",
              "[13988 rows x 1 columns]"
            ],
            "text/html": [
              "\n",
              "  <div id=\"df-f90e9231-72fa-4581-a86f-abf8c4e034c6\">\n",
              "    <div class=\"colab-df-container\">\n",
              "      <div>\n",
              "<style scoped>\n",
              "    .dataframe tbody tr th:only-of-type {\n",
              "        vertical-align: middle;\n",
              "    }\n",
              "\n",
              "    .dataframe tbody tr th {\n",
              "        vertical-align: top;\n",
              "    }\n",
              "\n",
              "    .dataframe thead th {\n",
              "        text-align: right;\n",
              "    }\n",
              "</style>\n",
              "<table border=\"1\" class=\"dataframe\">\n",
              "  <thead>\n",
              "    <tr style=\"text-align: right;\">\n",
              "      <th></th>\n",
              "      <th>log_returns</th>\n",
              "    </tr>\n",
              "    <tr>\n",
              "      <th>Local Time</th>\n",
              "      <th></th>\n",
              "    </tr>\n",
              "  </thead>\n",
              "  <tbody>\n",
              "    <tr>\n",
              "      <th>2023-03-01 15:31:00</th>\n",
              "      <td>-0.000619</td>\n",
              "    </tr>\n",
              "    <tr>\n",
              "      <th>2023-03-01 15:32:00</th>\n",
              "      <td>-0.000411</td>\n",
              "    </tr>\n",
              "    <tr>\n",
              "      <th>2023-03-01 15:33:00</th>\n",
              "      <td>-0.000395</td>\n",
              "    </tr>\n",
              "    <tr>\n",
              "      <th>2023-03-01 15:34:00</th>\n",
              "      <td>0.000823</td>\n",
              "    </tr>\n",
              "    <tr>\n",
              "      <th>2023-03-01 15:35:00</th>\n",
              "      <td>0.000372</td>\n",
              "    </tr>\n",
              "    <tr>\n",
              "      <th>...</th>\n",
              "      <td>...</td>\n",
              "    </tr>\n",
              "    <tr>\n",
              "      <th>2023-05-15 19:55:00</th>\n",
              "      <td>-0.000153</td>\n",
              "    </tr>\n",
              "    <tr>\n",
              "      <th>2023-05-15 19:56:00</th>\n",
              "      <td>0.000114</td>\n",
              "    </tr>\n",
              "    <tr>\n",
              "      <th>2023-05-15 19:57:00</th>\n",
              "      <td>-0.000035</td>\n",
              "    </tr>\n",
              "    <tr>\n",
              "      <th>2023-05-15 19:58:00</th>\n",
              "      <td>-0.000267</td>\n",
              "    </tr>\n",
              "    <tr>\n",
              "      <th>2023-05-15 19:59:00</th>\n",
              "      <td>0.000420</td>\n",
              "    </tr>\n",
              "  </tbody>\n",
              "</table>\n",
              "<p>13988 rows × 1 columns</p>\n",
              "</div>\n",
              "      <button class=\"colab-df-convert\" onclick=\"convertToInteractive('df-f90e9231-72fa-4581-a86f-abf8c4e034c6')\"\n",
              "              title=\"Convert this dataframe to an interactive table.\"\n",
              "              style=\"display:none;\">\n",
              "        \n",
              "  <svg xmlns=\"http://www.w3.org/2000/svg\" height=\"24px\"viewBox=\"0 0 24 24\"\n",
              "       width=\"24px\">\n",
              "    <path d=\"M0 0h24v24H0V0z\" fill=\"none\"/>\n",
              "    <path d=\"M18.56 5.44l.94 2.06.94-2.06 2.06-.94-2.06-.94-.94-2.06-.94 2.06-2.06.94zm-11 1L8.5 8.5l.94-2.06 2.06-.94-2.06-.94L8.5 2.5l-.94 2.06-2.06.94zm10 10l.94 2.06.94-2.06 2.06-.94-2.06-.94-.94-2.06-.94 2.06-2.06.94z\"/><path d=\"M17.41 7.96l-1.37-1.37c-.4-.4-.92-.59-1.43-.59-.52 0-1.04.2-1.43.59L10.3 9.45l-7.72 7.72c-.78.78-.78 2.05 0 2.83L4 21.41c.39.39.9.59 1.41.59.51 0 1.02-.2 1.41-.59l7.78-7.78 2.81-2.81c.8-.78.8-2.07 0-2.86zM5.41 20L4 18.59l7.72-7.72 1.47 1.35L5.41 20z\"/>\n",
              "  </svg>\n",
              "      </button>\n",
              "      \n",
              "  <style>\n",
              "    .colab-df-container {\n",
              "      display:flex;\n",
              "      flex-wrap:wrap;\n",
              "      gap: 12px;\n",
              "    }\n",
              "\n",
              "    .colab-df-convert {\n",
              "      background-color: #E8F0FE;\n",
              "      border: none;\n",
              "      border-radius: 50%;\n",
              "      cursor: pointer;\n",
              "      display: none;\n",
              "      fill: #1967D2;\n",
              "      height: 32px;\n",
              "      padding: 0 0 0 0;\n",
              "      width: 32px;\n",
              "    }\n",
              "\n",
              "    .colab-df-convert:hover {\n",
              "      background-color: #E2EBFA;\n",
              "      box-shadow: 0px 1px 2px rgba(60, 64, 67, 0.3), 0px 1px 3px 1px rgba(60, 64, 67, 0.15);\n",
              "      fill: #174EA6;\n",
              "    }\n",
              "\n",
              "    [theme=dark] .colab-df-convert {\n",
              "      background-color: #3B4455;\n",
              "      fill: #D2E3FC;\n",
              "    }\n",
              "\n",
              "    [theme=dark] .colab-df-convert:hover {\n",
              "      background-color: #434B5C;\n",
              "      box-shadow: 0px 1px 3px 1px rgba(0, 0, 0, 0.15);\n",
              "      filter: drop-shadow(0px 1px 2px rgba(0, 0, 0, 0.3));\n",
              "      fill: #FFFFFF;\n",
              "    }\n",
              "  </style>\n",
              "\n",
              "      <script>\n",
              "        const buttonEl =\n",
              "          document.querySelector('#df-f90e9231-72fa-4581-a86f-abf8c4e034c6 button.colab-df-convert');\n",
              "        buttonEl.style.display =\n",
              "          google.colab.kernel.accessAllowed ? 'block' : 'none';\n",
              "\n",
              "        async function convertToInteractive(key) {\n",
              "          const element = document.querySelector('#df-f90e9231-72fa-4581-a86f-abf8c4e034c6');\n",
              "          const dataTable =\n",
              "            await google.colab.kernel.invokeFunction('convertToInteractive',\n",
              "                                                     [key], {});\n",
              "          if (!dataTable) return;\n",
              "\n",
              "          const docLinkHtml = 'Like what you see? Visit the ' +\n",
              "            '<a target=\"_blank\" href=https://colab.research.google.com/notebooks/data_table.ipynb>data table notebook</a>'\n",
              "            + ' to learn more about interactive tables.';\n",
              "          element.innerHTML = '';\n",
              "          dataTable['output_type'] = 'display_data';\n",
              "          await google.colab.output.renderOutput(dataTable, element);\n",
              "          const docLink = document.createElement('div');\n",
              "          docLink.innerHTML = docLinkHtml;\n",
              "          element.appendChild(docLink);\n",
              "        }\n",
              "      </script>\n",
              "    </div>\n",
              "  </div>\n",
              "  "
            ]
          },
          "metadata": {},
          "execution_count": 90
        }
      ],
      "source": [
        "# Drop the first NaN observation\n",
        "data = data.dropna()\n",
        "\n",
        "# In order to get more accurate predictions and reduce oscillations, we remove the first and last hour of trading within each day \n",
        "data = data.loc[(data.index.time > time(15,30)) & (data.index.time < time(20,00))]\n",
        "data = data[['log_returns']]\n",
        "data"
      ]
    },
    {
      "cell_type": "markdown",
      "metadata": {
        "id": "9fUBEeUa1Lgg"
      },
      "source": [
        "#Data processing"
      ]
    },
    {
      "cell_type": "markdown",
      "metadata": {
        "id": "lYQ8Y9zWZo8j"
      },
      "source": [
        "### Train-Test split"
      ]
    },
    {
      "cell_type": "code",
      "execution_count": 91,
      "metadata": {
        "id": "6mE_ZVSX_p4r"
      },
      "outputs": [],
      "source": [
        "# Train and test split\n",
        "ratio = 0.8\n",
        "train_size = int(len(data)* ratio) \n",
        "train_data = data[:train_size]\n",
        "test_data = data[train_size:]"
      ]
    },
    {
      "cell_type": "code",
      "execution_count": 92,
      "metadata": {
        "colab": {
          "base_uri": "https://localhost:8080/",
          "height": 455
        },
        "id": "Ai3GzH5Bfjss",
        "outputId": "0d584f62-caf1-433d-bf40-02fdc3b3cd49"
      },
      "outputs": [
        {
          "output_type": "execute_result",
          "data": {
            "text/plain": [
              "                     log_returns\n",
              "Local Time                      \n",
              "2023-03-01 15:31:00    -0.000619\n",
              "2023-03-01 15:32:00    -0.000411\n",
              "2023-03-01 15:33:00    -0.000395\n",
              "2023-03-01 15:34:00     0.000823\n",
              "2023-03-01 15:35:00     0.000372\n",
              "...                          ...\n",
              "2023-05-01 18:07:00    -0.000017\n",
              "2023-05-01 18:08:00     0.000147\n",
              "2023-05-01 18:09:00     0.000116\n",
              "2023-05-01 18:10:00    -0.000305\n",
              "2023-05-01 18:11:00     0.000060\n",
              "\n",
              "[11190 rows x 1 columns]"
            ],
            "text/html": [
              "\n",
              "  <div id=\"df-9ae77eab-bc15-4d8c-87a9-494114cb1496\">\n",
              "    <div class=\"colab-df-container\">\n",
              "      <div>\n",
              "<style scoped>\n",
              "    .dataframe tbody tr th:only-of-type {\n",
              "        vertical-align: middle;\n",
              "    }\n",
              "\n",
              "    .dataframe tbody tr th {\n",
              "        vertical-align: top;\n",
              "    }\n",
              "\n",
              "    .dataframe thead th {\n",
              "        text-align: right;\n",
              "    }\n",
              "</style>\n",
              "<table border=\"1\" class=\"dataframe\">\n",
              "  <thead>\n",
              "    <tr style=\"text-align: right;\">\n",
              "      <th></th>\n",
              "      <th>log_returns</th>\n",
              "    </tr>\n",
              "    <tr>\n",
              "      <th>Local Time</th>\n",
              "      <th></th>\n",
              "    </tr>\n",
              "  </thead>\n",
              "  <tbody>\n",
              "    <tr>\n",
              "      <th>2023-03-01 15:31:00</th>\n",
              "      <td>-0.000619</td>\n",
              "    </tr>\n",
              "    <tr>\n",
              "      <th>2023-03-01 15:32:00</th>\n",
              "      <td>-0.000411</td>\n",
              "    </tr>\n",
              "    <tr>\n",
              "      <th>2023-03-01 15:33:00</th>\n",
              "      <td>-0.000395</td>\n",
              "    </tr>\n",
              "    <tr>\n",
              "      <th>2023-03-01 15:34:00</th>\n",
              "      <td>0.000823</td>\n",
              "    </tr>\n",
              "    <tr>\n",
              "      <th>2023-03-01 15:35:00</th>\n",
              "      <td>0.000372</td>\n",
              "    </tr>\n",
              "    <tr>\n",
              "      <th>...</th>\n",
              "      <td>...</td>\n",
              "    </tr>\n",
              "    <tr>\n",
              "      <th>2023-05-01 18:07:00</th>\n",
              "      <td>-0.000017</td>\n",
              "    </tr>\n",
              "    <tr>\n",
              "      <th>2023-05-01 18:08:00</th>\n",
              "      <td>0.000147</td>\n",
              "    </tr>\n",
              "    <tr>\n",
              "      <th>2023-05-01 18:09:00</th>\n",
              "      <td>0.000116</td>\n",
              "    </tr>\n",
              "    <tr>\n",
              "      <th>2023-05-01 18:10:00</th>\n",
              "      <td>-0.000305</td>\n",
              "    </tr>\n",
              "    <tr>\n",
              "      <th>2023-05-01 18:11:00</th>\n",
              "      <td>0.000060</td>\n",
              "    </tr>\n",
              "  </tbody>\n",
              "</table>\n",
              "<p>11190 rows × 1 columns</p>\n",
              "</div>\n",
              "      <button class=\"colab-df-convert\" onclick=\"convertToInteractive('df-9ae77eab-bc15-4d8c-87a9-494114cb1496')\"\n",
              "              title=\"Convert this dataframe to an interactive table.\"\n",
              "              style=\"display:none;\">\n",
              "        \n",
              "  <svg xmlns=\"http://www.w3.org/2000/svg\" height=\"24px\"viewBox=\"0 0 24 24\"\n",
              "       width=\"24px\">\n",
              "    <path d=\"M0 0h24v24H0V0z\" fill=\"none\"/>\n",
              "    <path d=\"M18.56 5.44l.94 2.06.94-2.06 2.06-.94-2.06-.94-.94-2.06-.94 2.06-2.06.94zm-11 1L8.5 8.5l.94-2.06 2.06-.94-2.06-.94L8.5 2.5l-.94 2.06-2.06.94zm10 10l.94 2.06.94-2.06 2.06-.94-2.06-.94-.94-2.06-.94 2.06-2.06.94z\"/><path d=\"M17.41 7.96l-1.37-1.37c-.4-.4-.92-.59-1.43-.59-.52 0-1.04.2-1.43.59L10.3 9.45l-7.72 7.72c-.78.78-.78 2.05 0 2.83L4 21.41c.39.39.9.59 1.41.59.51 0 1.02-.2 1.41-.59l7.78-7.78 2.81-2.81c.8-.78.8-2.07 0-2.86zM5.41 20L4 18.59l7.72-7.72 1.47 1.35L5.41 20z\"/>\n",
              "  </svg>\n",
              "      </button>\n",
              "      \n",
              "  <style>\n",
              "    .colab-df-container {\n",
              "      display:flex;\n",
              "      flex-wrap:wrap;\n",
              "      gap: 12px;\n",
              "    }\n",
              "\n",
              "    .colab-df-convert {\n",
              "      background-color: #E8F0FE;\n",
              "      border: none;\n",
              "      border-radius: 50%;\n",
              "      cursor: pointer;\n",
              "      display: none;\n",
              "      fill: #1967D2;\n",
              "      height: 32px;\n",
              "      padding: 0 0 0 0;\n",
              "      width: 32px;\n",
              "    }\n",
              "\n",
              "    .colab-df-convert:hover {\n",
              "      background-color: #E2EBFA;\n",
              "      box-shadow: 0px 1px 2px rgba(60, 64, 67, 0.3), 0px 1px 3px 1px rgba(60, 64, 67, 0.15);\n",
              "      fill: #174EA6;\n",
              "    }\n",
              "\n",
              "    [theme=dark] .colab-df-convert {\n",
              "      background-color: #3B4455;\n",
              "      fill: #D2E3FC;\n",
              "    }\n",
              "\n",
              "    [theme=dark] .colab-df-convert:hover {\n",
              "      background-color: #434B5C;\n",
              "      box-shadow: 0px 1px 3px 1px rgba(0, 0, 0, 0.15);\n",
              "      filter: drop-shadow(0px 1px 2px rgba(0, 0, 0, 0.3));\n",
              "      fill: #FFFFFF;\n",
              "    }\n",
              "  </style>\n",
              "\n",
              "      <script>\n",
              "        const buttonEl =\n",
              "          document.querySelector('#df-9ae77eab-bc15-4d8c-87a9-494114cb1496 button.colab-df-convert');\n",
              "        buttonEl.style.display =\n",
              "          google.colab.kernel.accessAllowed ? 'block' : 'none';\n",
              "\n",
              "        async function convertToInteractive(key) {\n",
              "          const element = document.querySelector('#df-9ae77eab-bc15-4d8c-87a9-494114cb1496');\n",
              "          const dataTable =\n",
              "            await google.colab.kernel.invokeFunction('convertToInteractive',\n",
              "                                                     [key], {});\n",
              "          if (!dataTable) return;\n",
              "\n",
              "          const docLinkHtml = 'Like what you see? Visit the ' +\n",
              "            '<a target=\"_blank\" href=https://colab.research.google.com/notebooks/data_table.ipynb>data table notebook</a>'\n",
              "            + ' to learn more about interactive tables.';\n",
              "          element.innerHTML = '';\n",
              "          dataTable['output_type'] = 'display_data';\n",
              "          await google.colab.output.renderOutput(dataTable, element);\n",
              "          const docLink = document.createElement('div');\n",
              "          docLink.innerHTML = docLinkHtml;\n",
              "          element.appendChild(docLink);\n",
              "        }\n",
              "      </script>\n",
              "    </div>\n",
              "  </div>\n",
              "  "
            ]
          },
          "metadata": {},
          "execution_count": 92
        }
      ],
      "source": [
        "train_data"
      ]
    },
    {
      "cell_type": "markdown",
      "metadata": {
        "id": "8G8rnTmwaYjC"
      },
      "source": [
        "### Building input features"
      ]
    },
    {
      "cell_type": "code",
      "execution_count": 93,
      "metadata": {
        "id": "yarlm7xR55nJ"
      },
      "outputs": [],
      "source": [
        "# Define the look-back and look-forward variables\n",
        "look_back = 50\n",
        "look_forward = 10"
      ]
    },
    {
      "cell_type": "code",
      "execution_count": 94,
      "metadata": {
        "id": "T1nfO6L-55h7"
      },
      "outputs": [],
      "source": [
        "# Convert an array of values into a dataset matrix\n",
        "\n",
        "def create_features(data, look_back=50, look_forward=10):\n",
        "    dataX, dataY = [], []\n",
        "    np.array(dataY)\n",
        "    for k in range(len(data)-look_back-1):\n",
        "        a = data[k:(k + look_back), 0]\n",
        "        if len(data[k + look_back: k + look_back + look_forward, 0]) == look_forward:\n",
        "            dataX.append(a)\n",
        "            dataY.append(data[k + look_back: k + look_back + look_forward, 0])\n",
        "    return np.array(dataX), np.array(dataY)"
      ]
    },
    {
      "cell_type": "code",
      "execution_count": 95,
      "metadata": {
        "id": "ETkDGM6Z55fb"
      },
      "outputs": [],
      "source": [
        "# Generate train X and train Y data\n",
        "trainX, trainY = create_features(train_data.values, look_back, look_forward)"
      ]
    },
    {
      "cell_type": "code",
      "execution_count": 96,
      "metadata": {
        "id": "DP4l8A7_a94n"
      },
      "outputs": [],
      "source": [
        "# Generate test X and test Y data\n",
        "testX, testY = create_features(test_data.values, look_back, look_forward)"
      ]
    },
    {
      "cell_type": "markdown",
      "metadata": {
        "id": "VXJMuofPbEDw"
      },
      "source": [
        "###Reshape to 3D data"
      ]
    },
    {
      "cell_type": "code",
      "execution_count": 97,
      "metadata": {
        "id": "-Yw1rv5pALR9"
      },
      "outputs": [],
      "source": [
        "# Reshape input to be (samples, time steps, features)\n",
        "trainX = np.reshape(trainX, (trainX.shape[0], trainX.shape[1], 1))\n",
        "testX = np.reshape(testX, (testX.shape[0], testX.shape[1], 1))"
      ]
    },
    {
      "cell_type": "code",
      "execution_count": 98,
      "metadata": {
        "colab": {
          "base_uri": "https://localhost:8080/"
        },
        "id": "lMMRy1l6305B",
        "outputId": "87e138ba-84ff-44a7-9f7d-11061e6b7a51"
      },
      "outputs": [
        {
          "output_type": "stream",
          "name": "stdout",
          "text": [
            "(11131, 50, 1)\n",
            "(11131, 10)\n",
            "(2739, 50, 1)\n",
            "(2739, 10)\n"
          ]
        }
      ],
      "source": [
        "# Print out the shape of train and test X/Y\n",
        "print(trainX.shape)\n",
        "print(trainY.shape)\n",
        "print(testX.shape)\n",
        "print(testY.shape)"
      ]
    },
    {
      "cell_type": "markdown",
      "metadata": {
        "id": "XgLsy0AX7-vM"
      },
      "source": [
        "#LSTM Model Builder"
      ]
    },
    {
      "cell_type": "code",
      "execution_count": 111,
      "metadata": {
        "id": "WVFk1Zw37vvN"
      },
      "outputs": [],
      "source": [
        "# Create a function that build an LSTM \n",
        "\n",
        "def create_lstm(input_shape = (look_back, 1), lstm_units=128, dense_units=10, drop_rate = 0.1):\n",
        "    # Initialising the LSTM\n",
        "    model = Sequential()\n",
        "\n",
        "    # Adding the LSTM layer and some dropout regularization\n",
        "    model.add(LSTM(units=lstm_units, input_shape=input_shape, stateful=False))\n",
        "    model.add(Dropout(rate = drop_rate))\n",
        "\n",
        "    # Adding a Dense layer\n",
        "    model.add(Dense(units= lstm_units))\n",
        "    model.add(Dropout(rate = drop_rate))\n",
        "    model.add(Dense(units= lstm_units))\n",
        "    model.add(Dropout(rate = drop_rate))\n",
        "    model.add(Dense(units= dense_units))\n",
        "\n",
        "    # Compiling the model\n",
        "    model.compile(optimizer='adam', loss='mean_squared_error', metrics = ['accuracy'])\n",
        "    return model\n"
      ]
    },
    {
      "cell_type": "code",
      "execution_count": 112,
      "metadata": {
        "id": "J3VbDhSzczU4"
      },
      "outputs": [],
      "source": [
        "# Instantiate an LSTM model to wrap in KerasRegressor\n",
        "lstm = KerasRegressor(build_fn = create_lstm, verbose=0)"
      ]
    },
    {
      "cell_type": "markdown",
      "metadata": {
        "id": "RYksjaQ1N_yx"
      },
      "source": [
        "# Block Time Series Split and GridSearch CV"
      ]
    },
    {
      "cell_type": "code",
      "execution_count": 113,
      "metadata": {
        "id": "kv3_UWDbO4-p"
      },
      "outputs": [],
      "source": [
        "# Define a Block Time Series Split (no overlapping data)\n",
        "class BlockTimeSeriesSplit():\n",
        "    def __init__(self, n_splits):\n",
        "        self.n_splits = n_splits\n",
        "    \n",
        "    def get_n_splits(self, X, y, groups):\n",
        "        return self.n_splits\n",
        "    \n",
        "    def split(self, X, y=None, groups=None):\n",
        "        n_samples = len(X)\n",
        "        k_fold_size = n_samples // self.n_splits\n",
        "        indices = np.arange(n_samples)\n",
        "\n",
        "        margin = 0\n",
        "        for i in range(self.n_splits):\n",
        "            start = i * k_fold_size\n",
        "            end = start + k_fold_size\n",
        "            mid = int(0.5 * (end - start)) + start\n",
        "            yield indices[start: mid], indices[mid + margin: end]"
      ]
    },
    {
      "cell_type": "code",
      "execution_count": 114,
      "metadata": {
        "id": "J4xlIlnrO7YW"
      },
      "outputs": [],
      "source": [
        "# Define the number of splits and get some metrics\n",
        "btscv = BlockTimeSeriesSplit(n_splits= 6)"
      ]
    },
    {
      "cell_type": "markdown",
      "metadata": {
        "id": "sm545e4-IJB9"
      },
      "source": [
        "###Define the parameters to tune"
      ]
    },
    {
      "cell_type": "code",
      "execution_count": 115,
      "metadata": {
        "id": "40qVMaMEO7WQ"
      },
      "outputs": [],
      "source": [
        "# Define the parameter grid for GridSearch\n",
        "param_grid = {\n",
        "    'batch_size': [64, 128],\n",
        "    'epochs': [15, 20],\n",
        "    'drop_rate' : [0.1, 0.15],\n",
        "    'lstm_units':[128, 256]}"
      ]
    },
    {
      "cell_type": "markdown",
      "metadata": {
        "id": "kYI_cpP0ILD4"
      },
      "source": [
        "###Run GridSearchCV"
      ]
    },
    {
      "cell_type": "code",
      "execution_count": 104,
      "metadata": {
        "id": "38zMPqKEO7T0"
      },
      "outputs": [],
      "source": [
        "# Create the GridSearchCV object with BlockTimeSeriesSplit\n",
        "#grid_search = GridSearchCV(estimator = lstm, param_grid = param_grid, cv = btscv, scoring = 'neg_mean_squared_error')"
      ]
    },
    {
      "cell_type": "code",
      "execution_count": 105,
      "metadata": {
        "id": "UJYWY-jZPAhG"
      },
      "outputs": [],
      "source": [
        "# Fit the data to the GridSearchCV object\n",
        "#grid_result = grid_search.fit(trainX, trainY)"
      ]
    },
    {
      "cell_type": "code",
      "execution_count": 106,
      "metadata": {
        "id": "qSvMndM9PAez"
      },
      "outputs": [],
      "source": [
        "# Print the best parameters and best score\n",
        "#best_params = grid_result.best_params_\n",
        "#best_score = grid_result.best_score_\n",
        "#print(\"Best parameters:\", best_params)\n",
        "#print(\"Best score:\" , best_score)"
      ]
    },
    {
      "cell_type": "markdown",
      "metadata": {
        "id": "NI941T3VOHI8"
      },
      "source": [
        "# Fit the best model"
      ]
    },
    {
      "cell_type": "code",
      "execution_count": 116,
      "metadata": {
        "id": "VSusbgbGdLf5"
      },
      "outputs": [],
      "source": [
        "# Store the best_params dictionary to avoid re-running GridSearch\n",
        "best_params = {'batch_size': 128, 'drop_rate': 0.1, 'epochs': 20, 'lstm_units': 128}"
      ]
    },
    {
      "cell_type": "code",
      "execution_count": 117,
      "metadata": {
        "id": "eSNtaAd9PFhK"
      },
      "outputs": [],
      "source": [
        "# Use the best parameters to create the LSTM model\n",
        "model = create_lstm(lstm_units =best_params['lstm_units'], drop_rate = best_params['drop_rate'])"
      ]
    },
    {
      "cell_type": "code",
      "execution_count": 118,
      "metadata": {
        "id": "fhH7fOCUdeZe",
        "colab": {
          "base_uri": "https://localhost:8080/"
        },
        "outputId": "ca526a9c-85d6-43c9-830b-72ac3a33f6a3"
      },
      "outputs": [
        {
          "output_type": "stream",
          "name": "stdout",
          "text": [
            "Epoch 1/20\n",
            "87/87 [==============================] - 14s 128ms/step - loss: 3.0502e-06 - accuracy: 0.1011\n",
            "Epoch 2/20\n",
            "87/87 [==============================] - 10s 110ms/step - loss: 2.1859e-07 - accuracy: 0.0939\n",
            "Epoch 3/20\n",
            "87/87 [==============================] - 11s 128ms/step - loss: 2.5467e-07 - accuracy: 0.0966\n",
            "Epoch 4/20\n",
            "87/87 [==============================] - 11s 129ms/step - loss: 2.9646e-07 - accuracy: 0.1030\n",
            "Epoch 5/20\n",
            "87/87 [==============================] - 11s 126ms/step - loss: 2.8310e-07 - accuracy: 0.0939\n",
            "Epoch 6/20\n",
            "87/87 [==============================] - 10s 110ms/step - loss: 3.1590e-07 - accuracy: 0.0975\n",
            "Epoch 7/20\n",
            "87/87 [==============================] - 11s 130ms/step - loss: 2.6641e-07 - accuracy: 0.0981\n",
            "Epoch 8/20\n",
            "87/87 [==============================] - 11s 128ms/step - loss: 2.8930e-07 - accuracy: 0.1006\n",
            "Epoch 9/20\n",
            "87/87 [==============================] - 11s 127ms/step - loss: 3.0601e-07 - accuracy: 0.1001\n",
            "Epoch 10/20\n",
            "87/87 [==============================] - 10s 109ms/step - loss: 2.9905e-07 - accuracy: 0.0978\n",
            "Epoch 11/20\n",
            "87/87 [==============================] - 11s 129ms/step - loss: 2.8983e-07 - accuracy: 0.1027\n",
            "Epoch 12/20\n",
            "87/87 [==============================] - 11s 129ms/step - loss: 2.8577e-07 - accuracy: 0.0977\n",
            "Epoch 13/20\n",
            "87/87 [==============================] - 11s 126ms/step - loss: 2.8795e-07 - accuracy: 0.1011\n",
            "Epoch 14/20\n",
            "87/87 [==============================] - 10s 111ms/step - loss: 2.9288e-07 - accuracy: 0.1021\n",
            "Epoch 15/20\n",
            "87/87 [==============================] - 11s 131ms/step - loss: 2.7957e-07 - accuracy: 0.0995\n",
            "Epoch 16/20\n",
            "87/87 [==============================] - 11s 129ms/step - loss: 2.7514e-07 - accuracy: 0.1012\n",
            "Epoch 17/20\n",
            "87/87 [==============================] - 11s 130ms/step - loss: 3.0432e-07 - accuracy: 0.0956\n",
            "Epoch 18/20\n",
            "87/87 [==============================] - 10s 110ms/step - loss: 2.9034e-07 - accuracy: 0.0990\n",
            "Epoch 19/20\n",
            "87/87 [==============================] - 11s 129ms/step - loss: 2.6618e-07 - accuracy: 0.0958\n",
            "Epoch 20/20\n",
            "87/87 [==============================] - 11s 129ms/step - loss: 2.8005e-07 - accuracy: 0.0969\n"
          ]
        }
      ],
      "source": [
        "# Fitting the model\n",
        "history = model.fit(trainX, trainY, epochs=best_params['epochs'], batch_size=best_params['batch_size'])"
      ]
    },
    {
      "cell_type": "code",
      "execution_count": 119,
      "metadata": {
        "id": "ubiHWWhpeule",
        "colab": {
          "base_uri": "https://localhost:8080/",
          "height": 472
        },
        "outputId": "81019c50-a7a9-4e23-c83b-ae9416bc3ad3"
      },
      "outputs": [
        {
          "output_type": "display_data",
          "data": {
            "text/plain": [
              "<Figure size 640x480 with 1 Axes>"
            ],
            "image/png": "[encoded data removed]"
          },
          "metadata": {}
        }
      ],
      "source": [
        "# Plot the loss over the epochs\n",
        "plt.plot(history.history['loss'])\n",
        "plt.title('LSTM Model Loss')\n",
        "plt.xlabel('Epochs')\n",
        "plt.ylabel('Loss')\n",
        "plt.show()"
      ]
    },
    {
      "cell_type": "code",
      "execution_count": 120,
      "metadata": {
        "id": "az2mlRPnpGsG",
        "colab": {
          "base_uri": "https://localhost:8080/"
        },
        "outputId": "72bffa0a-3b6c-4310-b0a5-12480bc8af11"
      },
      "outputs": [
        {
          "output_type": "stream",
          "name": "stdout",
          "text": [
            "86/86 [==============================] - 2s 20ms/step\n"
          ]
        }
      ],
      "source": [
        "# Predict the model using test X data\n",
        "y_pred = model.predict(testX)"
      ]
    },
    {
      "cell_type": "code",
      "execution_count": 121,
      "metadata": {
        "id": "GBL5iSkhpPCx",
        "colab": {
          "base_uri": "https://localhost:8080/"
        },
        "outputId": "7b5357b2-ba19-433a-83a1-3a379bb026da"
      },
      "outputs": [
        {
          "output_type": "execute_result",
          "data": {
            "text/plain": [
              "array([[ 5.1671050e-05,  4.9854442e-04, -4.3967222e-05, ...,\n",
              "        -2.2887111e-04, -1.8325476e-04,  2.2694639e-04],\n",
              "       [ 5.3166361e-05,  5.0075096e-04, -3.9639686e-05, ...,\n",
              "        -2.2508814e-04, -1.8212528e-04,  2.2782733e-04],\n",
              "       [ 5.3613097e-05,  5.0139363e-04, -3.8793056e-05, ...,\n",
              "        -2.2455545e-04, -1.8165240e-04,  2.2771415e-04],\n",
              "       ...,\n",
              "       [ 5.6478217e-05,  5.0558930e-04, -3.2804055e-05, ...,\n",
              "        -2.2059673e-04, -1.7844481e-04,  2.2705611e-04],\n",
              "       [ 5.3731368e-05,  5.0164730e-04, -4.0559033e-05, ...,\n",
              "        -2.2743984e-04, -1.8035750e-04,  2.2528568e-04],\n",
              "       [ 5.3319971e-05,  5.0110370e-04, -4.0987048e-05, ...,\n",
              "        -2.2753169e-04, -1.8077495e-04,  2.2551845e-04]], dtype=float32)"
            ]
          },
          "metadata": {},
          "execution_count": 121
        }
      ],
      "source": [
        "# Get a sense of how y_pred looks like\n",
        "y_pred"
      ]
    },
    {
      "cell_type": "code",
      "execution_count": 122,
      "metadata": {
        "id": "g8gjZGA1k2xL",
        "colab": {
          "base_uri": "https://localhost:8080/"
        },
        "outputId": "973808ae-ebe7-4132-9886-83c1aad1085d"
      },
      "outputs": [
        {
          "output_type": "stream",
          "name": "stdout",
          "text": [
            "(2739, 10)\n"
          ]
        }
      ],
      "source": [
        "print(y_pred.shape)"
      ]
    },
    {
      "cell_type": "markdown",
      "metadata": {
        "id": "b4nspxNCe9m6"
      },
      "source": [
        "###Compute the MSE and RMSE"
      ]
    },
    {
      "cell_type": "code",
      "execution_count": 123,
      "metadata": {
        "id": "PI-cQw4BqdQA",
        "colab": {
          "base_uri": "https://localhost:8080/"
        },
        "outputId": "393125e7-b8ac-4094-d424-6f16e46493f7"
      },
      "outputs": [
        {
          "output_type": "stream",
          "name": "stdout",
          "text": [
            "MSE: 1.7407665814709175e-07\n",
            "RMSE: 0.0004172249490947201\n"
          ]
        }
      ],
      "source": [
        "mse = mean_squared_error(testY, y_pred)\n",
        "rmse = math.sqrt(mse)\n",
        "print(\"MSE:\",mse)\n",
        "print(\"RMSE:\", rmse)"
      ]
    },
    {
      "cell_type": "code",
      "execution_count": 124,
      "metadata": {
        "id": "qOq9vaee7_iY",
        "colab": {
          "base_uri": "https://localhost:8080/",
          "height": 452
        },
        "outputId": "2fbe869f-ac56-42bf-ac22-a4692f60bb14"
      },
      "outputs": [
        {
          "output_type": "display_data",
          "data": {
            "text/plain": [
              "<Figure size 640x480 with 1 Axes>"
            ],
            "image/png": "[encoded data removed]"
          },
          "metadata": {}
        }
      ],
      "source": [
        "# Plot one prediction against test data\n",
        "plt.plot(testY[3], color = \"b\", label = \"True\")\n",
        "plt.plot(y_pred[3], color = \"r\", label = \"Pred\")\n",
        "plt.title('Original Data vs. Predicted Data')\n",
        "plt.legend()\n",
        "plt.show()"
      ]
    },
    {
      "cell_type": "markdown",
      "metadata": {
        "id": "JSzxo5dwOK3M"
      },
      "source": [
        "# Get a single prediction"
      ]
    },
    {
      "cell_type": "code",
      "execution_count": 149,
      "metadata": {
        "id": "X629cmFRr0gz",
        "colab": {
          "base_uri": "https://localhost:8080/"
        },
        "outputId": "72285bcd-7367-421f-f14a-acd9f1b35c74"
      },
      "outputs": [
        {
          "output_type": "execute_result",
          "data": {
            "text/plain": [
              "(1, 50, 1)"
            ]
          },
          "metadata": {},
          "execution_count": 149
        }
      ],
      "source": [
        "# Extract a single observation\n",
        "single = testX[50].reshape(1, testX[50].shape[0], testX[50].shape[1])\n",
        "single.shape"
      ]
    },
    {
      "cell_type": "code",
      "execution_count": 150,
      "metadata": {
        "id": "YwegLZDMrY12",
        "colab": {
          "base_uri": "https://localhost:8080/"
        },
        "outputId": "8bcf97ee-4fd0-471e-ea71-d142d45ec6f7"
      },
      "outputs": [
        {
          "output_type": "stream",
          "name": "stdout",
          "text": [
            "1/1 [==============================] - 0s 26ms/step\n"
          ]
        }
      ],
      "source": [
        "# Make a prediction\n",
        "single_pred = model.predict(single)"
      ]
    },
    {
      "cell_type": "code",
      "execution_count": 151,
      "metadata": {
        "id": "rpbzaq9usORU",
        "colab": {
          "base_uri": "https://localhost:8080/"
        },
        "outputId": "cf068783-aeb7-457d-af18-99ea13310291"
      },
      "outputs": [
        {
          "output_type": "execute_result",
          "data": {
            "text/plain": [
              "array([[ 5.4270778e-05,  5.0233962e-04, -3.7395344e-05,  3.9264116e-05,\n",
              "         3.7722845e-04,  2.5269901e-04,  1.5125718e-04, -2.2338238e-04,\n",
              "        -1.8071194e-04,  2.2763587e-04]], dtype=float32)"
            ]
          },
          "metadata": {},
          "execution_count": 151
        }
      ],
      "source": [
        "single_pred"
      ]
    },
    {
      "cell_type": "code",
      "execution_count": 152,
      "metadata": {
        "id": "IDQHsWL0sgDK",
        "colab": {
          "base_uri": "https://localhost:8080/"
        },
        "outputId": "673b79dd-c72f-455f-f57f-2b99bcd9f25e"
      },
      "outputs": [
        {
          "output_type": "execute_result",
          "data": {
            "text/plain": [
              "(1, 10)"
            ]
          },
          "metadata": {},
          "execution_count": 152
        }
      ],
      "source": [
        "single_pred.shape"
      ]
    },
    {
      "cell_type": "code",
      "execution_count": 153,
      "metadata": {
        "id": "NsQ9vqz7slkN",
        "colab": {
          "base_uri": "https://localhost:8080/"
        },
        "outputId": "4bbcd6d4-5248-4d7c-ccc6-09ef8d3c8a0e"
      },
      "outputs": [
        {
          "output_type": "execute_result",
          "data": {
            "text/plain": [
              "(1, 10)"
            ]
          },
          "metadata": {},
          "execution_count": 153
        }
      ],
      "source": [
        "# Get the corresponding test array\n",
        "single_test = testY[50].reshape(1, testY.shape[1])\n",
        "single_test.shape"
      ]
    },
    {
      "cell_type": "markdown",
      "metadata": {
        "id": "54842BOdfaSU"
      },
      "source": [
        "###Compute the MSE"
      ]
    },
    {
      "cell_type": "code",
      "execution_count": 154,
      "metadata": {
        "id": "mKrlfvOXsUDr",
        "colab": {
          "base_uri": "https://localhost:8080/"
        },
        "outputId": "f6c5f5ea-80ba-4a6d-da49-5facae45f89a"
      },
      "outputs": [
        {
          "output_type": "stream",
          "name": "stdout",
          "text": [
            "MSE: 1.897658968846099e-07\n",
            "RMSE: 0.00043562127689612443\n"
          ]
        }
      ],
      "source": [
        "mse = mean_squared_error(single_test, single_pred)\n",
        "print(\"MSE:\", mse)\n",
        "print(\"RMSE:\", np.sqrt(mse))"
      ]
    },
    {
      "cell_type": "code",
      "execution_count": 155,
      "metadata": {
        "id": "5rPr2O_WtLOG",
        "colab": {
          "base_uri": "https://localhost:8080/",
          "height": 472
        },
        "outputId": "25418705-7cde-4fbc-e613-93db3ec1854f"
      },
      "outputs": [
        {
          "output_type": "display_data",
          "data": {
            "text/plain": [
              "<Figure size 640x480 with 1 Axes>"
            ],
            "image/png": "[encoded data removed]"
          },
          "metadata": {}
        }
      ],
      "source": [
        "# Plot\n",
        "plt.plot(list(range(49,60)), np.insert(single_test.reshape(10,), 0, single[0,49,0]), label='Test')\n",
        "plt.plot(list(range(49,60)), np.insert(single_pred.reshape(10,), 0, single[0,49,0]), label='Pred')\n",
        "plt.plot(list(range(0,50)), single.reshape(50,), label='Train')\n",
        "\n",
        "\n",
        "# Set plot labels and title\n",
        "plt.xlabel('Time')\n",
        "plt.ylabel('Value')\n",
        "plt.title('Original Data vs. Predicted Data')\n",
        "\n",
        "# Add legend\n",
        "plt.legend()\n",
        "\n",
        "# Display the plot\n",
        "plt.show()"
      ]
    },
    {
      "cell_type": "markdown",
      "metadata": {
        "id": "hfaFQFMBf04b"
      },
      "source": [
        "#Plot the predictions"
      ]
    },
    {
      "cell_type": "code",
      "execution_count": 156,
      "metadata": {
        "id": "7nIjY36rff5-"
      },
      "outputs": [],
      "source": [
        "# Indexing data \n",
        "times_exploded = []\n",
        "forecast_len = testY.shape[1]\n",
        "idx_list = data.index.to_list()\n",
        "\n",
        "for i in range(len(data.index) - forecast_len):\n",
        "  times_exploded.append(pd.to_datetime(idx_list[i : i + forecast_len]))"
      ]
    },
    {
      "cell_type": "code",
      "execution_count": 157,
      "metadata": {
        "id": "I0Bhn2yWdJlh",
        "colab": {
          "base_uri": "https://localhost:8080/",
          "height": 359
        },
        "outputId": "dcf00af3-0ae3-48ee-e1cf-9a819b47782a"
      },
      "outputs": [
        {
          "output_type": "execute_result",
          "data": {
            "text/plain": [
              "<matplotlib.legend.Legend at 0x7f80533ab580>"
            ]
          },
          "metadata": {},
          "execution_count": 157
        },
        {
          "output_type": "display_data",
          "data": {
            "text/plain": [
              "<Figure size 1400x600 with 1 Axes>"
            ],
            "image/png": "[encoded data removed]"
          },
          "metadata": {}
        }
      ],
      "source": [
        "# Plot the log returns\n",
        "\n",
        "# Define dates\n",
        "start_time = pd.to_datetime(\"2023-05-12 16:30\")\n",
        "end_time = pd.to_datetime(\"2023-05-12 19:00\")\n",
        "\n",
        "# Adjust x-axis limits\n",
        "ax = (data.iloc[-len(y_pred):]).plot(\n",
        "    style=\"-\",\n",
        "    title=\"True vs. Predicted Log Returns\",\n",
        "    xlabel=\"Date\",\n",
        "    ylabel=\"Nasdaq-100 Index Log Returns\",\n",
        "    xlim=[start_time, end_time],\n",
        "    figsize=(14, 6))\n",
        "\n",
        "times = times_exploded[-len(y_pred):]\n",
        "for idx in range(10, len(y_pred), 20):\n",
        "  plt.plot(times[idx], y_pred[idx], color = 'r')\n",
        "\n",
        "# Add legend \n",
        "ax.legend()"
      ]
    }
  ],
  "metadata": {
    "colab": {
      "provenance": []
    },
    "kernelspec": {
      "display_name": "Python 3",
      "name": "python3"
    },
    "language_info": {
      "name": "python"
    }
  },
  "nbformat": 4,
  "nbformat_minor": 0
}
