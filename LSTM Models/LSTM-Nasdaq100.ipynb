{
  "cells": [
    {
      "cell_type": "markdown",
      "metadata": {
        "id": "9Lkjrqp08EeV"
      },
      "source": [
        "# LSTM - Nasdaq-100 data"
      ]
    },
    {
      "cell_type": "markdown",
      "metadata": {
        "id": "mas87hWgHYgq"
      },
      "source": [
        "**Notebook Summary**"
      ]
    },
    {
      "cell_type": "markdown",
      "metadata": {
        "id": "YBNdC5JZHeo0"
      },
      "source": [
        "\n",
        "**Granularity**: minute data\n",
        "\n",
        "**Source**: Refinitiv\n",
        "\n",
        "**Time period**: 03-01-2023 / 05-15-2023\n",
        "\n",
        "**Model**: LSTM"
      ]
    },
    {
      "cell_type": "markdown",
      "metadata": {
        "id": "ZqDTXuDMjbve"
      },
      "source": [
        "#Importing libraries"
      ]
    },
    {
      "cell_type": "code",
      "execution_count": 1,
      "metadata": {
        "id": "uNBd2DsX0TF-"
      },
      "outputs": [],
      "source": [
        "# Standard libraries\n",
        "import warnings\n",
        "warnings.filterwarnings(\"ignore\")\n",
        "import io\n",
        "import math\n",
        "import pandas as pd\n",
        "import numpy as np\n",
        "import datetime\n",
        "from datetime import time\n",
        "\n",
        "# Keras\n",
        "import keras\n",
        "from keras.layers import *\n",
        "from keras.models import Sequential\n",
        "from keras.wrappers.scikit_learn import KerasRegressor\n",
        "\n",
        "# Sklearn\n",
        "from sklearn.metrics import *\n",
        "from sklearn.model_selection import train_test_split\n",
        "from sklearn.model_selection import TimeSeriesSplit\n",
        "from sklearn.model_selection import GridSearchCV\n",
        "from sklearn.model_selection import cross_val_score\n",
        "\n",
        "# Plot\n",
        "%matplotlib inline\n",
        "import matplotlib.pyplot as plt\n",
        "import seaborn as sns"
      ]
    },
    {
      "cell_type": "code",
      "execution_count": 2,
      "metadata": {
        "id": "9EVLwd950VIx",
        "colab": {
          "base_uri": "https://localhost:8080/"
        },
        "outputId": "ab490ee7-54fc-4cbf-b3df-f5c338e82088"
      },
      "outputs": [
        {
          "output_type": "stream",
          "name": "stdout",
          "text": [
            "Mounted at /content/drive\n"
          ]
        }
      ],
      "source": [
        "from google.colab import drive\n",
        "drive.mount('/content/drive')"
      ]
    },
    {
      "cell_type": "code",
      "execution_count": 3,
      "metadata": {
        "id": "Dce3UOGp0Wp_",
        "colab": {
          "base_uri": "https://localhost:8080/",
          "height": 73
        },
        "outputId": "646d6e31-06bf-491e-fb0f-b18fb4f628d3"
      },
      "outputs": [
        {
          "output_type": "display_data",
          "data": {
            "text/plain": [
              "<IPython.core.display.HTML object>"
            ],
            "text/html": [
              "\n",
              "     <input type=\"file\" id=\"files-7f278e27-5e56-448f-8ce4-639fa7214a6f\" name=\"files[]\" multiple disabled\n",
              "        style=\"border:none\" />\n",
              "     <output id=\"result-7f278e27-5e56-448f-8ce4-639fa7214a6f\">\n",
              "      Upload widget is only available when the cell has been executed in the\n",
              "      current browser session. Please rerun this cell to enable.\n",
              "      </output>\n",
              "      <script>// Copyright 2017 Google LLC\n",
              "//\n",
              "// Licensed under the Apache License, Version 2.0 (the \"License\");\n",
              "// you may not use this file except in compliance with the License.\n",
              "// You may obtain a copy of the License at\n",
              "//\n",
              "//      http://www.apache.org/licenses/LICENSE-2.0\n",
              "//\n",
              "// Unless required by applicable law or agreed to in writing, software\n",
              "// distributed under the License is distributed on an \"AS IS\" BASIS,\n",
              "// WITHOUT WARRANTIES OR CONDITIONS OF ANY KIND, either express or implied.\n",
              "// See the License for the specific language governing permissions and\n",
              "// limitations under the License.\n",
              "\n",
              "/**\n",
              " * @fileoverview Helpers for google.colab Python module.\n",
              " */\n",
              "(function(scope) {\n",
              "function span(text, styleAttributes = {}) {\n",
              "  const element = document.createElement('span');\n",
              "  element.textContent = text;\n",
              "  for (const key of Object.keys(styleAttributes)) {\n",
              "    element.style[key] = styleAttributes[key];\n",
              "  }\n",
              "  return element;\n",
              "}\n",
              "\n",
              "// Max number of bytes which will be uploaded at a time.\n",
              "const MAX_PAYLOAD_SIZE = 100 * 1024;\n",
              "\n",
              "function _uploadFiles(inputId, outputId) {\n",
              "  const steps = uploadFilesStep(inputId, outputId);\n",
              "  const outputElement = document.getElementById(outputId);\n",
              "  // Cache steps on the outputElement to make it available for the next call\n",
              "  // to uploadFilesContinue from Python.\n",
              "  outputElement.steps = steps;\n",
              "\n",
              "  return _uploadFilesContinue(outputId);\n",
              "}\n",
              "\n",
              "// This is roughly an async generator (not supported in the browser yet),\n",
              "// where there are multiple asynchronous steps and the Python side is going\n",
              "// to poll for completion of each step.\n",
              "// This uses a Promise to block the python side on completion of each step,\n",
              "// then passes the result of the previous step as the input to the next step.\n",
              "function _uploadFilesContinue(outputId) {\n",
              "  const outputElement = document.getElementById(outputId);\n",
              "  const steps = outputElement.steps;\n",
              "\n",
              "  const next = steps.next(outputElement.lastPromiseValue);\n",
              "  return Promise.resolve(next.value.promise).then((value) => {\n",
              "    // Cache the last promise value to make it available to the next\n",
              "    // step of the generator.\n",
              "    outputElement.lastPromiseValue = value;\n",
              "    return next.value.response;\n",
              "  });\n",
              "}\n",
              "\n",
              "/**\n",
              " * Generator function which is called between each async step of the upload\n",
              " * process.\n",
              " * @param {string} inputId Element ID of the input file picker element.\n",
              " * @param {string} outputId Element ID of the output display.\n",
              " * @return {!Iterable<!Object>} Iterable of next steps.\n",
              " */\n",
              "function* uploadFilesStep(inputId, outputId) {\n",
              "  const inputElement = document.getElementById(inputId);\n",
              "  inputElement.disabled = false;\n",
              "\n",
              "  const outputElement = document.getElementById(outputId);\n",
              "  outputElement.innerHTML = '';\n",
              "\n",
              "  const pickedPromise = new Promise((resolve) => {\n",
              "    inputElement.addEventListener('change', (e) => {\n",
              "      resolve(e.target.files);\n",
              "    });\n",
              "  });\n",
              "\n",
              "  const cancel = document.createElement('button');\n",
              "  inputElement.parentElement.appendChild(cancel);\n",
              "  cancel.textContent = 'Cancel upload';\n",
              "  const cancelPromise = new Promise((resolve) => {\n",
              "    cancel.onclick = () => {\n",
              "      resolve(null);\n",
              "    };\n",
              "  });\n",
              "\n",
              "  // Wait for the user to pick the files.\n",
              "  const files = yield {\n",
              "    promise: Promise.race([pickedPromise, cancelPromise]),\n",
              "    response: {\n",
              "      action: 'starting',\n",
              "    }\n",
              "  };\n",
              "\n",
              "  cancel.remove();\n",
              "\n",
              "  // Disable the input element since further picks are not allowed.\n",
              "  inputElement.disabled = true;\n",
              "\n",
              "  if (!files) {\n",
              "    return {\n",
              "      response: {\n",
              "        action: 'complete',\n",
              "      }\n",
              "    };\n",
              "  }\n",
              "\n",
              "  for (const file of files) {\n",
              "    const li = document.createElement('li');\n",
              "    li.append(span(file.name, {fontWeight: 'bold'}));\n",
              "    li.append(span(\n",
              "        `(${file.type || 'n/a'}) - ${file.size} bytes, ` +\n",
              "        `last modified: ${\n",
              "            file.lastModifiedDate ? file.lastModifiedDate.toLocaleDateString() :\n",
              "                                    'n/a'} - `));\n",
              "    const percent = span('0% done');\n",
              "    li.appendChild(percent);\n",
              "\n",
              "    outputElement.appendChild(li);\n",
              "\n",
              "    const fileDataPromise = new Promise((resolve) => {\n",
              "      const reader = new FileReader();\n",
              "      reader.onload = (e) => {\n",
              "        resolve(e.target.result);\n",
              "      };\n",
              "      reader.readAsArrayBuffer(file);\n",
              "    });\n",
              "    // Wait for the data to be ready.\n",
              "    let fileData = yield {\n",
              "      promise: fileDataPromise,\n",
              "      response: {\n",
              "        action: 'continue',\n",
              "      }\n",
              "    };\n",
              "\n",
              "    // Use a chunked sending to avoid message size limits. See b/62115660.\n",
              "    let position = 0;\n",
              "    do {\n",
              "      const length = Math.min(fileData.byteLength - position, MAX_PAYLOAD_SIZE);\n",
              "      const chunk = new Uint8Array(fileData, position, length);\n",
              "      position += length;\n",
              "\n",
              "      const base64 = btoa(String.fromCharCode.apply(null, chunk));\n",
              "      yield {\n",
              "        response: {\n",
              "          action: 'append',\n",
              "          file: file.name,\n",
              "          data: base64,\n",
              "        },\n",
              "      };\n",
              "\n",
              "      let percentDone = fileData.byteLength === 0 ?\n",
              "          100 :\n",
              "          Math.round((position / fileData.byteLength) * 100);\n",
              "      percent.textContent = `${percentDone}% done`;\n",
              "\n",
              "    } while (position < fileData.byteLength);\n",
              "  }\n",
              "\n",
              "  // All done.\n",
              "  yield {\n",
              "    response: {\n",
              "      action: 'complete',\n",
              "    }\n",
              "  };\n",
              "}\n",
              "\n",
              "scope.google = scope.google || {};\n",
              "scope.google.colab = scope.google.colab || {};\n",
              "scope.google.colab._files = {\n",
              "  _uploadFiles,\n",
              "  _uploadFilesContinue,\n",
              "};\n",
              "})(self);\n",
              "</script> "
            ]
          },
          "metadata": {}
        },
        {
          "output_type": "stream",
          "name": "stdout",
          "text": [
            "Saving nasdaq100-ultimo.xlsx to nasdaq100-ultimo.xlsx\n"
          ]
        }
      ],
      "source": [
        "from google.colab import files\n",
        "uploaded = files.upload()"
      ]
    },
    {
      "cell_type": "markdown",
      "metadata": {
        "id": "CCb-JVdk1H_4"
      },
      "source": [
        "# Load data\n"
      ]
    },
    {
      "cell_type": "code",
      "execution_count": 4,
      "metadata": {
        "id": "_nqr6DcM0YUn"
      },
      "outputs": [],
      "source": [
        "# Import raw data\n",
        "data = pd.read_excel(io.BytesIO(uploaded['nasdaq100-ultimo.xlsx']))"
      ]
    },
    {
      "cell_type": "markdown",
      "metadata": {
        "id": "fpK1aPtIXsjZ"
      },
      "source": [
        "# Exploratory analysis"
      ]
    },
    {
      "cell_type": "code",
      "execution_count": 5,
      "metadata": {
        "colab": {
          "base_uri": "https://localhost:8080/",
          "height": 206
        },
        "id": "oginbw0v0cRO",
        "outputId": "c504ac48-373e-4fca-d6ba-009954c0e8ec"
      },
      "outputs": [
        {
          "output_type": "execute_result",
          "data": {
            "text/plain": [
              "           Local Date          Local Time      Close    Net      %Chg  \\\n",
              "0 2023-05-15 21:00:00 2023-05-15 21:00:00  13414.978  7.340  0.000547   \n",
              "1 2023-05-15 20:59:00 2023-05-15 20:59:00  13407.638 -0.568 -0.000042   \n",
              "2 2023-05-15 20:58:00 2023-05-15 20:58:00  13408.206  3.740  0.000279   \n",
              "3 2023-05-15 20:57:00 2023-05-15 20:57:00  13404.466  2.494  0.000186   \n",
              "4 2023-05-15 20:56:00 2023-05-15 20:56:00  13401.972 -5.011 -0.000374   \n",
              "\n",
              "        Open        Low       High   Volume  \n",
              "0  13408.672  13406.831  13414.978  5872939  \n",
              "1  13408.515  13406.908  13408.515  2578428  \n",
              "2  13404.600  13403.706  13408.901  1856072  \n",
              "3  13401.677  13401.473  13405.016  1457454  \n",
              "4  13404.145  13400.701  13404.145  1705538  "
            ],
            "text/html": [
              "\n",
              "  <div id=\"df-e4f012b9-0498-4f60-8028-c0783b64e5f6\">\n",
              "    <div class=\"colab-df-container\">\n",
              "      <div>\n",
              "<style scoped>\n",
              "    .dataframe tbody tr th:only-of-type {\n",
              "        vertical-align: middle;\n",
              "    }\n",
              "\n",
              "    .dataframe tbody tr th {\n",
              "        vertical-align: top;\n",
              "    }\n",
              "\n",
              "    .dataframe thead th {\n",
              "        text-align: right;\n",
              "    }\n",
              "</style>\n",
              "<table border=\"1\" class=\"dataframe\">\n",
              "  <thead>\n",
              "    <tr style=\"text-align: right;\">\n",
              "      <th></th>\n",
              "      <th>Local Date</th>\n",
              "      <th>Local Time</th>\n",
              "      <th>Close</th>\n",
              "      <th>Net</th>\n",
              "      <th>%Chg</th>\n",
              "      <th>Open</th>\n",
              "      <th>Low</th>\n",
              "      <th>High</th>\n",
              "      <th>Volume</th>\n",
              "    </tr>\n",
              "  </thead>\n",
              "  <tbody>\n",
              "    <tr>\n",
              "      <th>0</th>\n",
              "      <td>2023-05-15 21:00:00</td>\n",
              "      <td>2023-05-15 21:00:00</td>\n",
              "      <td>13414.978</td>\n",
              "      <td>7.340</td>\n",
              "      <td>0.000547</td>\n",
              "      <td>13408.672</td>\n",
              "      <td>13406.831</td>\n",
              "      <td>13414.978</td>\n",
              "      <td>5872939</td>\n",
              "    </tr>\n",
              "    <tr>\n",
              "      <th>1</th>\n",
              "      <td>2023-05-15 20:59:00</td>\n",
              "      <td>2023-05-15 20:59:00</td>\n",
              "      <td>13407.638</td>\n",
              "      <td>-0.568</td>\n",
              "      <td>-0.000042</td>\n",
              "      <td>13408.515</td>\n",
              "      <td>13406.908</td>\n",
              "      <td>13408.515</td>\n",
              "      <td>2578428</td>\n",
              "    </tr>\n",
              "    <tr>\n",
              "      <th>2</th>\n",
              "      <td>2023-05-15 20:58:00</td>\n",
              "      <td>2023-05-15 20:58:00</td>\n",
              "      <td>13408.206</td>\n",
              "      <td>3.740</td>\n",
              "      <td>0.000279</td>\n",
              "      <td>13404.600</td>\n",
              "      <td>13403.706</td>\n",
              "      <td>13408.901</td>\n",
              "      <td>1856072</td>\n",
              "    </tr>\n",
              "    <tr>\n",
              "      <th>3</th>\n",
              "      <td>2023-05-15 20:57:00</td>\n",
              "      <td>2023-05-15 20:57:00</td>\n",
              "      <td>13404.466</td>\n",
              "      <td>2.494</td>\n",
              "      <td>0.000186</td>\n",
              "      <td>13401.677</td>\n",
              "      <td>13401.473</td>\n",
              "      <td>13405.016</td>\n",
              "      <td>1457454</td>\n",
              "    </tr>\n",
              "    <tr>\n",
              "      <th>4</th>\n",
              "      <td>2023-05-15 20:56:00</td>\n",
              "      <td>2023-05-15 20:56:00</td>\n",
              "      <td>13401.972</td>\n",
              "      <td>-5.011</td>\n",
              "      <td>-0.000374</td>\n",
              "      <td>13404.145</td>\n",
              "      <td>13400.701</td>\n",
              "      <td>13404.145</td>\n",
              "      <td>1705538</td>\n",
              "    </tr>\n",
              "  </tbody>\n",
              "</table>\n",
              "</div>\n",
              "      <button class=\"colab-df-convert\" onclick=\"convertToInteractive('df-e4f012b9-0498-4f60-8028-c0783b64e5f6')\"\n",
              "              title=\"Convert this dataframe to an interactive table.\"\n",
              "              style=\"display:none;\">\n",
              "        \n",
              "  <svg xmlns=\"http://www.w3.org/2000/svg\" height=\"24px\"viewBox=\"0 0 24 24\"\n",
              "       width=\"24px\">\n",
              "    <path d=\"M0 0h24v24H0V0z\" fill=\"none\"/>\n",
              "    <path d=\"M18.56 5.44l.94 2.06.94-2.06 2.06-.94-2.06-.94-.94-2.06-.94 2.06-2.06.94zm-11 1L8.5 8.5l.94-2.06 2.06-.94-2.06-.94L8.5 2.5l-.94 2.06-2.06.94zm10 10l.94 2.06.94-2.06 2.06-.94-2.06-.94-.94-2.06-.94 2.06-2.06.94z\"/><path d=\"M17.41 7.96l-1.37-1.37c-.4-.4-.92-.59-1.43-.59-.52 0-1.04.2-1.43.59L10.3 9.45l-7.72 7.72c-.78.78-.78 2.05 0 2.83L4 21.41c.39.39.9.59 1.41.59.51 0 1.02-.2 1.41-.59l7.78-7.78 2.81-2.81c.8-.78.8-2.07 0-2.86zM5.41 20L4 18.59l7.72-7.72 1.47 1.35L5.41 20z\"/>\n",
              "  </svg>\n",
              "      </button>\n",
              "      \n",
              "  <style>\n",
              "    .colab-df-container {\n",
              "      display:flex;\n",
              "      flex-wrap:wrap;\n",
              "      gap: 12px;\n",
              "    }\n",
              "\n",
              "    .colab-df-convert {\n",
              "      background-color: #E8F0FE;\n",
              "      border: none;\n",
              "      border-radius: 50%;\n",
              "      cursor: pointer;\n",
              "      display: none;\n",
              "      fill: #1967D2;\n",
              "      height: 32px;\n",
              "      padding: 0 0 0 0;\n",
              "      width: 32px;\n",
              "    }\n",
              "\n",
              "    .colab-df-convert:hover {\n",
              "      background-color: #E2EBFA;\n",
              "      box-shadow: 0px 1px 2px rgba(60, 64, 67, 0.3), 0px 1px 3px 1px rgba(60, 64, 67, 0.15);\n",
              "      fill: #174EA6;\n",
              "    }\n",
              "\n",
              "    [theme=dark] .colab-df-convert {\n",
              "      background-color: #3B4455;\n",
              "      fill: #D2E3FC;\n",
              "    }\n",
              "\n",
              "    [theme=dark] .colab-df-convert:hover {\n",
              "      background-color: #434B5C;\n",
              "      box-shadow: 0px 1px 3px 1px rgba(0, 0, 0, 0.15);\n",
              "      filter: drop-shadow(0px 1px 2px rgba(0, 0, 0, 0.3));\n",
              "      fill: #FFFFFF;\n",
              "    }\n",
              "  </style>\n",
              "\n",
              "      <script>\n",
              "        const buttonEl =\n",
              "          document.querySelector('#df-e4f012b9-0498-4f60-8028-c0783b64e5f6 button.colab-df-convert');\n",
              "        buttonEl.style.display =\n",
              "          google.colab.kernel.accessAllowed ? 'block' : 'none';\n",
              "\n",
              "        async function convertToInteractive(key) {\n",
              "          const element = document.querySelector('#df-e4f012b9-0498-4f60-8028-c0783b64e5f6');\n",
              "          const dataTable =\n",
              "            await google.colab.kernel.invokeFunction('convertToInteractive',\n",
              "                                                     [key], {});\n",
              "          if (!dataTable) return;\n",
              "\n",
              "          const docLinkHtml = 'Like what you see? Visit the ' +\n",
              "            '<a target=\"_blank\" href=https://colab.research.google.com/notebooks/data_table.ipynb>data table notebook</a>'\n",
              "            + ' to learn more about interactive tables.';\n",
              "          element.innerHTML = '';\n",
              "          dataTable['output_type'] = 'display_data';\n",
              "          await google.colab.output.renderOutput(dataTable, element);\n",
              "          const docLink = document.createElement('div');\n",
              "          docLink.innerHTML = docLinkHtml;\n",
              "          element.appendChild(docLink);\n",
              "        }\n",
              "      </script>\n",
              "    </div>\n",
              "  </div>\n",
              "  "
            ]
          },
          "metadata": {},
          "execution_count": 5
        }
      ],
      "source": [
        "data.head()"
      ]
    },
    {
      "cell_type": "code",
      "execution_count": 6,
      "metadata": {
        "colab": {
          "base_uri": "https://localhost:8080/"
        },
        "id": "kZZFwtURP8Ft",
        "outputId": "5e3b6bd0-89c1-4c3e-ef5b-2f8271d06bf4"
      },
      "outputs": [
        {
          "output_type": "stream",
          "name": "stdout",
          "text": [
            "<class 'pandas.core.frame.DataFrame'>\n",
            "RangeIndex: 32641 entries, 0 to 32640\n",
            "Data columns (total 9 columns):\n",
            " #   Column      Non-Null Count  Dtype         \n",
            "---  ------      --------------  -----         \n",
            " 0   Local Date  32641 non-null  datetime64[ns]\n",
            " 1   Local Time  32641 non-null  datetime64[ns]\n",
            " 2   Close       32641 non-null  float64       \n",
            " 3   Net         32640 non-null  float64       \n",
            " 4   %Chg        32640 non-null  float64       \n",
            " 5   Open        32641 non-null  float64       \n",
            " 6   Low         32641 non-null  float64       \n",
            " 7   High        32641 non-null  float64       \n",
            " 8   Volume      32641 non-null  int64         \n",
            "dtypes: datetime64[ns](2), float64(6), int64(1)\n",
            "memory usage: 2.2 MB\n"
          ]
        }
      ],
      "source": [
        "data.info()"
      ]
    },
    {
      "cell_type": "code",
      "execution_count": 7,
      "metadata": {
        "id": "bisu7cu5Y_5x"
      },
      "outputs": [],
      "source": [
        "# Set a time index\n",
        "data.set_index('Local Time', inplace = True)\n",
        "data = data[['Close']]\n",
        "data.sort_index(inplace = True)"
      ]
    },
    {
      "cell_type": "code",
      "source": [
        "data"
      ],
      "metadata": {
        "colab": {
          "base_uri": "https://localhost:8080/",
          "height": 455
        },
        "id": "vAZ8iGbPSfIZ",
        "outputId": "1ce75b41-af1a-494b-d0bd-73d9507e07f0"
      },
      "execution_count": 8,
      "outputs": [
        {
          "output_type": "execute_result",
          "data": {
            "text/plain": [
              "                         Close\n",
              "Local Time                    \n",
              "2023-03-01 14:31:00  12022.784\n",
              "2023-03-01 14:32:00  12035.656\n",
              "2023-03-01 14:33:00  12023.583\n",
              "2023-03-01 14:34:00  12009.438\n",
              "2023-03-01 14:35:00  12003.977\n",
              "...                        ...\n",
              "2023-05-15 20:56:00  13401.972\n",
              "2023-05-15 20:57:00  13404.466\n",
              "2023-05-15 20:58:00  13408.206\n",
              "2023-05-15 20:59:00  13407.638\n",
              "2023-05-15 21:00:00  13414.978\n",
              "\n",
              "[32641 rows x 1 columns]"
            ],
            "text/html": [
              "\n",
              "  <div id=\"df-b9eada40-a3c8-4f14-9eef-e4daed595fca\">\n",
              "    <div class=\"colab-df-container\">\n",
              "      <div>\n",
              "<style scoped>\n",
              "    .dataframe tbody tr th:only-of-type {\n",
              "        vertical-align: middle;\n",
              "    }\n",
              "\n",
              "    .dataframe tbody tr th {\n",
              "        vertical-align: top;\n",
              "    }\n",
              "\n",
              "    .dataframe thead th {\n",
              "        text-align: right;\n",
              "    }\n",
              "</style>\n",
              "<table border=\"1\" class=\"dataframe\">\n",
              "  <thead>\n",
              "    <tr style=\"text-align: right;\">\n",
              "      <th></th>\n",
              "      <th>Close</th>\n",
              "    </tr>\n",
              "    <tr>\n",
              "      <th>Local Time</th>\n",
              "      <th></th>\n",
              "    </tr>\n",
              "  </thead>\n",
              "  <tbody>\n",
              "    <tr>\n",
              "      <th>2023-03-01 14:31:00</th>\n",
              "      <td>12022.784</td>\n",
              "    </tr>\n",
              "    <tr>\n",
              "      <th>2023-03-01 14:32:00</th>\n",
              "      <td>12035.656</td>\n",
              "    </tr>\n",
              "    <tr>\n",
              "      <th>2023-03-01 14:33:00</th>\n",
              "      <td>12023.583</td>\n",
              "    </tr>\n",
              "    <tr>\n",
              "      <th>2023-03-01 14:34:00</th>\n",
              "      <td>12009.438</td>\n",
              "    </tr>\n",
              "    <tr>\n",
              "      <th>2023-03-01 14:35:00</th>\n",
              "      <td>12003.977</td>\n",
              "    </tr>\n",
              "    <tr>\n",
              "      <th>...</th>\n",
              "      <td>...</td>\n",
              "    </tr>\n",
              "    <tr>\n",
              "      <th>2023-05-15 20:56:00</th>\n",
              "      <td>13401.972</td>\n",
              "    </tr>\n",
              "    <tr>\n",
              "      <th>2023-05-15 20:57:00</th>\n",
              "      <td>13404.466</td>\n",
              "    </tr>\n",
              "    <tr>\n",
              "      <th>2023-05-15 20:58:00</th>\n",
              "      <td>13408.206</td>\n",
              "    </tr>\n",
              "    <tr>\n",
              "      <th>2023-05-15 20:59:00</th>\n",
              "      <td>13407.638</td>\n",
              "    </tr>\n",
              "    <tr>\n",
              "      <th>2023-05-15 21:00:00</th>\n",
              "      <td>13414.978</td>\n",
              "    </tr>\n",
              "  </tbody>\n",
              "</table>\n",
              "<p>32641 rows × 1 columns</p>\n",
              "</div>\n",
              "      <button class=\"colab-df-convert\" onclick=\"convertToInteractive('df-b9eada40-a3c8-4f14-9eef-e4daed595fca')\"\n",
              "              title=\"Convert this dataframe to an interactive table.\"\n",
              "              style=\"display:none;\">\n",
              "        \n",
              "  <svg xmlns=\"http://www.w3.org/2000/svg\" height=\"24px\"viewBox=\"0 0 24 24\"\n",
              "       width=\"24px\">\n",
              "    <path d=\"M0 0h24v24H0V0z\" fill=\"none\"/>\n",
              "    <path d=\"M18.56 5.44l.94 2.06.94-2.06 2.06-.94-2.06-.94-.94-2.06-.94 2.06-2.06.94zm-11 1L8.5 8.5l.94-2.06 2.06-.94-2.06-.94L8.5 2.5l-.94 2.06-2.06.94zm10 10l.94 2.06.94-2.06 2.06-.94-2.06-.94-.94-2.06-.94 2.06-2.06.94z\"/><path d=\"M17.41 7.96l-1.37-1.37c-.4-.4-.92-.59-1.43-.59-.52 0-1.04.2-1.43.59L10.3 9.45l-7.72 7.72c-.78.78-.78 2.05 0 2.83L4 21.41c.39.39.9.59 1.41.59.51 0 1.02-.2 1.41-.59l7.78-7.78 2.81-2.81c.8-.78.8-2.07 0-2.86zM5.41 20L4 18.59l7.72-7.72 1.47 1.35L5.41 20z\"/>\n",
              "  </svg>\n",
              "      </button>\n",
              "      \n",
              "  <style>\n",
              "    .colab-df-container {\n",
              "      display:flex;\n",
              "      flex-wrap:wrap;\n",
              "      gap: 12px;\n",
              "    }\n",
              "\n",
              "    .colab-df-convert {\n",
              "      background-color: #E8F0FE;\n",
              "      border: none;\n",
              "      border-radius: 50%;\n",
              "      cursor: pointer;\n",
              "      display: none;\n",
              "      fill: #1967D2;\n",
              "      height: 32px;\n",
              "      padding: 0 0 0 0;\n",
              "      width: 32px;\n",
              "    }\n",
              "\n",
              "    .colab-df-convert:hover {\n",
              "      background-color: #E2EBFA;\n",
              "      box-shadow: 0px 1px 2px rgba(60, 64, 67, 0.3), 0px 1px 3px 1px rgba(60, 64, 67, 0.15);\n",
              "      fill: #174EA6;\n",
              "    }\n",
              "\n",
              "    [theme=dark] .colab-df-convert {\n",
              "      background-color: #3B4455;\n",
              "      fill: #D2E3FC;\n",
              "    }\n",
              "\n",
              "    [theme=dark] .colab-df-convert:hover {\n",
              "      background-color: #434B5C;\n",
              "      box-shadow: 0px 1px 3px 1px rgba(0, 0, 0, 0.15);\n",
              "      filter: drop-shadow(0px 1px 2px rgba(0, 0, 0, 0.3));\n",
              "      fill: #FFFFFF;\n",
              "    }\n",
              "  </style>\n",
              "\n",
              "      <script>\n",
              "        const buttonEl =\n",
              "          document.querySelector('#df-b9eada40-a3c8-4f14-9eef-e4daed595fca button.colab-df-convert');\n",
              "        buttonEl.style.display =\n",
              "          google.colab.kernel.accessAllowed ? 'block' : 'none';\n",
              "\n",
              "        async function convertToInteractive(key) {\n",
              "          const element = document.querySelector('#df-b9eada40-a3c8-4f14-9eef-e4daed595fca');\n",
              "          const dataTable =\n",
              "            await google.colab.kernel.invokeFunction('convertToInteractive',\n",
              "                                                     [key], {});\n",
              "          if (!dataTable) return;\n",
              "\n",
              "          const docLinkHtml = 'Like what you see? Visit the ' +\n",
              "            '<a target=\"_blank\" href=https://colab.research.google.com/notebooks/data_table.ipynb>data table notebook</a>'\n",
              "            + ' to learn more about interactive tables.';\n",
              "          element.innerHTML = '';\n",
              "          dataTable['output_type'] = 'display_data';\n",
              "          await google.colab.output.renderOutput(dataTable, element);\n",
              "          const docLink = document.createElement('div');\n",
              "          docLink.innerHTML = docLinkHtml;\n",
              "          element.appendChild(docLink);\n",
              "        }\n",
              "      </script>\n",
              "    </div>\n",
              "  </div>\n",
              "  "
            ]
          },
          "metadata": {},
          "execution_count": 8
        }
      ]
    },
    {
      "cell_type": "code",
      "execution_count": 9,
      "metadata": {
        "colab": {
          "base_uri": "https://localhost:8080/",
          "height": 448
        },
        "id": "9VsbFMCo0aRr",
        "outputId": "a9c65060-48ca-413e-e95d-d33b6149f285"
      },
      "outputs": [
        {
          "output_type": "display_data",
          "data": {
            "text/plain": [
              "<Figure size 640x480 with 1 Axes>"
            ],
            "image/png": "[encoded data removed]"
          },
          "metadata": {}
        }
      ],
      "source": [
        "# Plot the closing price\n",
        "data.plot()\n",
        "plt.show()"
      ]
    },
    {
      "cell_type": "code",
      "execution_count": 10,
      "metadata": {
        "id": "8DRmcobA8X0X"
      },
      "outputs": [],
      "source": [
        "# Create a new feature\n",
        "log_returns = np.log(data[\"Close\"]).diff(1) \n",
        "data[\"log_returns\"] = log_returns "
      ]
    },
    {
      "cell_type": "code",
      "execution_count": 11,
      "metadata": {
        "id": "LfAhaQyiYiTp"
      },
      "outputs": [],
      "source": [
        "# Refine the dataset\n",
        "data = data[[\"log_returns\"]]"
      ]
    },
    {
      "cell_type": "code",
      "execution_count": 12,
      "metadata": {
        "colab": {
          "base_uri": "https://localhost:8080/",
          "height": 455
        },
        "id": "vtVKLXLnMqGC",
        "outputId": "076627e9-7ec5-46f8-b0c1-9beee7f810a4"
      },
      "outputs": [
        {
          "output_type": "execute_result",
          "data": {
            "text/plain": [
              "                     log_returns\n",
              "Local Time                      \n",
              "2023-03-01 15:31:00    -0.000619\n",
              "2023-03-01 15:32:00    -0.000411\n",
              "2023-03-01 15:33:00    -0.000395\n",
              "2023-03-01 15:34:00     0.000823\n",
              "2023-03-01 15:35:00     0.000372\n",
              "...                          ...\n",
              "2023-05-15 19:55:00    -0.000153\n",
              "2023-05-15 19:56:00     0.000114\n",
              "2023-05-15 19:57:00    -0.000035\n",
              "2023-05-15 19:58:00    -0.000267\n",
              "2023-05-15 19:59:00     0.000420\n",
              "\n",
              "[13988 rows x 1 columns]"
            ],
            "text/html": [
              "\n",
              "  <div id=\"df-d10d22cd-07fa-4d7b-be30-c08bf61c4c10\">\n",
              "    <div class=\"colab-df-container\">\n",
              "      <div>\n",
              "<style scoped>\n",
              "    .dataframe tbody tr th:only-of-type {\n",
              "        vertical-align: middle;\n",
              "    }\n",
              "\n",
              "    .dataframe tbody tr th {\n",
              "        vertical-align: top;\n",
              "    }\n",
              "\n",
              "    .dataframe thead th {\n",
              "        text-align: right;\n",
              "    }\n",
              "</style>\n",
              "<table border=\"1\" class=\"dataframe\">\n",
              "  <thead>\n",
              "    <tr style=\"text-align: right;\">\n",
              "      <th></th>\n",
              "      <th>log_returns</th>\n",
              "    </tr>\n",
              "    <tr>\n",
              "      <th>Local Time</th>\n",
              "      <th></th>\n",
              "    </tr>\n",
              "  </thead>\n",
              "  <tbody>\n",
              "    <tr>\n",
              "      <th>2023-03-01 15:31:00</th>\n",
              "      <td>-0.000619</td>\n",
              "    </tr>\n",
              "    <tr>\n",
              "      <th>2023-03-01 15:32:00</th>\n",
              "      <td>-0.000411</td>\n",
              "    </tr>\n",
              "    <tr>\n",
              "      <th>2023-03-01 15:33:00</th>\n",
              "      <td>-0.000395</td>\n",
              "    </tr>\n",
              "    <tr>\n",
              "      <th>2023-03-01 15:34:00</th>\n",
              "      <td>0.000823</td>\n",
              "    </tr>\n",
              "    <tr>\n",
              "      <th>2023-03-01 15:35:00</th>\n",
              "      <td>0.000372</td>\n",
              "    </tr>\n",
              "    <tr>\n",
              "      <th>...</th>\n",
              "      <td>...</td>\n",
              "    </tr>\n",
              "    <tr>\n",
              "      <th>2023-05-15 19:55:00</th>\n",
              "      <td>-0.000153</td>\n",
              "    </tr>\n",
              "    <tr>\n",
              "      <th>2023-05-15 19:56:00</th>\n",
              "      <td>0.000114</td>\n",
              "    </tr>\n",
              "    <tr>\n",
              "      <th>2023-05-15 19:57:00</th>\n",
              "      <td>-0.000035</td>\n",
              "    </tr>\n",
              "    <tr>\n",
              "      <th>2023-05-15 19:58:00</th>\n",
              "      <td>-0.000267</td>\n",
              "    </tr>\n",
              "    <tr>\n",
              "      <th>2023-05-15 19:59:00</th>\n",
              "      <td>0.000420</td>\n",
              "    </tr>\n",
              "  </tbody>\n",
              "</table>\n",
              "<p>13988 rows × 1 columns</p>\n",
              "</div>\n",
              "      <button class=\"colab-df-convert\" onclick=\"convertToInteractive('df-d10d22cd-07fa-4d7b-be30-c08bf61c4c10')\"\n",
              "              title=\"Convert this dataframe to an interactive table.\"\n",
              "              style=\"display:none;\">\n",
              "        \n",
              "  <svg xmlns=\"http://www.w3.org/2000/svg\" height=\"24px\"viewBox=\"0 0 24 24\"\n",
              "       width=\"24px\">\n",
              "    <path d=\"M0 0h24v24H0V0z\" fill=\"none\"/>\n",
              "    <path d=\"M18.56 5.44l.94 2.06.94-2.06 2.06-.94-2.06-.94-.94-2.06-.94 2.06-2.06.94zm-11 1L8.5 8.5l.94-2.06 2.06-.94-2.06-.94L8.5 2.5l-.94 2.06-2.06.94zm10 10l.94 2.06.94-2.06 2.06-.94-2.06-.94-.94-2.06-.94 2.06-2.06.94z\"/><path d=\"M17.41 7.96l-1.37-1.37c-.4-.4-.92-.59-1.43-.59-.52 0-1.04.2-1.43.59L10.3 9.45l-7.72 7.72c-.78.78-.78 2.05 0 2.83L4 21.41c.39.39.9.59 1.41.59.51 0 1.02-.2 1.41-.59l7.78-7.78 2.81-2.81c.8-.78.8-2.07 0-2.86zM5.41 20L4 18.59l7.72-7.72 1.47 1.35L5.41 20z\"/>\n",
              "  </svg>\n",
              "      </button>\n",
              "      \n",
              "  <style>\n",
              "    .colab-df-container {\n",
              "      display:flex;\n",
              "      flex-wrap:wrap;\n",
              "      gap: 12px;\n",
              "    }\n",
              "\n",
              "    .colab-df-convert {\n",
              "      background-color: #E8F0FE;\n",
              "      border: none;\n",
              "      border-radius: 50%;\n",
              "      cursor: pointer;\n",
              "      display: none;\n",
              "      fill: #1967D2;\n",
              "      height: 32px;\n",
              "      padding: 0 0 0 0;\n",
              "      width: 32px;\n",
              "    }\n",
              "\n",
              "    .colab-df-convert:hover {\n",
              "      background-color: #E2EBFA;\n",
              "      box-shadow: 0px 1px 2px rgba(60, 64, 67, 0.3), 0px 1px 3px 1px rgba(60, 64, 67, 0.15);\n",
              "      fill: #174EA6;\n",
              "    }\n",
              "\n",
              "    [theme=dark] .colab-df-convert {\n",
              "      background-color: #3B4455;\n",
              "      fill: #D2E3FC;\n",
              "    }\n",
              "\n",
              "    [theme=dark] .colab-df-convert:hover {\n",
              "      background-color: #434B5C;\n",
              "      box-shadow: 0px 1px 3px 1px rgba(0, 0, 0, 0.15);\n",
              "      filter: drop-shadow(0px 1px 2px rgba(0, 0, 0, 0.3));\n",
              "      fill: #FFFFFF;\n",
              "    }\n",
              "  </style>\n",
              "\n",
              "      <script>\n",
              "        const buttonEl =\n",
              "          document.querySelector('#df-d10d22cd-07fa-4d7b-be30-c08bf61c4c10 button.colab-df-convert');\n",
              "        buttonEl.style.display =\n",
              "          google.colab.kernel.accessAllowed ? 'block' : 'none';\n",
              "\n",
              "        async function convertToInteractive(key) {\n",
              "          const element = document.querySelector('#df-d10d22cd-07fa-4d7b-be30-c08bf61c4c10');\n",
              "          const dataTable =\n",
              "            await google.colab.kernel.invokeFunction('convertToInteractive',\n",
              "                                                     [key], {});\n",
              "          if (!dataTable) return;\n",
              "\n",
              "          const docLinkHtml = 'Like what you see? Visit the ' +\n",
              "            '<a target=\"_blank\" href=https://colab.research.google.com/notebooks/data_table.ipynb>data table notebook</a>'\n",
              "            + ' to learn more about interactive tables.';\n",
              "          element.innerHTML = '';\n",
              "          dataTable['output_type'] = 'display_data';\n",
              "          await google.colab.output.renderOutput(dataTable, element);\n",
              "          const docLink = document.createElement('div');\n",
              "          docLink.innerHTML = docLinkHtml;\n",
              "          element.appendChild(docLink);\n",
              "        }\n",
              "      </script>\n",
              "    </div>\n",
              "  </div>\n",
              "  "
            ]
          },
          "metadata": {},
          "execution_count": 12
        }
      ],
      "source": [
        "# Drop the first NaN observation\n",
        "data = data.dropna()\n",
        "\n",
        "# In order to get more accurate predictions and reduce oscillations, we remove the first and last hour of trading within each day \n",
        "data = data.loc[(data.index.time > time(15,30)) & (data.index.time < time(20,00))]\n",
        "data = data[['log_returns']]\n",
        "data"
      ]
    },
    {
      "cell_type": "markdown",
      "metadata": {
        "id": "9fUBEeUa1Lgg"
      },
      "source": [
        "#Data processing"
      ]
    },
    {
      "cell_type": "markdown",
      "metadata": {
        "id": "lYQ8Y9zWZo8j"
      },
      "source": [
        "### Train-Test split"
      ]
    },
    {
      "cell_type": "code",
      "execution_count": 13,
      "metadata": {
        "id": "6mE_ZVSX_p4r"
      },
      "outputs": [],
      "source": [
        "# Train and test split\n",
        "ratio = 0.8\n",
        "train_size = int(len(data)* ratio) \n",
        "train_data = data[:train_size]\n",
        "test_data = data[train_size:]"
      ]
    },
    {
      "cell_type": "code",
      "execution_count": 14,
      "metadata": {
        "colab": {
          "base_uri": "https://localhost:8080/",
          "height": 455
        },
        "id": "Ai3GzH5Bfjss",
        "outputId": "c6011126-362e-41cd-be8d-cfad97654470"
      },
      "outputs": [
        {
          "output_type": "execute_result",
          "data": {
            "text/plain": [
              "                     log_returns\n",
              "Local Time                      \n",
              "2023-03-01 15:31:00    -0.000619\n",
              "2023-03-01 15:32:00    -0.000411\n",
              "2023-03-01 15:33:00    -0.000395\n",
              "2023-03-01 15:34:00     0.000823\n",
              "2023-03-01 15:35:00     0.000372\n",
              "...                          ...\n",
              "2023-05-01 18:07:00    -0.000017\n",
              "2023-05-01 18:08:00     0.000147\n",
              "2023-05-01 18:09:00     0.000116\n",
              "2023-05-01 18:10:00    -0.000305\n",
              "2023-05-01 18:11:00     0.000060\n",
              "\n",
              "[11190 rows x 1 columns]"
            ],
            "text/html": [
              "\n",
              "  <div id=\"df-c1bdbd09-f312-4862-837a-34d2ade24fef\">\n",
              "    <div class=\"colab-df-container\">\n",
              "      <div>\n",
              "<style scoped>\n",
              "    .dataframe tbody tr th:only-of-type {\n",
              "        vertical-align: middle;\n",
              "    }\n",
              "\n",
              "    .dataframe tbody tr th {\n",
              "        vertical-align: top;\n",
              "    }\n",
              "\n",
              "    .dataframe thead th {\n",
              "        text-align: right;\n",
              "    }\n",
              "</style>\n",
              "<table border=\"1\" class=\"dataframe\">\n",
              "  <thead>\n",
              "    <tr style=\"text-align: right;\">\n",
              "      <th></th>\n",
              "      <th>log_returns</th>\n",
              "    </tr>\n",
              "    <tr>\n",
              "      <th>Local Time</th>\n",
              "      <th></th>\n",
              "    </tr>\n",
              "  </thead>\n",
              "  <tbody>\n",
              "    <tr>\n",
              "      <th>2023-03-01 15:31:00</th>\n",
              "      <td>-0.000619</td>\n",
              "    </tr>\n",
              "    <tr>\n",
              "      <th>2023-03-01 15:32:00</th>\n",
              "      <td>-0.000411</td>\n",
              "    </tr>\n",
              "    <tr>\n",
              "      <th>2023-03-01 15:33:00</th>\n",
              "      <td>-0.000395</td>\n",
              "    </tr>\n",
              "    <tr>\n",
              "      <th>2023-03-01 15:34:00</th>\n",
              "      <td>0.000823</td>\n",
              "    </tr>\n",
              "    <tr>\n",
              "      <th>2023-03-01 15:35:00</th>\n",
              "      <td>0.000372</td>\n",
              "    </tr>\n",
              "    <tr>\n",
              "      <th>...</th>\n",
              "      <td>...</td>\n",
              "    </tr>\n",
              "    <tr>\n",
              "      <th>2023-05-01 18:07:00</th>\n",
              "      <td>-0.000017</td>\n",
              "    </tr>\n",
              "    <tr>\n",
              "      <th>2023-05-01 18:08:00</th>\n",
              "      <td>0.000147</td>\n",
              "    </tr>\n",
              "    <tr>\n",
              "      <th>2023-05-01 18:09:00</th>\n",
              "      <td>0.000116</td>\n",
              "    </tr>\n",
              "    <tr>\n",
              "      <th>2023-05-01 18:10:00</th>\n",
              "      <td>-0.000305</td>\n",
              "    </tr>\n",
              "    <tr>\n",
              "      <th>2023-05-01 18:11:00</th>\n",
              "      <td>0.000060</td>\n",
              "    </tr>\n",
              "  </tbody>\n",
              "</table>\n",
              "<p>11190 rows × 1 columns</p>\n",
              "</div>\n",
              "      <button class=\"colab-df-convert\" onclick=\"convertToInteractive('df-c1bdbd09-f312-4862-837a-34d2ade24fef')\"\n",
              "              title=\"Convert this dataframe to an interactive table.\"\n",
              "              style=\"display:none;\">\n",
              "        \n",
              "  <svg xmlns=\"http://www.w3.org/2000/svg\" height=\"24px\"viewBox=\"0 0 24 24\"\n",
              "       width=\"24px\">\n",
              "    <path d=\"M0 0h24v24H0V0z\" fill=\"none\"/>\n",
              "    <path d=\"M18.56 5.44l.94 2.06.94-2.06 2.06-.94-2.06-.94-.94-2.06-.94 2.06-2.06.94zm-11 1L8.5 8.5l.94-2.06 2.06-.94-2.06-.94L8.5 2.5l-.94 2.06-2.06.94zm10 10l.94 2.06.94-2.06 2.06-.94-2.06-.94-.94-2.06-.94 2.06-2.06.94z\"/><path d=\"M17.41 7.96l-1.37-1.37c-.4-.4-.92-.59-1.43-.59-.52 0-1.04.2-1.43.59L10.3 9.45l-7.72 7.72c-.78.78-.78 2.05 0 2.83L4 21.41c.39.39.9.59 1.41.59.51 0 1.02-.2 1.41-.59l7.78-7.78 2.81-2.81c.8-.78.8-2.07 0-2.86zM5.41 20L4 18.59l7.72-7.72 1.47 1.35L5.41 20z\"/>\n",
              "  </svg>\n",
              "      </button>\n",
              "      \n",
              "  <style>\n",
              "    .colab-df-container {\n",
              "      display:flex;\n",
              "      flex-wrap:wrap;\n",
              "      gap: 12px;\n",
              "    }\n",
              "\n",
              "    .colab-df-convert {\n",
              "      background-color: #E8F0FE;\n",
              "      border: none;\n",
              "      border-radius: 50%;\n",
              "      cursor: pointer;\n",
              "      display: none;\n",
              "      fill: #1967D2;\n",
              "      height: 32px;\n",
              "      padding: 0 0 0 0;\n",
              "      width: 32px;\n",
              "    }\n",
              "\n",
              "    .colab-df-convert:hover {\n",
              "      background-color: #E2EBFA;\n",
              "      box-shadow: 0px 1px 2px rgba(60, 64, 67, 0.3), 0px 1px 3px 1px rgba(60, 64, 67, 0.15);\n",
              "      fill: #174EA6;\n",
              "    }\n",
              "\n",
              "    [theme=dark] .colab-df-convert {\n",
              "      background-color: #3B4455;\n",
              "      fill: #D2E3FC;\n",
              "    }\n",
              "\n",
              "    [theme=dark] .colab-df-convert:hover {\n",
              "      background-color: #434B5C;\n",
              "      box-shadow: 0px 1px 3px 1px rgba(0, 0, 0, 0.15);\n",
              "      filter: drop-shadow(0px 1px 2px rgba(0, 0, 0, 0.3));\n",
              "      fill: #FFFFFF;\n",
              "    }\n",
              "  </style>\n",
              "\n",
              "      <script>\n",
              "        const buttonEl =\n",
              "          document.querySelector('#df-c1bdbd09-f312-4862-837a-34d2ade24fef button.colab-df-convert');\n",
              "        buttonEl.style.display =\n",
              "          google.colab.kernel.accessAllowed ? 'block' : 'none';\n",
              "\n",
              "        async function convertToInteractive(key) {\n",
              "          const element = document.querySelector('#df-c1bdbd09-f312-4862-837a-34d2ade24fef');\n",
              "          const dataTable =\n",
              "            await google.colab.kernel.invokeFunction('convertToInteractive',\n",
              "                                                     [key], {});\n",
              "          if (!dataTable) return;\n",
              "\n",
              "          const docLinkHtml = 'Like what you see? Visit the ' +\n",
              "            '<a target=\"_blank\" href=https://colab.research.google.com/notebooks/data_table.ipynb>data table notebook</a>'\n",
              "            + ' to learn more about interactive tables.';\n",
              "          element.innerHTML = '';\n",
              "          dataTable['output_type'] = 'display_data';\n",
              "          await google.colab.output.renderOutput(dataTable, element);\n",
              "          const docLink = document.createElement('div');\n",
              "          docLink.innerHTML = docLinkHtml;\n",
              "          element.appendChild(docLink);\n",
              "        }\n",
              "      </script>\n",
              "    </div>\n",
              "  </div>\n",
              "  "
            ]
          },
          "metadata": {},
          "execution_count": 14
        }
      ],
      "source": [
        "train_data"
      ]
    },
    {
      "cell_type": "markdown",
      "metadata": {
        "id": "8G8rnTmwaYjC"
      },
      "source": [
        "### Building input features"
      ]
    },
    {
      "cell_type": "code",
      "execution_count": 15,
      "metadata": {
        "id": "yarlm7xR55nJ"
      },
      "outputs": [],
      "source": [
        "# Define the look-back and look-forward variables\n",
        "look_back = 50\n",
        "look_forward = 10"
      ]
    },
    {
      "cell_type": "code",
      "execution_count": 16,
      "metadata": {
        "id": "T1nfO6L-55h7"
      },
      "outputs": [],
      "source": [
        "# Convert an array of values into a dataset matrix\n",
        "\n",
        "def create_features(data, look_back=50, look_forward=10):\n",
        "    dataX, dataY = [], []\n",
        "    np.array(dataY)\n",
        "    for k in range(len(data)-look_back-1):\n",
        "        a = data[k:(k + look_back), 0]\n",
        "        if len(data[k + look_back: k + look_back + look_forward, 0]) == look_forward:\n",
        "            dataX.append(a)\n",
        "            dataY.append(data[k + look_back: k + look_back + look_forward, 0])\n",
        "    return np.array(dataX), np.array(dataY)"
      ]
    },
    {
      "cell_type": "code",
      "execution_count": 17,
      "metadata": {
        "id": "ETkDGM6Z55fb"
      },
      "outputs": [],
      "source": [
        "# Generate train X and train Y data\n",
        "trainX, trainY = create_features(train_data.values, look_back, look_forward)"
      ]
    },
    {
      "cell_type": "code",
      "execution_count": 18,
      "metadata": {
        "id": "DP4l8A7_a94n"
      },
      "outputs": [],
      "source": [
        "# Generate test X and test Y data\n",
        "testX, testY = create_features(test_data.values, look_back, look_forward)"
      ]
    },
    {
      "cell_type": "markdown",
      "metadata": {
        "id": "VXJMuofPbEDw"
      },
      "source": [
        "###Reshape to 3D data"
      ]
    },
    {
      "cell_type": "code",
      "execution_count": 19,
      "metadata": {
        "id": "-Yw1rv5pALR9"
      },
      "outputs": [],
      "source": [
        "# Reshape input to be (samples, time steps, features)\n",
        "trainX = np.reshape(trainX, (trainX.shape[0], trainX.shape[1], 1))\n",
        "testX = np.reshape(testX, (testX.shape[0], testX.shape[1], 1))"
      ]
    },
    {
      "cell_type": "code",
      "execution_count": 20,
      "metadata": {
        "colab": {
          "base_uri": "https://localhost:8080/"
        },
        "id": "lMMRy1l6305B",
        "outputId": "3170fb42-02f9-445a-dbe2-9b720f7ec3cf"
      },
      "outputs": [
        {
          "output_type": "stream",
          "name": "stdout",
          "text": [
            "(11131, 50, 1)\n",
            "(11131, 10)\n",
            "(2739, 50, 1)\n",
            "(2739, 10)\n"
          ]
        }
      ],
      "source": [
        "# Print out the shape of train and test X/Y\n",
        "print(trainX.shape)\n",
        "print(trainY.shape)\n",
        "print(testX.shape)\n",
        "print(testY.shape)"
      ]
    },
    {
      "cell_type": "markdown",
      "metadata": {
        "id": "XgLsy0AX7-vM"
      },
      "source": [
        "#LSTM Model Builder"
      ]
    },
    {
      "cell_type": "code",
      "execution_count": 21,
      "metadata": {
        "id": "WVFk1Zw37vvN"
      },
      "outputs": [],
      "source": [
        "# Create a function that build an LSTM \n",
        "\n",
        "def create_lstm(input_shape = (look_back, 1), lstm_units=128, dense_units=10, drop_rate = 0.1):\n",
        "    # Initialising the LSTM\n",
        "    model = Sequential()\n",
        "\n",
        "    # Adding the LSTM layer and some dropout regularization\n",
        "    model.add(LSTM(units=lstm_units, input_shape=input_shape, stateful=False))\n",
        "    model.add(Dropout(rate = drop_rate))\n",
        "\n",
        "    # Adding a Dense layer\n",
        "    model.add(Dense(units= lstm_units))\n",
        "    model.add(Dropout(rate = drop_rate))\n",
        "    model.add(Dense(units= lstm_units))\n",
        "    model.add(Dropout(rate = drop_rate))\n",
        "    model.add(Dense(units= dense_units))\n",
        "\n",
        "    # Compiling the model\n",
        "    model.compile(optimizer='adam', loss='mean_squared_error', metrics = ['accuracy'])\n",
        "    return model\n"
      ]
    },
    {
      "cell_type": "code",
      "execution_count": 22,
      "metadata": {
        "id": "J3VbDhSzczU4"
      },
      "outputs": [],
      "source": [
        "# Instantiate an LSTM model to wrap in KerasRegressor\n",
        "lstm = KerasRegressor(build_fn = create_lstm, verbose=0)"
      ]
    },
    {
      "cell_type": "markdown",
      "metadata": {
        "id": "RYksjaQ1N_yx"
      },
      "source": [
        "# Block Time Series Split and GridSearch CV"
      ]
    },
    {
      "cell_type": "code",
      "execution_count": 23,
      "metadata": {
        "id": "kv3_UWDbO4-p"
      },
      "outputs": [],
      "source": [
        "# Define a Block Time Series Split (no overlapping data)\n",
        "class BlockTimeSeriesSplit():\n",
        "    def __init__(self, n_splits):\n",
        "        self.n_splits = n_splits\n",
        "    \n",
        "    def get_n_splits(self, X, y, groups):\n",
        "        return self.n_splits\n",
        "    \n",
        "    def split(self, X, y=None, groups=None):\n",
        "        n_samples = len(X)\n",
        "        k_fold_size = n_samples // self.n_splits\n",
        "        indices = np.arange(n_samples)\n",
        "\n",
        "        margin = 0\n",
        "        for i in range(self.n_splits):\n",
        "            start = i * k_fold_size\n",
        "            end = start + k_fold_size\n",
        "            mid = int(0.5 * (end - start)) + start\n",
        "            yield indices[start: mid], indices[mid + margin: end]"
      ]
    },
    {
      "cell_type": "code",
      "execution_count": 24,
      "metadata": {
        "id": "J4xlIlnrO7YW"
      },
      "outputs": [],
      "source": [
        "# Define the number of splits and get some metrics\n",
        "btscv = BlockTimeSeriesSplit(n_splits= 6)"
      ]
    },
    {
      "cell_type": "markdown",
      "metadata": {
        "id": "sm545e4-IJB9"
      },
      "source": [
        "###Define the parameters to tune"
      ]
    },
    {
      "cell_type": "code",
      "execution_count": 25,
      "metadata": {
        "id": "40qVMaMEO7WQ"
      },
      "outputs": [],
      "source": [
        "# Define the parameter grid for GridSearch\n",
        "param_grid = {\n",
        "    'batch_size': [64, 128],\n",
        "    'epochs': [15, 20],\n",
        "    'drop_rate' : [0.1, 0.15],\n",
        "    'lstm_units':[128, 256]}"
      ]
    },
    {
      "cell_type": "markdown",
      "metadata": {
        "id": "kYI_cpP0ILD4"
      },
      "source": [
        "###Run GridSearchCV"
      ]
    },
    {
      "cell_type": "code",
      "execution_count": 26,
      "metadata": {
        "id": "38zMPqKEO7T0"
      },
      "outputs": [],
      "source": [
        "# Create the GridSearchCV object with BlockTimeSeriesSplit\n",
        "grid_search = GridSearchCV(estimator = lstm, param_grid = param_grid, cv = btscv, scoring = 'neg_mean_squared_error')"
      ]
    },
    {
      "cell_type": "code",
      "execution_count": 27,
      "metadata": {
        "id": "UJYWY-jZPAhG"
      },
      "outputs": [],
      "source": [
        "# Fit the data to the GridSearchCV object\n",
        "grid_result = grid_search.fit(trainX, trainY)"
      ]
    },
    {
      "cell_type": "code",
      "execution_count": 28,
      "metadata": {
        "id": "qSvMndM9PAez",
        "colab": {
          "base_uri": "https://localhost:8080/"
        },
        "outputId": "d87b0c0a-b507-4a8f-b1cc-0ab229c82fbe"
      },
      "outputs": [
        {
          "output_type": "stream",
          "name": "stdout",
          "text": [
            "Best parameters: {'batch_size': 128, 'drop_rate': 0.1, 'epochs': 20, 'lstm_units': 128}\n",
            "Best score: -1.9056112289305482e-07\n"
          ]
        }
      ],
      "source": [
        "# Print the best parameters and best score\n",
        "best_params = grid_result.best_params_\n",
        "best_score = grid_result.best_score_\n",
        "print(\"Best parameters:\", best_params)\n",
        "print(\"Best score:\" , best_score)"
      ]
    },
    {
      "cell_type": "markdown",
      "metadata": {
        "id": "NI941T3VOHI8"
      },
      "source": [
        "# Fit the best model"
      ]
    },
    {
      "cell_type": "code",
      "execution_count": 29,
      "metadata": {
        "id": "VSusbgbGdLf5"
      },
      "outputs": [],
      "source": [
        "# Store the best_params dictionary to avoid re-running GridSearch\n",
        "#best_params = {'batch_size': 128, 'drop_rate': 0.1, 'epochs': 20, 'lstm_units': 128}"
      ]
    },
    {
      "cell_type": "code",
      "execution_count": 30,
      "metadata": {
        "id": "eSNtaAd9PFhK"
      },
      "outputs": [],
      "source": [
        "# Use the best parameters to create the LSTM model\n",
        "model = create_lstm(lstm_units =best_params['lstm_units'], drop_rate = best_params['drop_rate'])"
      ]
    },
    {
      "cell_type": "code",
      "execution_count": 31,
      "metadata": {
        "id": "fhH7fOCUdeZe",
        "colab": {
          "base_uri": "https://localhost:8080/"
        },
        "outputId": "8082c86f-716f-4491-d14c-50e8014595c0"
      },
      "outputs": [
        {
          "output_type": "stream",
          "name": "stdout",
          "text": [
            "Epoch 1/20\n",
            "87/87 [==============================] - 12s 115ms/step - loss: 2.6744e-06 - accuracy: 0.1026\n",
            "Epoch 2/20\n",
            "87/87 [==============================] - 9s 102ms/step - loss: 2.2234e-07 - accuracy: 0.1075\n",
            "Epoch 3/20\n",
            "87/87 [==============================] - 10s 112ms/step - loss: 2.4194e-07 - accuracy: 0.0981\n",
            "Epoch 4/20\n",
            "87/87 [==============================] - 10s 111ms/step - loss: 2.6709e-07 - accuracy: 0.0974\n",
            "Epoch 5/20\n",
            "87/87 [==============================] - 10s 114ms/step - loss: 2.9947e-07 - accuracy: 0.0994\n",
            "Epoch 6/20\n",
            "87/87 [==============================] - 8s 92ms/step - loss: 2.9066e-07 - accuracy: 0.1027\n",
            "Epoch 7/20\n",
            "87/87 [==============================] - 10s 110ms/step - loss: 2.7782e-07 - accuracy: 0.1007\n",
            "Epoch 8/20\n",
            "87/87 [==============================] - 10s 114ms/step - loss: 2.9531e-07 - accuracy: 0.0986\n",
            "Epoch 9/20\n",
            "87/87 [==============================] - 10s 115ms/step - loss: 3.1980e-07 - accuracy: 0.0966\n",
            "Epoch 10/20\n",
            "87/87 [==============================] - 9s 104ms/step - loss: 2.6892e-07 - accuracy: 0.1039\n",
            "Epoch 11/20\n",
            "87/87 [==============================] - 13s 153ms/step - loss: 3.0378e-07 - accuracy: 0.1022\n",
            "Epoch 12/20\n",
            "87/87 [==============================] - 11s 127ms/step - loss: 3.2465e-07 - accuracy: 0.0962\n",
            "Epoch 13/20\n",
            "87/87 [==============================] - 10s 114ms/step - loss: 2.8179e-07 - accuracy: 0.0985\n",
            "Epoch 14/20\n",
            "87/87 [==============================] - 10s 113ms/step - loss: 3.1204e-07 - accuracy: 0.0984\n",
            "Epoch 15/20\n",
            "87/87 [==============================] - 9s 102ms/step - loss: 2.6790e-07 - accuracy: 0.0990\n",
            "Epoch 16/20\n",
            "87/87 [==============================] - 10s 110ms/step - loss: 2.7301e-07 - accuracy: 0.0986\n",
            "Epoch 17/20\n",
            "87/87 [==============================] - 10s 113ms/step - loss: 2.7286e-07 - accuracy: 0.1026\n",
            "Epoch 18/20\n",
            "87/87 [==============================] - 8s 96ms/step - loss: 2.7704e-07 - accuracy: 0.1028\n",
            "Epoch 19/20\n",
            "87/87 [==============================] - 9s 108ms/step - loss: 2.8646e-07 - accuracy: 0.1007\n",
            "Epoch 20/20\n",
            "87/87 [==============================] - 10s 117ms/step - loss: 2.6977e-07 - accuracy: 0.1026\n"
          ]
        }
      ],
      "source": [
        "# Fitting the model\n",
        "history = model.fit(trainX, trainY, epochs=best_params['epochs'], batch_size=best_params['batch_size'])"
      ]
    },
    {
      "cell_type": "code",
      "execution_count": 32,
      "metadata": {
        "id": "ubiHWWhpeule",
        "colab": {
          "base_uri": "https://localhost:8080/",
          "height": 472
        },
        "outputId": "0f5abdf0-1b21-444d-a46e-93aabc53d574"
      },
      "outputs": [
        {
          "output_type": "display_data",
          "data": {
            "text/plain": [
              "<Figure size 640x480 with 1 Axes>"
            ],
            "image/png": "[encoded data removed]"
          },
          "metadata": {}
        }
      ],
      "source": [
        "# Plot the loss over the epochs\n",
        "plt.plot(history.history['loss'])\n",
        "plt.title('LSTM Model Loss')\n",
        "plt.xlabel('Epochs')\n",
        "plt.ylabel('Loss')\n",
        "plt.show()"
      ]
    },
    {
      "cell_type": "code",
      "execution_count": 33,
      "metadata": {
        "id": "az2mlRPnpGsG",
        "colab": {
          "base_uri": "https://localhost:8080/"
        },
        "outputId": "4b782754-3d05-4f0c-e656-8fd2d2350ae4"
      },
      "outputs": [
        {
          "output_type": "stream",
          "name": "stdout",
          "text": [
            "86/86 [==============================] - 2s 20ms/step\n"
          ]
        }
      ],
      "source": [
        "# Predict the model using test X data\n",
        "y_pred = model.predict(testX)"
      ]
    },
    {
      "cell_type": "code",
      "execution_count": 34,
      "metadata": {
        "id": "GBL5iSkhpPCx",
        "colab": {
          "base_uri": "https://localhost:8080/"
        },
        "outputId": "bd864cb1-7297-44f7-eb3a-0a93e5e164e7"
      },
      "outputs": [
        {
          "output_type": "execute_result",
          "data": {
            "text/plain": [
              "array([[-0.00041393,  0.00019408, -0.00016913, ...,  0.00040941,\n",
              "        -0.00024062, -0.00020926],\n",
              "       [-0.00041761,  0.00019393, -0.00016802, ...,  0.00041326,\n",
              "        -0.00023915, -0.00020697],\n",
              "       [-0.0004184 ,  0.00019404, -0.0001679 , ...,  0.0004143 ,\n",
              "        -0.00023875, -0.00020656],\n",
              "       ...,\n",
              "       [-0.0004238 ,  0.0001943 , -0.00016688, ...,  0.00042129,\n",
              "        -0.00023566, -0.00020365],\n",
              "       [-0.00041709,  0.00019455, -0.00016895, ...,  0.00041454,\n",
              "        -0.000238  , -0.00020776],\n",
              "       [-0.00041655,  0.0001943 , -0.00016895, ...,  0.0004138 ,\n",
              "        -0.00023813, -0.00020792]], dtype=float32)"
            ]
          },
          "metadata": {},
          "execution_count": 34
        }
      ],
      "source": [
        "# Get a sense of how y_pred looks like\n",
        "y_pred"
      ]
    },
    {
      "cell_type": "code",
      "execution_count": 35,
      "metadata": {
        "id": "g8gjZGA1k2xL",
        "colab": {
          "base_uri": "https://localhost:8080/"
        },
        "outputId": "a61cef41-6af8-4fa9-f73e-590946fc2f66"
      },
      "outputs": [
        {
          "output_type": "stream",
          "name": "stdout",
          "text": [
            "(2739, 10)\n"
          ]
        }
      ],
      "source": [
        "print(y_pred.shape)"
      ]
    },
    {
      "cell_type": "markdown",
      "metadata": {
        "id": "b4nspxNCe9m6"
      },
      "source": [
        "###Compute the MSE and RMSE"
      ]
    },
    {
      "cell_type": "code",
      "execution_count": 36,
      "metadata": {
        "id": "PI-cQw4BqdQA",
        "colab": {
          "base_uri": "https://localhost:8080/"
        },
        "outputId": "6ad9cf82-9132-4bb3-daf7-d91756c4f0ce"
      },
      "outputs": [
        {
          "output_type": "stream",
          "name": "stdout",
          "text": [
            "MSE: 2.188377418505261e-07\n",
            "RMSE: 0.00046780096392646104\n"
          ]
        }
      ],
      "source": [
        "mse = mean_squared_error(testY, y_pred)\n",
        "rmse = math.sqrt(mse)\n",
        "print(\"MSE:\",mse)\n",
        "print(\"RMSE:\", rmse)"
      ]
    },
    {
      "cell_type": "code",
      "execution_count": 37,
      "metadata": {
        "id": "qOq9vaee7_iY",
        "colab": {
          "base_uri": "https://localhost:8080/",
          "height": 452
        },
        "outputId": "a7b67313-a189-4c80-ca9e-ceae16dfccb6"
      },
      "outputs": [
        {
          "output_type": "display_data",
          "data": {
            "text/plain": [
              "<Figure size 640x480 with 1 Axes>"
            ],
            "image/png": "[encoded data removed]"
          },
          "metadata": {}
        }
      ],
      "source": [
        "# Plot one prediction against test data\n",
        "plt.plot(testY[3], color = \"b\", label = \"True\")\n",
        "plt.plot(y_pred[3], color = \"r\", label = \"Pred\")\n",
        "plt.title('Original Data vs. Predicted Data')\n",
        "plt.legend()\n",
        "plt.show()"
      ]
    },
    {
      "cell_type": "markdown",
      "metadata": {
        "id": "JSzxo5dwOK3M"
      },
      "source": [
        "# Get a single prediction"
      ]
    },
    {
      "cell_type": "code",
      "execution_count": 38,
      "metadata": {
        "id": "X629cmFRr0gz",
        "colab": {
          "base_uri": "https://localhost:8080/"
        },
        "outputId": "829d4a2c-7b97-4be1-c247-163e031ce52d"
      },
      "outputs": [
        {
          "output_type": "execute_result",
          "data": {
            "text/plain": [
              "(1, 50, 1)"
            ]
          },
          "metadata": {},
          "execution_count": 38
        }
      ],
      "source": [
        "# Extract a single observation\n",
        "single = testX[20].reshape(1, testX[20].shape[0], testX[20].shape[1])\n",
        "single.shape"
      ]
    },
    {
      "cell_type": "code",
      "execution_count": 39,
      "metadata": {
        "id": "YwegLZDMrY12",
        "colab": {
          "base_uri": "https://localhost:8080/"
        },
        "outputId": "979c1660-22da-41c5-9f52-9f6cc24e3974"
      },
      "outputs": [
        {
          "output_type": "stream",
          "name": "stdout",
          "text": [
            "1/1 [==============================] - 0s 24ms/step\n"
          ]
        }
      ],
      "source": [
        "# Make a prediction\n",
        "single_pred = model.predict(single)"
      ]
    },
    {
      "cell_type": "code",
      "execution_count": 40,
      "metadata": {
        "id": "rpbzaq9usORU",
        "colab": {
          "base_uri": "https://localhost:8080/"
        },
        "outputId": "5954fc7c-76ec-43fc-f6c4-0c435c8d2d21"
      },
      "outputs": [
        {
          "output_type": "execute_result",
          "data": {
            "text/plain": [
              "array([[-4.1657273e-04,  1.9364679e-04, -1.6786568e-04, -2.4803320e-04,\n",
              "         3.6795979e-04, -5.9837170e-05,  5.8084668e-04,  4.1079841e-04,\n",
              "        -2.4065269e-04, -2.0720743e-04]], dtype=float32)"
            ]
          },
          "metadata": {},
          "execution_count": 40
        }
      ],
      "source": [
        "single_pred"
      ]
    },
    {
      "cell_type": "code",
      "execution_count": 41,
      "metadata": {
        "id": "IDQHsWL0sgDK",
        "colab": {
          "base_uri": "https://localhost:8080/"
        },
        "outputId": "f5df4236-d4be-4007-b109-a182682bbf0d"
      },
      "outputs": [
        {
          "output_type": "execute_result",
          "data": {
            "text/plain": [
              "(1, 10)"
            ]
          },
          "metadata": {},
          "execution_count": 41
        }
      ],
      "source": [
        "single_pred.shape"
      ]
    },
    {
      "cell_type": "code",
      "execution_count": 42,
      "metadata": {
        "id": "NsQ9vqz7slkN",
        "colab": {
          "base_uri": "https://localhost:8080/"
        },
        "outputId": "ca4ecbe9-17f1-4196-cd64-b42971cf6050"
      },
      "outputs": [
        {
          "output_type": "execute_result",
          "data": {
            "text/plain": [
              "(1, 10)"
            ]
          },
          "metadata": {},
          "execution_count": 42
        }
      ],
      "source": [
        "# Get the corresponding test array\n",
        "single_test = testY[20].reshape(1, testY.shape[1])\n",
        "single_test.shape"
      ]
    },
    {
      "cell_type": "markdown",
      "metadata": {
        "id": "54842BOdfaSU"
      },
      "source": [
        "###Compute the MSE"
      ]
    },
    {
      "cell_type": "code",
      "execution_count": 43,
      "metadata": {
        "id": "mKrlfvOXsUDr",
        "colab": {
          "base_uri": "https://localhost:8080/"
        },
        "outputId": "05eef927-1fe1-4af0-c0e5-643984b50cc5"
      },
      "outputs": [
        {
          "output_type": "stream",
          "name": "stdout",
          "text": [
            "MSE: 1.2532515355894787e-07\n"
          ]
        }
      ],
      "source": [
        "mse = mean_squared_error(single_test, single_pred)\n",
        "print(\"MSE:\", mse)"
      ]
    },
    {
      "cell_type": "code",
      "execution_count": 44,
      "metadata": {
        "id": "5rPr2O_WtLOG",
        "colab": {
          "base_uri": "https://localhost:8080/",
          "height": 472
        },
        "outputId": "13485584-e2ff-453b-9a73-eb6ee03062d2"
      },
      "outputs": [
        {
          "output_type": "display_data",
          "data": {
            "text/plain": [
              "<Figure size 640x480 with 1 Axes>"
            ],
            "image/png": "[encoded data removed]"
          },
          "metadata": {}
        }
      ],
      "source": [
        "# Plot\n",
        "plt.plot(list(range(49,60)), np.insert(single_test.reshape(10,), 0, single[0,49,0]), label='Test')\n",
        "plt.plot(list(range(49,60)), np.insert(single_pred.reshape(10,), 0, single[0,49,0]), label='Pred')\n",
        "plt.plot(list(range(0,50)), single.reshape(50,), label='Train')\n",
        "\n",
        "\n",
        "# Set plot labels and title\n",
        "plt.xlabel('Time')\n",
        "plt.ylabel('Value')\n",
        "plt.title('Original Data vs. Predicted Data')\n",
        "\n",
        "# Add legend\n",
        "plt.legend()\n",
        "\n",
        "# Display the plot\n",
        "plt.show()"
      ]
    },
    {
      "cell_type": "markdown",
      "metadata": {
        "id": "hfaFQFMBf04b"
      },
      "source": [
        "#Plot the predictions"
      ]
    },
    {
      "cell_type": "code",
      "execution_count": 45,
      "metadata": {
        "id": "7nIjY36rff5-"
      },
      "outputs": [],
      "source": [
        "# Indexing data \n",
        "times_exploded = []\n",
        "forecast_len = testY.shape[1]\n",
        "idx_list = data.index.to_list()\n",
        "\n",
        "for i in range(len(data.index) - forecast_len):\n",
        "  times_exploded.append(pd.to_datetime(idx_list[i : i + forecast_len]))"
      ]
    },
    {
      "cell_type": "code",
      "execution_count": 54,
      "metadata": {
        "id": "I0Bhn2yWdJlh",
        "colab": {
          "base_uri": "https://localhost:8080/",
          "height": 556
        },
        "outputId": "328c4a1a-2258-468d-a48d-5a48d33f982f"
      },
      "outputs": [
        {
          "output_type": "execute_result",
          "data": {
            "text/plain": [
              "<matplotlib.legend.Legend at 0x7f9e1391a980>"
            ]
          },
          "metadata": {},
          "execution_count": 54
        },
        {
          "output_type": "display_data",
          "data": {
            "text/plain": [
              "<Figure size 1400x600 with 1 Axes>"
            ],
            "image/png": "[encoded data removed]"
          },
          "metadata": {}
        }
      ],
      "source": [
        "# Plot the log returns\n",
        "\n",
        "# Define dates\n",
        "start_time = pd.to_datetime(\"2023-05-12 16:30\")\n",
        "end_time = pd.to_datetime(\"2023-05-12 19:00\")\n",
        "\n",
        "# Adjust x-axis limits\n",
        "ax = (data.iloc[-len(y_pred):]).plot(\n",
        "    style=\"-\",\n",
        "    title=\"True vs. Predicted Log Returns\",\n",
        "    xlabel=\"Date\",\n",
        "    ylabel=\"Nasdaq-100 Index Log Returns\",\n",
        "    xlim=[start_time, end_time],\n",
        "    figsize=(14, 6))\n",
        "\n",
        "times = times_exploded[-len(y_pred):]\n",
        "for idx in range(10, len(y_pred), 20):\n",
        "  plt.plot(times[idx], y_pred[idx], color = 'r')\n",
        "\n",
        "# Add legend \n",
        "ax.legend()"
      ]
    }
  ],
  "metadata": {
    "colab": {
      "provenance": [],
      "collapsed_sections": [
        "XgLsy0AX7-vM"
      ]
    },
    "kernelspec": {
      "display_name": "Python 3",
      "name": "python3"
    },
    "language_info": {
      "name": "python"
    }
  },
  "nbformat": 4,
  "nbformat_minor": 0
}
