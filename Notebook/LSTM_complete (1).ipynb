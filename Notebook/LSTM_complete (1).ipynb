{
  "cells": [
    {
      "cell_type": "markdown",
      "metadata": {
        "id": "jPZNSbVfrjFL"
      },
      "source": [
        "# LSTM Notebook\n",
        "In this notebook we try to predict the closing price of AAPL stock using three different LSTM models:\n",
        "\n",
        "\n",
        "*   Vanilla LSTM\n",
        "*   Stacked LSTM\n",
        "*   LSTM-GRU hybrid model\n",
        "*   BiLSTM\n",
        "\n",
        "\n",
        "\n",
        "A lenght of 90 days, namely three months is used as look-back period, to predict the next day's price.\n",
        "\n",
        "*Potentially, there could be several other models to experiment with, however for the sake of this analysis we will only focus on these aforementioned. \n",
        "\n",
        "\n"
      ]
    },
    {
      "cell_type": "markdown",
      "metadata": {
        "id": "MP_UhTQemyIn"
      },
      "source": [
        "# Importing the libraries"
      ]
    },
    {
      "cell_type": "code",
      "execution_count": 1,
      "metadata": {
        "id": "XTgmNCx3mhkp"
      },
      "outputs": [],
      "source": [
        "import math\n",
        "import matplotlib.pyplot as plt\n",
        "import keras\n",
        "import pandas as pd\n",
        "import numpy as np\n",
        "import io\n",
        "from keras.models import Sequential\n",
        "from keras.layers import Dense\n",
        "from keras.layers import LSTM\n",
        "from keras.layers import Dropout\n",
        "from keras.layers import *\n",
        "from sklearn.preprocessing import MinMaxScaler\n",
        "from sklearn.metrics import mean_squared_error\n",
        "from sklearn.metrics import mean_absolute_error\n",
        "from sklearn.model_selection import train_test_split\n",
        "from keras.callbacks import EarlyStopping\n",
        "%matplotlib inline\n",
        "from pylab import rcParams\n",
        "import matplotlib.pyplot as plt\n",
        "import seaborn as sns"
      ]
    },
    {
      "cell_type": "code",
      "execution_count": 2,
      "metadata": {
        "colab": {
          "base_uri": "https://localhost:8080/",
          "height": 0
        },
        "id": "Df9j0sifm3EP",
        "outputId": "f7bfd1dd-b851-4344-9972-a4e999713121"
      },
      "outputs": [
        {
          "output_type": "stream",
          "name": "stdout",
          "text": [
            "Mounted at /content/drive\n"
          ]
        }
      ],
      "source": [
        "from google.colab import drive\n",
        "drive.mount('/content/drive')"
      ]
    },
    {
      "cell_type": "code",
      "execution_count": 3,
      "metadata": {
        "colab": {
          "base_uri": "https://localhost:8080/",
          "height": 73
        },
        "id": "4zdqmjxMm2-q",
        "outputId": "081591d9-ff5c-47bb-cdb7-b36c8bfe0db3"
      },
      "outputs": [
        {
          "output_type": "display_data",
          "data": {
            "text/plain": [
              "<IPython.core.display.HTML object>"
            ],
            "text/html": [
              "\n",
              "     <input type=\"file\" id=\"files-af9ce4f0-c65f-45d3-aefb-3416136de685\" name=\"files[]\" multiple disabled\n",
              "        style=\"border:none\" />\n",
              "     <output id=\"result-af9ce4f0-c65f-45d3-aefb-3416136de685\">\n",
              "      Upload widget is only available when the cell has been executed in the\n",
              "      current browser session. Please rerun this cell to enable.\n",
              "      </output>\n",
              "      <script>// Copyright 2017 Google LLC\n",
              "//\n",
              "// Licensed under the Apache License, Version 2.0 (the \"License\");\n",
              "// you may not use this file except in compliance with the License.\n",
              "// You may obtain a copy of the License at\n",
              "//\n",
              "//      http://www.apache.org/licenses/LICENSE-2.0\n",
              "//\n",
              "// Unless required by applicable law or agreed to in writing, software\n",
              "// distributed under the License is distributed on an \"AS IS\" BASIS,\n",
              "// WITHOUT WARRANTIES OR CONDITIONS OF ANY KIND, either express or implied.\n",
              "// See the License for the specific language governing permissions and\n",
              "// limitations under the License.\n",
              "\n",
              "/**\n",
              " * @fileoverview Helpers for google.colab Python module.\n",
              " */\n",
              "(function(scope) {\n",
              "function span(text, styleAttributes = {}) {\n",
              "  const element = document.createElement('span');\n",
              "  element.textContent = text;\n",
              "  for (const key of Object.keys(styleAttributes)) {\n",
              "    element.style[key] = styleAttributes[key];\n",
              "  }\n",
              "  return element;\n",
              "}\n",
              "\n",
              "// Max number of bytes which will be uploaded at a time.\n",
              "const MAX_PAYLOAD_SIZE = 100 * 1024;\n",
              "\n",
              "function _uploadFiles(inputId, outputId) {\n",
              "  const steps = uploadFilesStep(inputId, outputId);\n",
              "  const outputElement = document.getElementById(outputId);\n",
              "  // Cache steps on the outputElement to make it available for the next call\n",
              "  // to uploadFilesContinue from Python.\n",
              "  outputElement.steps = steps;\n",
              "\n",
              "  return _uploadFilesContinue(outputId);\n",
              "}\n",
              "\n",
              "// This is roughly an async generator (not supported in the browser yet),\n",
              "// where there are multiple asynchronous steps and the Python side is going\n",
              "// to poll for completion of each step.\n",
              "// This uses a Promise to block the python side on completion of each step,\n",
              "// then passes the result of the previous step as the input to the next step.\n",
              "function _uploadFilesContinue(outputId) {\n",
              "  const outputElement = document.getElementById(outputId);\n",
              "  const steps = outputElement.steps;\n",
              "\n",
              "  const next = steps.next(outputElement.lastPromiseValue);\n",
              "  return Promise.resolve(next.value.promise).then((value) => {\n",
              "    // Cache the last promise value to make it available to the next\n",
              "    // step of the generator.\n",
              "    outputElement.lastPromiseValue = value;\n",
              "    return next.value.response;\n",
              "  });\n",
              "}\n",
              "\n",
              "/**\n",
              " * Generator function which is called between each async step of the upload\n",
              " * process.\n",
              " * @param {string} inputId Element ID of the input file picker element.\n",
              " * @param {string} outputId Element ID of the output display.\n",
              " * @return {!Iterable<!Object>} Iterable of next steps.\n",
              " */\n",
              "function* uploadFilesStep(inputId, outputId) {\n",
              "  const inputElement = document.getElementById(inputId);\n",
              "  inputElement.disabled = false;\n",
              "\n",
              "  const outputElement = document.getElementById(outputId);\n",
              "  outputElement.innerHTML = '';\n",
              "\n",
              "  const pickedPromise = new Promise((resolve) => {\n",
              "    inputElement.addEventListener('change', (e) => {\n",
              "      resolve(e.target.files);\n",
              "    });\n",
              "  });\n",
              "\n",
              "  const cancel = document.createElement('button');\n",
              "  inputElement.parentElement.appendChild(cancel);\n",
              "  cancel.textContent = 'Cancel upload';\n",
              "  const cancelPromise = new Promise((resolve) => {\n",
              "    cancel.onclick = () => {\n",
              "      resolve(null);\n",
              "    };\n",
              "  });\n",
              "\n",
              "  // Wait for the user to pick the files.\n",
              "  const files = yield {\n",
              "    promise: Promise.race([pickedPromise, cancelPromise]),\n",
              "    response: {\n",
              "      action: 'starting',\n",
              "    }\n",
              "  };\n",
              "\n",
              "  cancel.remove();\n",
              "\n",
              "  // Disable the input element since further picks are not allowed.\n",
              "  inputElement.disabled = true;\n",
              "\n",
              "  if (!files) {\n",
              "    return {\n",
              "      response: {\n",
              "        action: 'complete',\n",
              "      }\n",
              "    };\n",
              "  }\n",
              "\n",
              "  for (const file of files) {\n",
              "    const li = document.createElement('li');\n",
              "    li.append(span(file.name, {fontWeight: 'bold'}));\n",
              "    li.append(span(\n",
              "        `(${file.type || 'n/a'}) - ${file.size} bytes, ` +\n",
              "        `last modified: ${\n",
              "            file.lastModifiedDate ? file.lastModifiedDate.toLocaleDateString() :\n",
              "                                    'n/a'} - `));\n",
              "    const percent = span('0% done');\n",
              "    li.appendChild(percent);\n",
              "\n",
              "    outputElement.appendChild(li);\n",
              "\n",
              "    const fileDataPromise = new Promise((resolve) => {\n",
              "      const reader = new FileReader();\n",
              "      reader.onload = (e) => {\n",
              "        resolve(e.target.result);\n",
              "      };\n",
              "      reader.readAsArrayBuffer(file);\n",
              "    });\n",
              "    // Wait for the data to be ready.\n",
              "    let fileData = yield {\n",
              "      promise: fileDataPromise,\n",
              "      response: {\n",
              "        action: 'continue',\n",
              "      }\n",
              "    };\n",
              "\n",
              "    // Use a chunked sending to avoid message size limits. See b/62115660.\n",
              "    let position = 0;\n",
              "    do {\n",
              "      const length = Math.min(fileData.byteLength - position, MAX_PAYLOAD_SIZE);\n",
              "      const chunk = new Uint8Array(fileData, position, length);\n",
              "      position += length;\n",
              "\n",
              "      const base64 = btoa(String.fromCharCode.apply(null, chunk));\n",
              "      yield {\n",
              "        response: {\n",
              "          action: 'append',\n",
              "          file: file.name,\n",
              "          data: base64,\n",
              "        },\n",
              "      };\n",
              "\n",
              "      let percentDone = fileData.byteLength === 0 ?\n",
              "          100 :\n",
              "          Math.round((position / fileData.byteLength) * 100);\n",
              "      percent.textContent = `${percentDone}% done`;\n",
              "\n",
              "    } while (position < fileData.byteLength);\n",
              "  }\n",
              "\n",
              "  // All done.\n",
              "  yield {\n",
              "    response: {\n",
              "      action: 'complete',\n",
              "    }\n",
              "  };\n",
              "}\n",
              "\n",
              "scope.google = scope.google || {};\n",
              "scope.google.colab = scope.google.colab || {};\n",
              "scope.google.colab._files = {\n",
              "  _uploadFiles,\n",
              "  _uploadFilesContinue,\n",
              "};\n",
              "})(self);\n",
              "</script> "
            ]
          },
          "metadata": {}
        },
        {
          "output_type": "stream",
          "name": "stdout",
          "text": [
            "Saving AAPL.csv to AAPL.csv\n"
          ]
        }
      ],
      "source": [
        "from google.colab import files\n",
        "uploaded = files.upload()"
      ]
    },
    {
      "cell_type": "markdown",
      "source": [
        "# Load data"
      ],
      "metadata": {
        "id": "VTMdVl7Gju_r"
      }
    },
    {
      "cell_type": "code",
      "execution_count": 4,
      "metadata": {
        "id": "bjPzyjZ5m5xf"
      },
      "outputs": [],
      "source": [
        "#Load the data\n",
        "data = pd.read_csv(io.BytesIO(uploaded['AAPL.csv']) , index_col = 'Date', parse_dates = True) "
      ]
    },
    {
      "cell_type": "code",
      "execution_count": 5,
      "metadata": {
        "colab": {
          "base_uri": "https://localhost:8080/",
          "height": 237
        },
        "id": "rgUMV2BTnBTg",
        "outputId": "b4fd69d0-fa52-477d-af62-946e7c8ed325"
      },
      "outputs": [
        {
          "output_type": "execute_result",
          "data": {
            "text/plain": [
              "                Open      High       Low     Close  Adj Close     Volume\n",
              "Date                                                                    \n",
              "2010-01-04  7.622500  7.660714  7.585000  7.643214   6.505280  493729600\n",
              "2010-01-05  7.664286  7.699643  7.616071  7.656429   6.516528  601904800\n",
              "2010-01-06  7.656429  7.686786  7.526786  7.534643   6.412874  552160000\n",
              "2010-01-07  7.562500  7.571429  7.466071  7.520714   6.401018  477131200\n",
              "2010-01-08  7.510714  7.571429  7.466429  7.570714   6.443573  447610800"
            ],
            "text/html": [
              "\n",
              "  <div id=\"df-581faad2-4a5e-4b0b-b3c1-42ffa9474939\">\n",
              "    <div class=\"colab-df-container\">\n",
              "      <div>\n",
              "<style scoped>\n",
              "    .dataframe tbody tr th:only-of-type {\n",
              "        vertical-align: middle;\n",
              "    }\n",
              "\n",
              "    .dataframe tbody tr th {\n",
              "        vertical-align: top;\n",
              "    }\n",
              "\n",
              "    .dataframe thead th {\n",
              "        text-align: right;\n",
              "    }\n",
              "</style>\n",
              "<table border=\"1\" class=\"dataframe\">\n",
              "  <thead>\n",
              "    <tr style=\"text-align: right;\">\n",
              "      <th></th>\n",
              "      <th>Open</th>\n",
              "      <th>High</th>\n",
              "      <th>Low</th>\n",
              "      <th>Close</th>\n",
              "      <th>Adj Close</th>\n",
              "      <th>Volume</th>\n",
              "    </tr>\n",
              "    <tr>\n",
              "      <th>Date</th>\n",
              "      <th></th>\n",
              "      <th></th>\n",
              "      <th></th>\n",
              "      <th></th>\n",
              "      <th></th>\n",
              "      <th></th>\n",
              "    </tr>\n",
              "  </thead>\n",
              "  <tbody>\n",
              "    <tr>\n",
              "      <th>2010-01-04</th>\n",
              "      <td>7.622500</td>\n",
              "      <td>7.660714</td>\n",
              "      <td>7.585000</td>\n",
              "      <td>7.643214</td>\n",
              "      <td>6.505280</td>\n",
              "      <td>493729600</td>\n",
              "    </tr>\n",
              "    <tr>\n",
              "      <th>2010-01-05</th>\n",
              "      <td>7.664286</td>\n",
              "      <td>7.699643</td>\n",
              "      <td>7.616071</td>\n",
              "      <td>7.656429</td>\n",
              "      <td>6.516528</td>\n",
              "      <td>601904800</td>\n",
              "    </tr>\n",
              "    <tr>\n",
              "      <th>2010-01-06</th>\n",
              "      <td>7.656429</td>\n",
              "      <td>7.686786</td>\n",
              "      <td>7.526786</td>\n",
              "      <td>7.534643</td>\n",
              "      <td>6.412874</td>\n",
              "      <td>552160000</td>\n",
              "    </tr>\n",
              "    <tr>\n",
              "      <th>2010-01-07</th>\n",
              "      <td>7.562500</td>\n",
              "      <td>7.571429</td>\n",
              "      <td>7.466071</td>\n",
              "      <td>7.520714</td>\n",
              "      <td>6.401018</td>\n",
              "      <td>477131200</td>\n",
              "    </tr>\n",
              "    <tr>\n",
              "      <th>2010-01-08</th>\n",
              "      <td>7.510714</td>\n",
              "      <td>7.571429</td>\n",
              "      <td>7.466429</td>\n",
              "      <td>7.570714</td>\n",
              "      <td>6.443573</td>\n",
              "      <td>447610800</td>\n",
              "    </tr>\n",
              "  </tbody>\n",
              "</table>\n",
              "</div>\n",
              "      <button class=\"colab-df-convert\" onclick=\"convertToInteractive('df-581faad2-4a5e-4b0b-b3c1-42ffa9474939')\"\n",
              "              title=\"Convert this dataframe to an interactive table.\"\n",
              "              style=\"display:none;\">\n",
              "        \n",
              "  <svg xmlns=\"http://www.w3.org/2000/svg\" height=\"24px\"viewBox=\"0 0 24 24\"\n",
              "       width=\"24px\">\n",
              "    <path d=\"M0 0h24v24H0V0z\" fill=\"none\"/>\n",
              "    <path d=\"M18.56 5.44l.94 2.06.94-2.06 2.06-.94-2.06-.94-.94-2.06-.94 2.06-2.06.94zm-11 1L8.5 8.5l.94-2.06 2.06-.94-2.06-.94L8.5 2.5l-.94 2.06-2.06.94zm10 10l.94 2.06.94-2.06 2.06-.94-2.06-.94-.94-2.06-.94 2.06-2.06.94z\"/><path d=\"M17.41 7.96l-1.37-1.37c-.4-.4-.92-.59-1.43-.59-.52 0-1.04.2-1.43.59L10.3 9.45l-7.72 7.72c-.78.78-.78 2.05 0 2.83L4 21.41c.39.39.9.59 1.41.59.51 0 1.02-.2 1.41-.59l7.78-7.78 2.81-2.81c.8-.78.8-2.07 0-2.86zM5.41 20L4 18.59l7.72-7.72 1.47 1.35L5.41 20z\"/>\n",
              "  </svg>\n",
              "      </button>\n",
              "      \n",
              "  <style>\n",
              "    .colab-df-container {\n",
              "      display:flex;\n",
              "      flex-wrap:wrap;\n",
              "      gap: 12px;\n",
              "    }\n",
              "\n",
              "    .colab-df-convert {\n",
              "      background-color: #E8F0FE;\n",
              "      border: none;\n",
              "      border-radius: 50%;\n",
              "      cursor: pointer;\n",
              "      display: none;\n",
              "      fill: #1967D2;\n",
              "      height: 32px;\n",
              "      padding: 0 0 0 0;\n",
              "      width: 32px;\n",
              "    }\n",
              "\n",
              "    .colab-df-convert:hover {\n",
              "      background-color: #E2EBFA;\n",
              "      box-shadow: 0px 1px 2px rgba(60, 64, 67, 0.3), 0px 1px 3px 1px rgba(60, 64, 67, 0.15);\n",
              "      fill: #174EA6;\n",
              "    }\n",
              "\n",
              "    [theme=dark] .colab-df-convert {\n",
              "      background-color: #3B4455;\n",
              "      fill: #D2E3FC;\n",
              "    }\n",
              "\n",
              "    [theme=dark] .colab-df-convert:hover {\n",
              "      background-color: #434B5C;\n",
              "      box-shadow: 0px 1px 3px 1px rgba(0, 0, 0, 0.15);\n",
              "      filter: drop-shadow(0px 1px 2px rgba(0, 0, 0, 0.3));\n",
              "      fill: #FFFFFF;\n",
              "    }\n",
              "  </style>\n",
              "\n",
              "      <script>\n",
              "        const buttonEl =\n",
              "          document.querySelector('#df-581faad2-4a5e-4b0b-b3c1-42ffa9474939 button.colab-df-convert');\n",
              "        buttonEl.style.display =\n",
              "          google.colab.kernel.accessAllowed ? 'block' : 'none';\n",
              "\n",
              "        async function convertToInteractive(key) {\n",
              "          const element = document.querySelector('#df-581faad2-4a5e-4b0b-b3c1-42ffa9474939');\n",
              "          const dataTable =\n",
              "            await google.colab.kernel.invokeFunction('convertToInteractive',\n",
              "                                                     [key], {});\n",
              "          if (!dataTable) return;\n",
              "\n",
              "          const docLinkHtml = 'Like what you see? Visit the ' +\n",
              "            '<a target=\"_blank\" href=https://colab.research.google.com/notebooks/data_table.ipynb>data table notebook</a>'\n",
              "            + ' to learn more about interactive tables.';\n",
              "          element.innerHTML = '';\n",
              "          dataTable['output_type'] = 'display_data';\n",
              "          await google.colab.output.renderOutput(dataTable, element);\n",
              "          const docLink = document.createElement('div');\n",
              "          docLink.innerHTML = docLinkHtml;\n",
              "          element.appendChild(docLink);\n",
              "        }\n",
              "      </script>\n",
              "    </div>\n",
              "  </div>\n",
              "  "
            ]
          },
          "metadata": {},
          "execution_count": 5
        }
      ],
      "source": [
        "data.head()"
      ]
    },
    {
      "cell_type": "code",
      "execution_count": 6,
      "metadata": {
        "colab": {
          "base_uri": "https://localhost:8080/",
          "height": 415
        },
        "id": "rBn9J5JenCWM",
        "outputId": "b201bcbd-04f0-491e-ab63-340e1a1080d4"
      },
      "outputs": [
        {
          "output_type": "display_data",
          "data": {
            "text/plain": [
              "<Figure size 1200x400 with 1 Axes>"
            ],
            "image/png": "[encoded data removed]"
          },
          "metadata": {}
        }
      ],
      "source": [
        "#Plot the data\n",
        "plt.figure(figsize=(12,4))\n",
        "plt.title('AAPL Close Price History')\n",
        "plt.plot(data['Close'])\n",
        "plt.xlabel('Date', fontsize=18)\n",
        "plt.ylabel('Close Price($)', fontsize=18)\n",
        "plt.show()"
      ]
    },
    {
      "cell_type": "code",
      "execution_count": 7,
      "metadata": {
        "id": "tgEP9mk61JH0"
      },
      "outputs": [],
      "source": [
        "#Create new dataset filtering the closing price\n",
        "data = data.filter(['Close'])\n",
        "#Convert the dataset to a numpy array\n",
        "dataset = data.values"
      ]
    },
    {
      "cell_type": "code",
      "execution_count": 8,
      "metadata": {
        "colab": {
          "base_uri": "https://localhost:8080/",
          "height": 0
        },
        "id": "31CGHL-rrZ3J",
        "outputId": "f34479d1-d407-46b9-c109-d702d40ddba4"
      },
      "outputs": [
        {
          "output_type": "execute_result",
          "data": {
            "text/plain": [
              "(2945, 327)"
            ]
          },
          "metadata": {},
          "execution_count": 8
        }
      ],
      "source": [
        "#Define train and test sets size\n",
        "training_data_len = int(np.ceil( len(dataset) * .90 ))\n",
        "testing_data_len = int(len(dataset)) - training_data_len\n",
        "training_data_len, testing_data_len"
      ]
    },
    {
      "cell_type": "markdown",
      "metadata": {
        "id": "mZ9KFO6-q5o3"
      },
      "source": [
        "# Pre-processing of data"
      ]
    },
    {
      "cell_type": "markdown",
      "metadata": {
        "id": "kY5IApHdsXS8"
      },
      "source": [
        "As a remark, according to some sources (not so many though), using MinMaxScaler may not be the best option as stocks' prices are not bounded quantities, therefore defining a min and a max may result in a trivial operation. Using MinMaxScaler using returns instead of the closing price may be a solution."
      ]
    },
    {
      "cell_type": "code",
      "execution_count": 9,
      "metadata": {
        "id": "LHXuIbJdnMrv"
      },
      "outputs": [],
      "source": [
        "#Normalize the data between 0 and 1\n",
        "from sklearn.preprocessing import MinMaxScaler\n",
        "sc= MinMaxScaler()\n",
        "scaled_data= sc.fit_transform(data)"
      ]
    },
    {
      "cell_type": "code",
      "execution_count": 10,
      "metadata": {
        "colab": {
          "base_uri": "https://localhost:8080/",
          "height": 0
        },
        "id": "zN-33QNsnMn3",
        "outputId": "e20c9b37-aa27-476c-b7e0-7032d067e1c0"
      },
      "outputs": [
        {
          "output_type": "execute_result",
          "data": {
            "text/plain": [
              "array([[0.00447776],\n",
              "       [0.00455321],\n",
              "       [0.00385789],\n",
              "       ...,\n",
              "       [0.68044731],\n",
              "       [0.70082972],\n",
              "       [0.70265667]])"
            ]
          },
          "metadata": {},
          "execution_count": 10
        }
      ],
      "source": [
        "scaled_data"
      ]
    },
    {
      "cell_type": "code",
      "execution_count": 11,
      "metadata": {
        "colab": {
          "base_uri": "https://localhost:8080/",
          "height": 0
        },
        "id": "soMqCuAx_Gjc",
        "outputId": "ae6ffd11-5673-47fa-be33-358c90a83aa7"
      },
      "outputs": [
        {
          "output_type": "stream",
          "name": "stdout",
          "text": [
            "[array([4.47776321e-03, 4.55321237e-03, 3.85789259e-03, 3.77836696e-03,\n",
            "       4.06383482e-03, 3.68253539e-03, 3.19519608e-03, 3.79264035e-03,\n",
            "       3.54387795e-03, 2.83020830e-03, 4.68778763e-03, 4.01286167e-03,\n",
            "       3.26656305e-03, 1.16225955e-03, 2.24703742e-03, 2.83224654e-03,\n",
            "       3.22782506e-03, 1.47627420e-03, 2.03824052e-06, 5.46465415e-04,\n",
            "       7.76877944e-04, 1.46403905e-03, 0.00000000e+00, 6.95314067e-04,\n",
            "       4.22081359e-04, 8.44168428e-04, 6.25985342e-04, 1.34985190e-03,\n",
            "       1.69853377e-03, 2.31432791e-03, 2.14100895e-03, 2.21849064e-03,\n",
            "       1.96156956e-03, 1.70668673e-03, 1.02156387e-03, 1.75562734e-03,\n",
            "       2.02886005e-03, 2.56309031e-03, 3.45416111e-03, 3.42561432e-03,\n",
            "       3.52348412e-03, 3.80487550e-03, 5.48505939e-03, 5.51156794e-03,\n",
            "       6.31495443e-03, 6.68606265e-03, 6.82063791e-03, 7.04493571e-03,\n",
            "       6.48215866e-03, 6.60653701e-03, 6.53925224e-03, 6.64731895e-03,\n",
            "       6.15794711e-03, 6.66771277e-03, 7.40380878e-03, 7.60975671e-03,\n",
            "       7.05513262e-03, 7.92173312e-03, 8.22555085e-03, 8.93106183e-03,\n",
            "       8.75774287e-03, 8.95553213e-03, 9.46937428e-03, 9.68347518e-03,\n",
            "       9.89961431e-03, 9.76707730e-03, 1.01422620e-02, 1.02442140e-02,\n",
            "       1.02727608e-02, 1.09374955e-02, 1.15961098e-02, 1.12861717e-02,\n",
            "       1.12188869e-02, 1.07131977e-02, 1.36963369e-02, 1.51746550e-02,\n",
            "       1.60636819e-02, 1.57924874e-02, 1.42713491e-02, 1.41816322e-02,\n",
            "       1.56171302e-02, 1.40776420e-02, 1.51501847e-02, 1.35862262e-02,\n",
            "       1.30377225e-02, 1.10516827e-02, 8.93310007e-03, 1.26299089e-02,\n",
            "       1.31457950e-02, 1.42815460e-02])]\n",
            "[0.01352097965535648]\n",
            "\n",
            "[array([4.47776321e-03, 4.55321237e-03, 3.85789259e-03, 3.77836696e-03,\n",
            "       4.06383482e-03, 3.68253539e-03, 3.19519608e-03, 3.79264035e-03,\n",
            "       3.54387795e-03, 2.83020830e-03, 4.68778763e-03, 4.01286167e-03,\n",
            "       3.26656305e-03, 1.16225955e-03, 2.24703742e-03, 2.83224654e-03,\n",
            "       3.22782506e-03, 1.47627420e-03, 2.03824052e-06, 5.46465415e-04,\n",
            "       7.76877944e-04, 1.46403905e-03, 0.00000000e+00, 6.95314067e-04,\n",
            "       4.22081359e-04, 8.44168428e-04, 6.25985342e-04, 1.34985190e-03,\n",
            "       1.69853377e-03, 2.31432791e-03, 2.14100895e-03, 2.21849064e-03,\n",
            "       1.96156956e-03, 1.70668673e-03, 1.02156387e-03, 1.75562734e-03,\n",
            "       2.02886005e-03, 2.56309031e-03, 3.45416111e-03, 3.42561432e-03,\n",
            "       3.52348412e-03, 3.80487550e-03, 5.48505939e-03, 5.51156794e-03,\n",
            "       6.31495443e-03, 6.68606265e-03, 6.82063791e-03, 7.04493571e-03,\n",
            "       6.48215866e-03, 6.60653701e-03, 6.53925224e-03, 6.64731895e-03,\n",
            "       6.15794711e-03, 6.66771277e-03, 7.40380878e-03, 7.60975671e-03,\n",
            "       7.05513262e-03, 7.92173312e-03, 8.22555085e-03, 8.93106183e-03,\n",
            "       8.75774287e-03, 8.95553213e-03, 9.46937428e-03, 9.68347518e-03,\n",
            "       9.89961431e-03, 9.76707730e-03, 1.01422620e-02, 1.02442140e-02,\n",
            "       1.02727608e-02, 1.09374955e-02, 1.15961098e-02, 1.12861717e-02,\n",
            "       1.12188869e-02, 1.07131977e-02, 1.36963369e-02, 1.51746550e-02,\n",
            "       1.60636819e-02, 1.57924874e-02, 1.42713491e-02, 1.41816322e-02,\n",
            "       1.56171302e-02, 1.40776420e-02, 1.51501847e-02, 1.35862262e-02,\n",
            "       1.30377225e-02, 1.10516827e-02, 8.93310007e-03, 1.26299089e-02,\n",
            "       1.31457950e-02, 1.42815460e-02]), array([4.55321237e-03, 3.85789259e-03, 3.77836696e-03, 4.06383482e-03,\n",
            "       3.68253539e-03, 3.19519608e-03, 3.79264035e-03, 3.54387795e-03,\n",
            "       2.83020830e-03, 4.68778763e-03, 4.01286167e-03, 3.26656305e-03,\n",
            "       1.16225955e-03, 2.24703742e-03, 2.83224654e-03, 3.22782506e-03,\n",
            "       1.47627420e-03, 2.03824052e-06, 5.46465415e-04, 7.76877944e-04,\n",
            "       1.46403905e-03, 0.00000000e+00, 6.95314067e-04, 4.22081359e-04,\n",
            "       8.44168428e-04, 6.25985342e-04, 1.34985190e-03, 1.69853377e-03,\n",
            "       2.31432791e-03, 2.14100895e-03, 2.21849064e-03, 1.96156956e-03,\n",
            "       1.70668673e-03, 1.02156387e-03, 1.75562734e-03, 2.02886005e-03,\n",
            "       2.56309031e-03, 3.45416111e-03, 3.42561432e-03, 3.52348412e-03,\n",
            "       3.80487550e-03, 5.48505939e-03, 5.51156794e-03, 6.31495443e-03,\n",
            "       6.68606265e-03, 6.82063791e-03, 7.04493571e-03, 6.48215866e-03,\n",
            "       6.60653701e-03, 6.53925224e-03, 6.64731895e-03, 6.15794711e-03,\n",
            "       6.66771277e-03, 7.40380878e-03, 7.60975671e-03, 7.05513262e-03,\n",
            "       7.92173312e-03, 8.22555085e-03, 8.93106183e-03, 8.75774287e-03,\n",
            "       8.95553213e-03, 9.46937428e-03, 9.68347518e-03, 9.89961431e-03,\n",
            "       9.76707730e-03, 1.01422620e-02, 1.02442140e-02, 1.02727608e-02,\n",
            "       1.09374955e-02, 1.15961098e-02, 1.12861717e-02, 1.12188869e-02,\n",
            "       1.07131977e-02, 1.36963369e-02, 1.51746550e-02, 1.60636819e-02,\n",
            "       1.57924874e-02, 1.42713491e-02, 1.41816322e-02, 1.56171302e-02,\n",
            "       1.40776420e-02, 1.51501847e-02, 1.35862262e-02, 1.30377225e-02,\n",
            "       1.10516827e-02, 8.93310007e-03, 1.26299089e-02, 1.31457950e-02,\n",
            "       1.42815460e-02, 1.35209797e-02])]\n",
            "[0.01352097965535648, 0.012595247350649867]\n",
            "\n",
            "(2855, 90, 1)\n"
          ]
        }
      ],
      "source": [
        "train_data = scaled_data[0:int(training_data_len), :]\n",
        "# Split the data into x_train and y_train data sets\n",
        "x_train = []\n",
        "y_train = []\n",
        "\n",
        "for i in range(90, len(train_data)):\n",
        "    x_train.append(train_data[i-90:i, 0])\n",
        "    y_train.append(train_data[i, 0])\n",
        "    if i<= 91:\n",
        "        print(x_train)\n",
        "        print(y_train)\n",
        "        print()\n",
        "\n",
        "# Convert the x_train and y_train to numpy arrays \n",
        "x_train, y_train = np.array(x_train), np.array(y_train)\n",
        "\n",
        "# Reshape the data\n",
        "x_train = np.reshape(x_train, (x_train.shape[0], x_train.shape[1], 1))\n",
        "print(x_train.shape)"
      ]
    },
    {
      "cell_type": "code",
      "execution_count": 12,
      "metadata": {
        "id": "0u0okd7HoMyu"
      },
      "outputs": [],
      "source": [
        "test_data = scaled_data[training_data_len - 90: , :]\n",
        "# Create the data sets x_test and y_test\n",
        "x_test = []\n",
        "y_test = dataset[training_data_len:, :]\n",
        "for i in range(90, len(test_data)):\n",
        "    x_test.append(test_data[i-90:i, 0])\n",
        "    \n",
        "# Convert the data to a numpy array\n",
        "x_test = np.array(x_test)\n",
        "\n",
        "# Reshape the data\n",
        "x_test = np.reshape(x_test, (x_test.shape[0], x_test.shape[1], 1 ))"
      ]
    },
    {
      "cell_type": "code",
      "source": [
        "x_test\n"
      ],
      "metadata": {
        "colab": {
          "base_uri": "https://localhost:8080/",
          "height": 0
        },
        "id": "oLs7NcVWk4a3",
        "outputId": "8a6399f9-c21f-483a-9bb8-bcb094be849b"
      },
      "execution_count": 13,
      "outputs": [
        {
          "output_type": "execute_result",
          "data": {
            "text/plain": [
              "array([[[0.70425537],\n",
              "        [0.68507187],\n",
              "        [0.67970511],\n",
              "        ...,\n",
              "        [0.81136287],\n",
              "        [0.81467431],\n",
              "        [0.80650988]],\n",
              "\n",
              "       [[0.68507187],\n",
              "        [0.67970511],\n",
              "        [0.66177769],\n",
              "        ...,\n",
              "        [0.81467431],\n",
              "        [0.80650988],\n",
              "        [0.81170542]],\n",
              "\n",
              "       [[0.67970511],\n",
              "        [0.66177769],\n",
              "        [0.6743383 ],\n",
              "        ...,\n",
              "        [0.80650988],\n",
              "        [0.81170542],\n",
              "        [0.81033514]],\n",
              "\n",
              "       ...,\n",
              "\n",
              "       [[0.94010889],\n",
              "        [0.91755695],\n",
              "        [0.91561571],\n",
              "        ...,\n",
              "        [0.7157882 ],\n",
              "        [0.71367577],\n",
              "        [0.70322764]],\n",
              "\n",
              "       [[0.91755695],\n",
              "        [0.91561571],\n",
              "        [0.91732853],\n",
              "        ...,\n",
              "        [0.71367577],\n",
              "        [0.70322764],\n",
              "        [0.68044731]],\n",
              "\n",
              "       [[0.91561571],\n",
              "        [0.91732853],\n",
              "        [0.93160192],\n",
              "        ...,\n",
              "        [0.70322764],\n",
              "        [0.68044731],\n",
              "        [0.70082972]]])"
            ]
          },
          "metadata": {},
          "execution_count": 13
        }
      ]
    },
    {
      "cell_type": "markdown",
      "metadata": {
        "id": "IzozV2wMnNID"
      },
      "source": [
        "# Vanilla LSTM\n",
        "We start with a basic implementation of a Long-Short Term Memory model using just one LSTM layer and a dropout to remove some of the neurons from one step to the other. Adam is chosen as optimizer, together with a mean_squared_error loss function."
      ]
    },
    {
      "cell_type": "code",
      "execution_count": 14,
      "metadata": {
        "id": "Ennu2097nPzd"
      },
      "outputs": [],
      "source": [
        "#Build a Vanilla LSTM\n",
        "vanilla_lstm = Sequential()\n",
        "vanilla_lstm.add(LSTM(units = 128, input_shape = (x_train.shape[1], 1)))\n",
        "vanilla_lstm.add(Dropout(rate = 0.2))\n",
        "vanilla_lstm.add(Dense(units = 1))\n",
        "vanilla_lstm.compile(optimizer = 'adam', loss = 'mean_squared_error')"
      ]
    },
    {
      "cell_type": "code",
      "execution_count": 15,
      "metadata": {
        "colab": {
          "base_uri": "https://localhost:8080/",
          "height": 0
        },
        "id": "6Kf5p1-En2pB",
        "outputId": "f80d5bba-ab76-4006-de81-3dd6792ec6bb"
      },
      "outputs": [
        {
          "output_type": "stream",
          "name": "stdout",
          "text": [
            "Model: \"sequential\"\n",
            "_________________________________________________________________\n",
            " Layer (type)                Output Shape              Param #   \n",
            "=================================================================\n",
            " lstm (LSTM)                 (None, 128)               66560     \n",
            "                                                                 \n",
            " dropout (Dropout)           (None, 128)               0         \n",
            "                                                                 \n",
            " dense (Dense)               (None, 1)                 129       \n",
            "                                                                 \n",
            "=================================================================\n",
            "Total params: 66,689\n",
            "Trainable params: 66,689\n",
            "Non-trainable params: 0\n",
            "_________________________________________________________________\n"
          ]
        }
      ],
      "source": [
        "#Display the structure of the LSTM\n",
        "vanilla_lstm.summary()"
      ]
    },
    {
      "cell_type": "code",
      "execution_count": 16,
      "metadata": {
        "colab": {
          "base_uri": "https://localhost:8080/",
          "height": 0
        },
        "id": "lkWrjgwhn39T",
        "outputId": "5174c53b-a608-4e3e-de0b-569d9ec7b0c6"
      },
      "outputs": [
        {
          "output_type": "stream",
          "name": "stdout",
          "text": [
            "Epoch 1/20\n",
            "179/179 [==============================] - 11s 52ms/step - loss: 0.0024\n",
            "Epoch 2/20\n",
            "179/179 [==============================] - 11s 59ms/step - loss: 3.7922e-04\n",
            "Epoch 3/20\n",
            "179/179 [==============================] - 10s 54ms/step - loss: 3.8237e-04\n",
            "Epoch 4/20\n",
            "179/179 [==============================] - 9s 48ms/step - loss: 3.5806e-04\n",
            "Epoch 5/20\n",
            "179/179 [==============================] - 10s 54ms/step - loss: 3.1475e-04\n",
            "Epoch 6/20\n",
            "179/179 [==============================] - 10s 54ms/step - loss: 3.6669e-04\n",
            "Epoch 7/20\n",
            "179/179 [==============================] - 9s 52ms/step - loss: 3.2883e-04\n",
            "Epoch 8/20\n",
            "179/179 [==============================] - 9s 49ms/step - loss: 3.1810e-04\n",
            "Epoch 9/20\n",
            "179/179 [==============================] - 9s 52ms/step - loss: 2.7415e-04\n",
            "Epoch 10/20\n",
            "179/179 [==============================] - 9s 53ms/step - loss: 2.9890e-04\n",
            "Epoch 11/20\n",
            "179/179 [==============================] - 8s 47ms/step - loss: 3.3957e-04\n",
            "Epoch 12/20\n",
            "179/179 [==============================] - 9s 53ms/step - loss: 2.4849e-04\n",
            "Epoch 13/20\n",
            "179/179 [==============================] - 9s 52ms/step - loss: 2.4061e-04\n",
            "Epoch 14/20\n",
            "179/179 [==============================] - 9s 48ms/step - loss: 2.3392e-04\n",
            "Epoch 15/20\n",
            "179/179 [==============================] - 9s 51ms/step - loss: 2.2488e-04\n",
            "Epoch 16/20\n",
            "179/179 [==============================] - 10s 53ms/step - loss: 2.3327e-04\n",
            "Epoch 17/20\n",
            "179/179 [==============================] - 9s 53ms/step - loss: 2.5981e-04\n",
            "Epoch 18/20\n",
            "179/179 [==============================] - 9s 49ms/step - loss: 2.4814e-04\n",
            "Epoch 19/20\n",
            "179/179 [==============================] - 10s 53ms/step - loss: 2.4623e-04\n",
            "Epoch 20/20\n",
            "179/179 [==============================] - 10s 53ms/step - loss: 2.0398e-04\n"
          ]
        }
      ],
      "source": [
        "vanilla_history = vanilla_lstm.fit(x_train, y_train, epochs = 20, batch_size= 16)"
      ]
    },
    {
      "cell_type": "code",
      "execution_count": 17,
      "metadata": {
        "colab": {
          "base_uri": "https://localhost:8080/",
          "height": 472
        },
        "id": "Tdvk1meRoM1H",
        "outputId": "8d4ee43f-7af1-4088-ab5a-14043eedf4a2"
      },
      "outputs": [
        {
          "output_type": "display_data",
          "data": {
            "text/plain": [
              "<Figure size 640x480 with 1 Axes>"
            ],
            "image/png": "[encoded data removed]"
          },
          "metadata": {}
        }
      ],
      "source": [
        "#Plot the loss over the epochs\n",
        "plt.plot(vanilla_history.history['loss'])\n",
        "plt.title('Vanilla LSTM Loss')\n",
        "plt.xlabel('Epoch')\n",
        "plt.ylabel('Loss function')\n",
        "plt.show()"
      ]
    },
    {
      "cell_type": "code",
      "execution_count": 18,
      "metadata": {
        "colab": {
          "base_uri": "https://localhost:8080/",
          "height": 0
        },
        "id": "bveGVPEwoMvC",
        "outputId": "53fe0b15-8075-438a-ddf5-bd0d94e08608"
      },
      "outputs": [
        {
          "output_type": "stream",
          "name": "stdout",
          "text": [
            "11/11 [==============================] - 1s 25ms/step\n"
          ]
        }
      ],
      "source": [
        "predictions = vanilla_lstm.predict(x_test)\n",
        "predictions = sc.inverse_transform(predictions)"
      ]
    },
    {
      "cell_type": "code",
      "execution_count": 19,
      "metadata": {
        "colab": {
          "base_uri": "https://localhost:8080/",
          "height": 0
        },
        "id": "XRp42twaoMsJ",
        "outputId": "0b48ed94-9d6a-4bd8-936b-40f150de6203"
      },
      "outputs": [
        {
          "output_type": "stream",
          "name": "stdout",
          "text": [
            "Vanilla MSE: 21.951395060313516\n"
          ]
        }
      ],
      "source": [
        "mse = np.mean(((predictions - y_test) ** 2))\n",
        "print(\"Vanilla MSE:\", mse)"
      ]
    },
    {
      "cell_type": "code",
      "execution_count": 20,
      "metadata": {
        "colab": {
          "base_uri": "https://localhost:8080/",
          "height": 0
        },
        "id": "cV6u58u36JQN",
        "outputId": "847d3577-0028-4437-a314-3e64fcab1921"
      },
      "outputs": [
        {
          "output_type": "stream",
          "name": "stdout",
          "text": [
            "Vanilla RMSE: 4.685231590894255\n"
          ]
        }
      ],
      "source": [
        "rmse = np.sqrt(np.mean(((predictions - y_test) ** 2)))\n",
        "print(\"Vanilla RMSE:\", rmse)"
      ]
    },
    {
      "cell_type": "code",
      "execution_count": 21,
      "metadata": {
        "colab": {
          "base_uri": "https://localhost:8080/",
          "height": 566
        },
        "id": "iyLaZG8Z6Mmf",
        "outputId": "e9d01aae-429d-4e5a-cf07-9ff3ed440049"
      },
      "outputs": [
        {
          "output_type": "stream",
          "name": "stderr",
          "text": [
            "<ipython-input-21-42146f5f4631>:4: SettingWithCopyWarning: \n",
            "A value is trying to be set on a copy of a slice from a DataFrame.\n",
            "Try using .loc[row_indexer,col_indexer] = value instead\n",
            "\n",
            "See the caveats in the documentation: https://pandas.pydata.org/pandas-docs/stable/user_guide/indexing.html#returning-a-view-versus-a-copy\n",
            "  valid['Vanilla Predictions'] = predictions\n"
          ]
        },
        {
          "output_type": "display_data",
          "data": {
            "text/plain": [
              "<Figure size 1600x600 with 1 Axes>"
            ],
            "image/png": "[encoded data removed]"
          },
          "metadata": {}
        }
      ],
      "source": [
        "# Plot the data\n",
        "train = data[:int(training_data_len)]\n",
        "valid = data[int(training_data_len):]\n",
        "valid['Vanilla Predictions'] = predictions\n",
        "# Visualize the data\n",
        "plt.figure(figsize=(16,6))\n",
        "plt.title('Model')\n",
        "plt.xlabel('Date', fontsize=18)\n",
        "plt.ylabel('Close Price USD ($)', fontsize=18)\n",
        "plt.plot(train['Close'])\n",
        "plt.plot(valid[['Close', 'Vanilla Predictions']])\n",
        "plt.legend(['Train', 'Val', 'Vanilla Predictions'], loc='lower right')\n",
        "plt.show()"
      ]
    },
    {
      "cell_type": "code",
      "execution_count": 22,
      "metadata": {
        "colab": {
          "base_uri": "https://localhost:8080/",
          "height": 455
        },
        "id": "mn7_Mv0z6Qei",
        "outputId": "121e651e-45d2-459d-b8ff-7557fda052be"
      },
      "outputs": [
        {
          "output_type": "execute_result",
          "data": {
            "text/plain": [
              "                 Close  Vanilla Predictions\n",
              "Date                                       \n",
              "2021-09-15  149.029999           147.704117\n",
              "2021-09-16  148.789993           146.580902\n",
              "2021-09-17  146.059998           145.966461\n",
              "2021-09-20  142.940002           145.014648\n",
              "2021-09-21  143.429993           143.389572\n",
              "...                ...                  ...\n",
              "2022-12-23  131.860001           130.230453\n",
              "2022-12-27  130.029999           129.764771\n",
              "2022-12-28  126.040001           129.051880\n",
              "2022-12-29  129.610001           127.372887\n",
              "2022-12-30  129.929993           126.737350\n",
              "\n",
              "[327 rows x 2 columns]"
            ],
            "text/html": [
              "\n",
              "  <div id=\"df-459b1c13-fe2e-4885-81a3-6ac73326cc99\">\n",
              "    <div class=\"colab-df-container\">\n",
              "      <div>\n",
              "<style scoped>\n",
              "    .dataframe tbody tr th:only-of-type {\n",
              "        vertical-align: middle;\n",
              "    }\n",
              "\n",
              "    .dataframe tbody tr th {\n",
              "        vertical-align: top;\n",
              "    }\n",
              "\n",
              "    .dataframe thead th {\n",
              "        text-align: right;\n",
              "    }\n",
              "</style>\n",
              "<table border=\"1\" class=\"dataframe\">\n",
              "  <thead>\n",
              "    <tr style=\"text-align: right;\">\n",
              "      <th></th>\n",
              "      <th>Close</th>\n",
              "      <th>Vanilla Predictions</th>\n",
              "    </tr>\n",
              "    <tr>\n",
              "      <th>Date</th>\n",
              "      <th></th>\n",
              "      <th></th>\n",
              "    </tr>\n",
              "  </thead>\n",
              "  <tbody>\n",
              "    <tr>\n",
              "      <th>2021-09-15</th>\n",
              "      <td>149.029999</td>\n",
              "      <td>147.704117</td>\n",
              "    </tr>\n",
              "    <tr>\n",
              "      <th>2021-09-16</th>\n",
              "      <td>148.789993</td>\n",
              "      <td>146.580902</td>\n",
              "    </tr>\n",
              "    <tr>\n",
              "      <th>2021-09-17</th>\n",
              "      <td>146.059998</td>\n",
              "      <td>145.966461</td>\n",
              "    </tr>\n",
              "    <tr>\n",
              "      <th>2021-09-20</th>\n",
              "      <td>142.940002</td>\n",
              "      <td>145.014648</td>\n",
              "    </tr>\n",
              "    <tr>\n",
              "      <th>2021-09-21</th>\n",
              "      <td>143.429993</td>\n",
              "      <td>143.389572</td>\n",
              "    </tr>\n",
              "    <tr>\n",
              "      <th>...</th>\n",
              "      <td>...</td>\n",
              "      <td>...</td>\n",
              "    </tr>\n",
              "    <tr>\n",
              "      <th>2022-12-23</th>\n",
              "      <td>131.860001</td>\n",
              "      <td>130.230453</td>\n",
              "    </tr>\n",
              "    <tr>\n",
              "      <th>2022-12-27</th>\n",
              "      <td>130.029999</td>\n",
              "      <td>129.764771</td>\n",
              "    </tr>\n",
              "    <tr>\n",
              "      <th>2022-12-28</th>\n",
              "      <td>126.040001</td>\n",
              "      <td>129.051880</td>\n",
              "    </tr>\n",
              "    <tr>\n",
              "      <th>2022-12-29</th>\n",
              "      <td>129.610001</td>\n",
              "      <td>127.372887</td>\n",
              "    </tr>\n",
              "    <tr>\n",
              "      <th>2022-12-30</th>\n",
              "      <td>129.929993</td>\n",
              "      <td>126.737350</td>\n",
              "    </tr>\n",
              "  </tbody>\n",
              "</table>\n",
              "<p>327 rows × 2 columns</p>\n",
              "</div>\n",
              "      <button class=\"colab-df-convert\" onclick=\"convertToInteractive('df-459b1c13-fe2e-4885-81a3-6ac73326cc99')\"\n",
              "              title=\"Convert this dataframe to an interactive table.\"\n",
              "              style=\"display:none;\">\n",
              "        \n",
              "  <svg xmlns=\"http://www.w3.org/2000/svg\" height=\"24px\"viewBox=\"0 0 24 24\"\n",
              "       width=\"24px\">\n",
              "    <path d=\"M0 0h24v24H0V0z\" fill=\"none\"/>\n",
              "    <path d=\"M18.56 5.44l.94 2.06.94-2.06 2.06-.94-2.06-.94-.94-2.06-.94 2.06-2.06.94zm-11 1L8.5 8.5l.94-2.06 2.06-.94-2.06-.94L8.5 2.5l-.94 2.06-2.06.94zm10 10l.94 2.06.94-2.06 2.06-.94-2.06-.94-.94-2.06-.94 2.06-2.06.94z\"/><path d=\"M17.41 7.96l-1.37-1.37c-.4-.4-.92-.59-1.43-.59-.52 0-1.04.2-1.43.59L10.3 9.45l-7.72 7.72c-.78.78-.78 2.05 0 2.83L4 21.41c.39.39.9.59 1.41.59.51 0 1.02-.2 1.41-.59l7.78-7.78 2.81-2.81c.8-.78.8-2.07 0-2.86zM5.41 20L4 18.59l7.72-7.72 1.47 1.35L5.41 20z\"/>\n",
              "  </svg>\n",
              "      </button>\n",
              "      \n",
              "  <style>\n",
              "    .colab-df-container {\n",
              "      display:flex;\n",
              "      flex-wrap:wrap;\n",
              "      gap: 12px;\n",
              "    }\n",
              "\n",
              "    .colab-df-convert {\n",
              "      background-color: #E8F0FE;\n",
              "      border: none;\n",
              "      border-radius: 50%;\n",
              "      cursor: pointer;\n",
              "      display: none;\n",
              "      fill: #1967D2;\n",
              "      height: 32px;\n",
              "      padding: 0 0 0 0;\n",
              "      width: 32px;\n",
              "    }\n",
              "\n",
              "    .colab-df-convert:hover {\n",
              "      background-color: #E2EBFA;\n",
              "      box-shadow: 0px 1px 2px rgba(60, 64, 67, 0.3), 0px 1px 3px 1px rgba(60, 64, 67, 0.15);\n",
              "      fill: #174EA6;\n",
              "    }\n",
              "\n",
              "    [theme=dark] .colab-df-convert {\n",
              "      background-color: #3B4455;\n",
              "      fill: #D2E3FC;\n",
              "    }\n",
              "\n",
              "    [theme=dark] .colab-df-convert:hover {\n",
              "      background-color: #434B5C;\n",
              "      box-shadow: 0px 1px 3px 1px rgba(0, 0, 0, 0.15);\n",
              "      filter: drop-shadow(0px 1px 2px rgba(0, 0, 0, 0.3));\n",
              "      fill: #FFFFFF;\n",
              "    }\n",
              "  </style>\n",
              "\n",
              "      <script>\n",
              "        const buttonEl =\n",
              "          document.querySelector('#df-459b1c13-fe2e-4885-81a3-6ac73326cc99 button.colab-df-convert');\n",
              "        buttonEl.style.display =\n",
              "          google.colab.kernel.accessAllowed ? 'block' : 'none';\n",
              "\n",
              "        async function convertToInteractive(key) {\n",
              "          const element = document.querySelector('#df-459b1c13-fe2e-4885-81a3-6ac73326cc99');\n",
              "          const dataTable =\n",
              "            await google.colab.kernel.invokeFunction('convertToInteractive',\n",
              "                                                     [key], {});\n",
              "          if (!dataTable) return;\n",
              "\n",
              "          const docLinkHtml = 'Like what you see? Visit the ' +\n",
              "            '<a target=\"_blank\" href=https://colab.research.google.com/notebooks/data_table.ipynb>data table notebook</a>'\n",
              "            + ' to learn more about interactive tables.';\n",
              "          element.innerHTML = '';\n",
              "          dataTable['output_type'] = 'display_data';\n",
              "          await google.colab.output.renderOutput(dataTable, element);\n",
              "          const docLink = document.createElement('div');\n",
              "          docLink.innerHTML = docLinkHtml;\n",
              "          element.appendChild(docLink);\n",
              "        }\n",
              "      </script>\n",
              "    </div>\n",
              "  </div>\n",
              "  "
            ]
          },
          "metadata": {},
          "execution_count": 22
        }
      ],
      "source": [
        "# Vanilla predictions for the closing price\n",
        "valid"
      ]
    },
    {
      "cell_type": "markdown",
      "metadata": {
        "id": "pWp_RvUDoN5h"
      },
      "source": [
        "# Stacked LSTM\n",
        "We implement a three-layer stacked LSTM model, using tanh, dropout rate and a final Dense layer."
      ]
    },
    {
      "cell_type": "code",
      "execution_count": 23,
      "metadata": {
        "id": "Rjb2wdc-oNNa"
      },
      "outputs": [],
      "source": [
        "#Build a stacked LSTM\n",
        "stacked_lstm = Sequential()\n",
        "stacked_lstm.add(LSTM(units = 128, return_sequences=True, input_shape = (x_train.shape[1], 1)))\n",
        "stacked_lstm.add(Dropout(rate = 0.2))\n",
        "stacked_lstm.add(LSTM(units=128, return_sequences=True))\n",
        "stacked_lstm.add(Dropout(rate = 0.2))\n",
        "stacked_lstm.add(LSTM(units=128))\n",
        "stacked_lstm.add(Dropout(rate = 0.2))\n",
        "stacked_lstm.add(Dense(units = 1))\n",
        "stacked_lstm.compile(optimizer = 'adam', loss = 'mean_squared_error')"
      ]
    },
    {
      "cell_type": "code",
      "execution_count": 24,
      "metadata": {
        "colab": {
          "base_uri": "https://localhost:8080/",
          "height": 0
        },
        "id": "53vskHgdoP6L",
        "outputId": "71ff79d5-32ab-4f89-8f71-e23b51397980"
      },
      "outputs": [
        {
          "output_type": "stream",
          "name": "stdout",
          "text": [
            "Model: \"sequential_1\"\n",
            "_________________________________________________________________\n",
            " Layer (type)                Output Shape              Param #   \n",
            "=================================================================\n",
            " lstm_1 (LSTM)               (None, 90, 128)           66560     \n",
            "                                                                 \n",
            " dropout_1 (Dropout)         (None, 90, 128)           0         \n",
            "                                                                 \n",
            " lstm_2 (LSTM)               (None, 90, 128)           131584    \n",
            "                                                                 \n",
            " dropout_2 (Dropout)         (None, 90, 128)           0         \n",
            "                                                                 \n",
            " lstm_3 (LSTM)               (None, 128)               131584    \n",
            "                                                                 \n",
            " dropout_3 (Dropout)         (None, 128)               0         \n",
            "                                                                 \n",
            " dense_1 (Dense)             (None, 1)                 129       \n",
            "                                                                 \n",
            "=================================================================\n",
            "Total params: 329,857\n",
            "Trainable params: 329,857\n",
            "Non-trainable params: 0\n",
            "_________________________________________________________________\n"
          ]
        }
      ],
      "source": [
        "stacked_lstm.summary()"
      ]
    },
    {
      "cell_type": "code",
      "execution_count": 25,
      "metadata": {
        "colab": {
          "base_uri": "https://localhost:8080/",
          "height": 0
        },
        "id": "chT8KsefoQGA",
        "outputId": "32d55861-5884-4e58-efbc-030a7aad3538"
      },
      "outputs": [
        {
          "output_type": "stream",
          "name": "stdout",
          "text": [
            "Epoch 1/20\n",
            "179/179 [==============================] - 40s 196ms/step - loss: 0.0022\n",
            "Epoch 2/20\n",
            "179/179 [==============================] - 35s 197ms/step - loss: 8.0946e-04\n",
            "Epoch 3/20\n",
            "179/179 [==============================] - 34s 193ms/step - loss: 7.4930e-04\n",
            "Epoch 4/20\n",
            "179/179 [==============================] - 35s 198ms/step - loss: 7.4351e-04\n",
            "Epoch 5/20\n",
            "179/179 [==============================] - 35s 196ms/step - loss: 4.9922e-04\n",
            "Epoch 6/20\n",
            "179/179 [==============================] - 35s 193ms/step - loss: 4.9532e-04\n",
            "Epoch 7/20\n",
            "179/179 [==============================] - 36s 199ms/step - loss: 5.7750e-04\n",
            "Epoch 8/20\n",
            "179/179 [==============================] - 35s 198ms/step - loss: 4.4414e-04\n",
            "Epoch 9/20\n",
            "179/179 [==============================] - 35s 193ms/step - loss: 4.9616e-04\n",
            "Epoch 10/20\n",
            "179/179 [==============================] - 35s 194ms/step - loss: 5.0559e-04\n",
            "Epoch 11/20\n",
            "179/179 [==============================] - 35s 198ms/step - loss: 4.9789e-04\n",
            "Epoch 12/20\n",
            "179/179 [==============================] - 35s 197ms/step - loss: 5.3114e-04\n",
            "Epoch 13/20\n",
            "179/179 [==============================] - 35s 193ms/step - loss: 4.8486e-04\n",
            "Epoch 14/20\n",
            "179/179 [==============================] - 35s 197ms/step - loss: 4.1910e-04\n",
            "Epoch 15/20\n",
            "179/179 [==============================] - 35s 196ms/step - loss: 5.2320e-04\n",
            "Epoch 16/20\n",
            "179/179 [==============================] - 34s 190ms/step - loss: 4.3702e-04\n",
            "Epoch 17/20\n",
            "179/179 [==============================] - 35s 196ms/step - loss: 4.7789e-04\n",
            "Epoch 18/20\n",
            "179/179 [==============================] - 35s 196ms/step - loss: 3.8071e-04\n",
            "Epoch 19/20\n",
            "179/179 [==============================] - 34s 190ms/step - loss: 3.7007e-04\n",
            "Epoch 20/20\n",
            "179/179 [==============================] - 35s 195ms/step - loss: 4.2824e-04\n"
          ]
        }
      ],
      "source": [
        "stacked_history = stacked_lstm.fit(x_train, y_train, epochs = 20, batch_size= 16)"
      ]
    },
    {
      "cell_type": "code",
      "execution_count": 26,
      "metadata": {
        "colab": {
          "base_uri": "https://localhost:8080/",
          "height": 472
        },
        "id": "BNUv2zI56OWF",
        "outputId": "84e76419-5934-41e2-880a-d74d30c0e43e"
      },
      "outputs": [
        {
          "output_type": "display_data",
          "data": {
            "text/plain": [
              "<Figure size 640x480 with 1 Axes>"
            ],
            "image/png": "[encoded data removed]"
          },
          "metadata": {}
        }
      ],
      "source": [
        "#Plot the loss\n",
        "plt.plot(stacked_history.history['loss'])\n",
        "plt.title('Stacked LSTM Loss')\n",
        "plt.xlabel('Epoch')\n",
        "plt.ylabel('Loss function')\n",
        "plt.show()"
      ]
    },
    {
      "cell_type": "code",
      "execution_count": 27,
      "metadata": {
        "colab": {
          "base_uri": "https://localhost:8080/",
          "height": 0
        },
        "id": "otCFHVEo6OSy",
        "outputId": "2e5f0f0a-415e-4749-9d2d-2b2c388b52f1"
      },
      "outputs": [
        {
          "output_type": "stream",
          "name": "stdout",
          "text": [
            "11/11 [==============================] - 2s 86ms/step\n"
          ]
        }
      ],
      "source": [
        "predictions_stacked = stacked_lstm.predict(x_test)\n",
        "predictions_stacked = sc.inverse_transform(predictions_stacked)"
      ]
    },
    {
      "cell_type": "code",
      "execution_count": 28,
      "metadata": {
        "colab": {
          "base_uri": "https://localhost:8080/",
          "height": 0
        },
        "id": "aFVaHHOpC2zU",
        "outputId": "abef9066-9a1d-49eb-cf47-e00748735217"
      },
      "outputs": [
        {
          "output_type": "execute_result",
          "data": {
            "text/plain": [
              "9.570154836695124"
            ]
          },
          "metadata": {},
          "execution_count": 28
        }
      ],
      "source": [
        "#Get the rmse\n",
        "rmse = np.sqrt(np.mean(((predictions_stacked - y_test) ** 2)))\n",
        "rmse"
      ]
    },
    {
      "cell_type": "markdown",
      "metadata": {
        "id": "GL7t5a4yoQb5"
      },
      "source": [
        "# LSTM/GRU model\n",
        "We combine both LSTM and GRU models into a single model to leverage advantages of both model, the idea is that LSTM may underperform whereas GRU over-predicts the price."
      ]
    },
    {
      "cell_type": "code",
      "execution_count": 29,
      "metadata": {
        "id": "fhTEflidogBO"
      },
      "outputs": [],
      "source": [
        "lstm_gru= Sequential()\n",
        "lstm_gru.add(LSTM(units = 128, return_sequences=True, input_shape = (x_train.shape[1], 1)))\n",
        "lstm_gru.add(Dropout(rate = 0.2))\n",
        "lstm_gru.add(GRU(units = 128, input_shape = (x_train.shape[1], 1)))\n",
        "lstm_gru.add(Dropout(rate = 0.2))\n",
        "lstm_gru.add(Dense(units = 1))\n",
        "lstm_gru.compile(optimizer = 'adam', loss = 'mean_squared_error')"
      ]
    },
    {
      "cell_type": "code",
      "execution_count": 30,
      "metadata": {
        "colab": {
          "base_uri": "https://localhost:8080/",
          "height": 0
        },
        "id": "PtxZvTpxozS-",
        "outputId": "0c6a62fa-4405-4f0b-b1c3-65600f638995"
      },
      "outputs": [
        {
          "output_type": "stream",
          "name": "stdout",
          "text": [
            "Model: \"sequential_2\"\n",
            "_________________________________________________________________\n",
            " Layer (type)                Output Shape              Param #   \n",
            "=================================================================\n",
            " lstm_4 (LSTM)               (None, 90, 128)           66560     \n",
            "                                                                 \n",
            " dropout_4 (Dropout)         (None, 90, 128)           0         \n",
            "                                                                 \n",
            " gru (GRU)                   (None, 128)               99072     \n",
            "                                                                 \n",
            " dropout_5 (Dropout)         (None, 128)               0         \n",
            "                                                                 \n",
            " dense_2 (Dense)             (None, 1)                 129       \n",
            "                                                                 \n",
            "=================================================================\n",
            "Total params: 165,761\n",
            "Trainable params: 165,761\n",
            "Non-trainable params: 0\n",
            "_________________________________________________________________\n"
          ]
        }
      ],
      "source": [
        "lstm_gru.summary()"
      ]
    },
    {
      "cell_type": "code",
      "execution_count": 31,
      "metadata": {
        "colab": {
          "base_uri": "https://localhost:8080/",
          "height": 0
        },
        "id": "7sE9j-mQo0gh",
        "outputId": "efe5a9b8-5892-4570-ee58-2f08cf6fcc3e"
      },
      "outputs": [
        {
          "output_type": "stream",
          "name": "stdout",
          "text": [
            "Epoch 1/20\n",
            "179/179 [==============================] - 24s 117ms/step - loss: 0.0018\n",
            "Epoch 2/20\n",
            "179/179 [==============================] - 20s 112ms/step - loss: 5.0428e-04\n",
            "Epoch 3/20\n",
            "179/179 [==============================] - 21s 116ms/step - loss: 5.5695e-04\n",
            "Epoch 4/20\n",
            "179/179 [==============================] - 21s 115ms/step - loss: 4.5604e-04\n",
            "Epoch 5/20\n",
            "179/179 [==============================] - 21s 116ms/step - loss: 4.3611e-04\n",
            "Epoch 6/20\n",
            "179/179 [==============================] - 21s 117ms/step - loss: 4.4240e-04\n",
            "Epoch 7/20\n",
            "179/179 [==============================] - 20s 111ms/step - loss: 4.6409e-04\n",
            "Epoch 8/20\n",
            "179/179 [==============================] - 21s 117ms/step - loss: 3.9806e-04\n",
            "Epoch 9/20\n",
            "179/179 [==============================] - 20s 110ms/step - loss: 3.4206e-04\n",
            "Epoch 10/20\n",
            "179/179 [==============================] - 21s 118ms/step - loss: 3.5522e-04\n",
            "Epoch 11/20\n",
            "179/179 [==============================] - 21s 120ms/step - loss: 3.0065e-04\n",
            "Epoch 12/20\n",
            "179/179 [==============================] - 20s 112ms/step - loss: 3.7733e-04\n",
            "Epoch 13/20\n",
            "179/179 [==============================] - 21s 117ms/step - loss: 3.2857e-04\n",
            "Epoch 14/20\n",
            "179/179 [==============================] - 20s 112ms/step - loss: 3.4451e-04\n",
            "Epoch 15/20\n",
            "179/179 [==============================] - 21s 117ms/step - loss: 3.2258e-04\n",
            "Epoch 16/20\n",
            "179/179 [==============================] - 21s 119ms/step - loss: 3.1677e-04\n",
            "Epoch 17/20\n",
            "179/179 [==============================] - 20s 114ms/step - loss: 3.1531e-04\n",
            "Epoch 18/20\n",
            "179/179 [==============================] - 21s 118ms/step - loss: 2.8661e-04\n",
            "Epoch 19/20\n",
            "179/179 [==============================] - 20s 110ms/step - loss: 2.8106e-04\n",
            "Epoch 20/20\n",
            "179/179 [==============================] - 21s 116ms/step - loss: 2.7924e-04\n"
          ]
        }
      ],
      "source": [
        "lstm_gru_history = lstm_gru.fit(x_train, y_train, epochs = 20, batch_size = 16)"
      ]
    },
    {
      "cell_type": "code",
      "execution_count": 32,
      "metadata": {
        "colab": {
          "base_uri": "https://localhost:8080/",
          "height": 472
        },
        "id": "fXiGSo24vEfp",
        "outputId": "201920e0-ba42-42dd-ccd9-861b50c48c63"
      },
      "outputs": [
        {
          "output_type": "display_data",
          "data": {
            "text/plain": [
              "<Figure size 640x480 with 1 Axes>"
            ],
            "image/png": "[encoded data removed]"
          },
          "metadata": {}
        }
      ],
      "source": [
        "#Plot the loss\n",
        "plt.plot(lstm_gru_history.history['loss'])\n",
        "plt.title('LSTM-GRU Loss')\n",
        "plt.xlabel('Epoch')\n",
        "plt.ylabel('Loss function')\n",
        "plt.show()"
      ]
    },
    {
      "cell_type": "code",
      "execution_count": 33,
      "metadata": {
        "colab": {
          "base_uri": "https://localhost:8080/",
          "height": 0
        },
        "id": "_76lNNvavhru",
        "outputId": "85c27f82-d3c4-4dd9-b88f-cad41dca5c61"
      },
      "outputs": [
        {
          "output_type": "stream",
          "name": "stdout",
          "text": [
            "11/11 [==============================] - 1s 41ms/step\n"
          ]
        }
      ],
      "source": [
        "predictions_gru = lstm_gru.predict(x_test)\n",
        "predictions_gru = sc.inverse_transform(predictions_gru)"
      ]
    },
    {
      "cell_type": "code",
      "execution_count": 34,
      "metadata": {
        "colab": {
          "base_uri": "https://localhost:8080/",
          "height": 0
        },
        "id": "RKEWZTlGvhFD",
        "outputId": "459d6b0e-bf31-4aef-88d2-345514f889e1"
      },
      "outputs": [
        {
          "output_type": "execute_result",
          "data": {
            "text/plain": [
              "5.631107036840264"
            ]
          },
          "metadata": {},
          "execution_count": 34
        }
      ],
      "source": [
        "#Get the rmse\n",
        "rmse = np.sqrt(np.mean(((predictions_gru - y_test) ** 2)))\n",
        "rmse"
      ]
    },
    {
      "cell_type": "code",
      "execution_count": 35,
      "metadata": {
        "colab": {
          "base_uri": "https://localhost:8080/",
          "height": 0
        },
        "id": "8UMhU7Q_vgja",
        "outputId": "abd04abb-04e6-41a8-82d9-71c58f6bc9da"
      },
      "outputs": [
        {
          "output_type": "stream",
          "name": "stderr",
          "text": [
            "<ipython-input-35-1eb0ddee036e>:1: SettingWithCopyWarning: \n",
            "A value is trying to be set on a copy of a slice from a DataFrame.\n",
            "Try using .loc[row_indexer,col_indexer] = value instead\n",
            "\n",
            "See the caveats in the documentation: https://pandas.pydata.org/pandas-docs/stable/user_guide/indexing.html#returning-a-view-versus-a-copy\n",
            "  valid['Stacked Predictions'] = predictions_stacked\n",
            "<ipython-input-35-1eb0ddee036e>:2: SettingWithCopyWarning: \n",
            "A value is trying to be set on a copy of a slice from a DataFrame.\n",
            "Try using .loc[row_indexer,col_indexer] = value instead\n",
            "\n",
            "See the caveats in the documentation: https://pandas.pydata.org/pandas-docs/stable/user_guide/indexing.html#returning-a-view-versus-a-copy\n",
            "  valid['Gru Predictions'] = predictions_gru\n"
          ]
        }
      ],
      "source": [
        "valid['Stacked Predictions'] = predictions_stacked\n",
        "valid['Gru Predictions'] = predictions_gru"
      ]
    },
    {
      "cell_type": "code",
      "execution_count": 36,
      "metadata": {
        "colab": {
          "base_uri": "https://localhost:8080/",
          "height": 455
        },
        "id": "iSbwQb_NwL8V",
        "outputId": "b10fbe6a-d7ce-435a-95b1-4484cedf0ba5"
      },
      "outputs": [
        {
          "output_type": "execute_result",
          "data": {
            "text/plain": [
              "                 Close  Vanilla Predictions  Stacked Predictions  \\\n",
              "Date                                                               \n",
              "2021-09-15  149.029999           147.704117           143.601807   \n",
              "2021-09-16  148.789993           146.580902           142.762573   \n",
              "2021-09-17  146.059998           145.966461           142.216110   \n",
              "2021-09-20  142.940002           145.014648           141.528915   \n",
              "2021-09-21  143.429993           143.389572           140.425507   \n",
              "...                ...                  ...                  ...   \n",
              "2022-12-23  131.860001           130.230453           129.273651   \n",
              "2022-12-27  130.029999           129.764771           128.651138   \n",
              "2022-12-28  126.040001           129.051880           127.909119   \n",
              "2022-12-29  129.610001           127.372887           126.631638   \n",
              "2022-12-30  129.929993           126.737350           125.782944   \n",
              "\n",
              "            Gru Predictions  \n",
              "Date                         \n",
              "2021-09-15       147.049454  \n",
              "2021-09-16       146.315491  \n",
              "2021-09-17       145.849869  \n",
              "2021-09-20       144.938187  \n",
              "2021-09-21       143.386658  \n",
              "...                     ...  \n",
              "2022-12-23       130.758179  \n",
              "2022-12-27       130.023849  \n",
              "2022-12-28       129.027191  \n",
              "2022-12-29       127.217346  \n",
              "2022-12-30       126.501862  \n",
              "\n",
              "[327 rows x 4 columns]"
            ],
            "text/html": [
              "\n",
              "  <div id=\"df-755e3d2a-ad52-4071-b62f-e91ced3e6d2a\">\n",
              "    <div class=\"colab-df-container\">\n",
              "      <div>\n",
              "<style scoped>\n",
              "    .dataframe tbody tr th:only-of-type {\n",
              "        vertical-align: middle;\n",
              "    }\n",
              "\n",
              "    .dataframe tbody tr th {\n",
              "        vertical-align: top;\n",
              "    }\n",
              "\n",
              "    .dataframe thead th {\n",
              "        text-align: right;\n",
              "    }\n",
              "</style>\n",
              "<table border=\"1\" class=\"dataframe\">\n",
              "  <thead>\n",
              "    <tr style=\"text-align: right;\">\n",
              "      <th></th>\n",
              "      <th>Close</th>\n",
              "      <th>Vanilla Predictions</th>\n",
              "      <th>Stacked Predictions</th>\n",
              "      <th>Gru Predictions</th>\n",
              "    </tr>\n",
              "    <tr>\n",
              "      <th>Date</th>\n",
              "      <th></th>\n",
              "      <th></th>\n",
              "      <th></th>\n",
              "      <th></th>\n",
              "    </tr>\n",
              "  </thead>\n",
              "  <tbody>\n",
              "    <tr>\n",
              "      <th>2021-09-15</th>\n",
              "      <td>149.029999</td>\n",
              "      <td>147.704117</td>\n",
              "      <td>143.601807</td>\n",
              "      <td>147.049454</td>\n",
              "    </tr>\n",
              "    <tr>\n",
              "      <th>2021-09-16</th>\n",
              "      <td>148.789993</td>\n",
              "      <td>146.580902</td>\n",
              "      <td>142.762573</td>\n",
              "      <td>146.315491</td>\n",
              "    </tr>\n",
              "    <tr>\n",
              "      <th>2021-09-17</th>\n",
              "      <td>146.059998</td>\n",
              "      <td>145.966461</td>\n",
              "      <td>142.216110</td>\n",
              "      <td>145.849869</td>\n",
              "    </tr>\n",
              "    <tr>\n",
              "      <th>2021-09-20</th>\n",
              "      <td>142.940002</td>\n",
              "      <td>145.014648</td>\n",
              "      <td>141.528915</td>\n",
              "      <td>144.938187</td>\n",
              "    </tr>\n",
              "    <tr>\n",
              "      <th>2021-09-21</th>\n",
              "      <td>143.429993</td>\n",
              "      <td>143.389572</td>\n",
              "      <td>140.425507</td>\n",
              "      <td>143.386658</td>\n",
              "    </tr>\n",
              "    <tr>\n",
              "      <th>...</th>\n",
              "      <td>...</td>\n",
              "      <td>...</td>\n",
              "      <td>...</td>\n",
              "      <td>...</td>\n",
              "    </tr>\n",
              "    <tr>\n",
              "      <th>2022-12-23</th>\n",
              "      <td>131.860001</td>\n",
              "      <td>130.230453</td>\n",
              "      <td>129.273651</td>\n",
              "      <td>130.758179</td>\n",
              "    </tr>\n",
              "    <tr>\n",
              "      <th>2022-12-27</th>\n",
              "      <td>130.029999</td>\n",
              "      <td>129.764771</td>\n",
              "      <td>128.651138</td>\n",
              "      <td>130.023849</td>\n",
              "    </tr>\n",
              "    <tr>\n",
              "      <th>2022-12-28</th>\n",
              "      <td>126.040001</td>\n",
              "      <td>129.051880</td>\n",
              "      <td>127.909119</td>\n",
              "      <td>129.027191</td>\n",
              "    </tr>\n",
              "    <tr>\n",
              "      <th>2022-12-29</th>\n",
              "      <td>129.610001</td>\n",
              "      <td>127.372887</td>\n",
              "      <td>126.631638</td>\n",
              "      <td>127.217346</td>\n",
              "    </tr>\n",
              "    <tr>\n",
              "      <th>2022-12-30</th>\n",
              "      <td>129.929993</td>\n",
              "      <td>126.737350</td>\n",
              "      <td>125.782944</td>\n",
              "      <td>126.501862</td>\n",
              "    </tr>\n",
              "  </tbody>\n",
              "</table>\n",
              "<p>327 rows × 4 columns</p>\n",
              "</div>\n",
              "      <button class=\"colab-df-convert\" onclick=\"convertToInteractive('df-755e3d2a-ad52-4071-b62f-e91ced3e6d2a')\"\n",
              "              title=\"Convert this dataframe to an interactive table.\"\n",
              "              style=\"display:none;\">\n",
              "        \n",
              "  <svg xmlns=\"http://www.w3.org/2000/svg\" height=\"24px\"viewBox=\"0 0 24 24\"\n",
              "       width=\"24px\">\n",
              "    <path d=\"M0 0h24v24H0V0z\" fill=\"none\"/>\n",
              "    <path d=\"M18.56 5.44l.94 2.06.94-2.06 2.06-.94-2.06-.94-.94-2.06-.94 2.06-2.06.94zm-11 1L8.5 8.5l.94-2.06 2.06-.94-2.06-.94L8.5 2.5l-.94 2.06-2.06.94zm10 10l.94 2.06.94-2.06 2.06-.94-2.06-.94-.94-2.06-.94 2.06-2.06.94z\"/><path d=\"M17.41 7.96l-1.37-1.37c-.4-.4-.92-.59-1.43-.59-.52 0-1.04.2-1.43.59L10.3 9.45l-7.72 7.72c-.78.78-.78 2.05 0 2.83L4 21.41c.39.39.9.59 1.41.59.51 0 1.02-.2 1.41-.59l7.78-7.78 2.81-2.81c.8-.78.8-2.07 0-2.86zM5.41 20L4 18.59l7.72-7.72 1.47 1.35L5.41 20z\"/>\n",
              "  </svg>\n",
              "      </button>\n",
              "      \n",
              "  <style>\n",
              "    .colab-df-container {\n",
              "      display:flex;\n",
              "      flex-wrap:wrap;\n",
              "      gap: 12px;\n",
              "    }\n",
              "\n",
              "    .colab-df-convert {\n",
              "      background-color: #E8F0FE;\n",
              "      border: none;\n",
              "      border-radius: 50%;\n",
              "      cursor: pointer;\n",
              "      display: none;\n",
              "      fill: #1967D2;\n",
              "      height: 32px;\n",
              "      padding: 0 0 0 0;\n",
              "      width: 32px;\n",
              "    }\n",
              "\n",
              "    .colab-df-convert:hover {\n",
              "      background-color: #E2EBFA;\n",
              "      box-shadow: 0px 1px 2px rgba(60, 64, 67, 0.3), 0px 1px 3px 1px rgba(60, 64, 67, 0.15);\n",
              "      fill: #174EA6;\n",
              "    }\n",
              "\n",
              "    [theme=dark] .colab-df-convert {\n",
              "      background-color: #3B4455;\n",
              "      fill: #D2E3FC;\n",
              "    }\n",
              "\n",
              "    [theme=dark] .colab-df-convert:hover {\n",
              "      background-color: #434B5C;\n",
              "      box-shadow: 0px 1px 3px 1px rgba(0, 0, 0, 0.15);\n",
              "      filter: drop-shadow(0px 1px 2px rgba(0, 0, 0, 0.3));\n",
              "      fill: #FFFFFF;\n",
              "    }\n",
              "  </style>\n",
              "\n",
              "      <script>\n",
              "        const buttonEl =\n",
              "          document.querySelector('#df-755e3d2a-ad52-4071-b62f-e91ced3e6d2a button.colab-df-convert');\n",
              "        buttonEl.style.display =\n",
              "          google.colab.kernel.accessAllowed ? 'block' : 'none';\n",
              "\n",
              "        async function convertToInteractive(key) {\n",
              "          const element = document.querySelector('#df-755e3d2a-ad52-4071-b62f-e91ced3e6d2a');\n",
              "          const dataTable =\n",
              "            await google.colab.kernel.invokeFunction('convertToInteractive',\n",
              "                                                     [key], {});\n",
              "          if (!dataTable) return;\n",
              "\n",
              "          const docLinkHtml = 'Like what you see? Visit the ' +\n",
              "            '<a target=\"_blank\" href=https://colab.research.google.com/notebooks/data_table.ipynb>data table notebook</a>'\n",
              "            + ' to learn more about interactive tables.';\n",
              "          element.innerHTML = '';\n",
              "          dataTable['output_type'] = 'display_data';\n",
              "          await google.colab.output.renderOutput(dataTable, element);\n",
              "          const docLink = document.createElement('div');\n",
              "          docLink.innerHTML = docLinkHtml;\n",
              "          element.appendChild(docLink);\n",
              "        }\n",
              "      </script>\n",
              "    </div>\n",
              "  </div>\n",
              "  "
            ]
          },
          "metadata": {},
          "execution_count": 36
        }
      ],
      "source": [
        "#Get the predictions for all the models\n",
        "valid"
      ]
    },
    {
      "cell_type": "markdown",
      "source": [
        "# BiLSTM"
      ],
      "metadata": {
        "id": "TKVKQos7OJOP"
      }
    },
    {
      "cell_type": "code",
      "source": [
        "from tensorflow import keras\n",
        "from tensorflow.keras.layers import Bidirectional, Dropout, Activation, Dense, LSTM\n",
        "from tensorflow.compat.v1.keras.layers import CuDNNLSTM\n",
        "from tensorflow.keras.models import Sequential\n",
        "\n",
        "bi_lstm = keras.Sequential()\n",
        "bi_lstm.add(LSTM(128, return_sequences=True, input_shape = (x_train.shape[1], 1)))\n",
        "bi_lstm.add(Dropout(rate=0.2))\n",
        "bi_lstm.add(Bidirectional(LSTM((128 * 2), return_sequences=True))) \n",
        "bi_lstm.add(Dropout(rate=0.2))\n",
        "bi_lstm.add(Bidirectional(LSTM(128, return_sequences=False))) \n",
        "bi_lstm.add(Dense(units=1))\n",
        "# linear activation function: activation is proportional to the input\n",
        "bi_lstm.add(Activation('tanh'))\n",
        "bi_lstm.compile(loss='mean_squared_error', optimizer='adam')"
      ],
      "metadata": {
        "id": "Av8yNHeSOMws"
      },
      "execution_count": 37,
      "outputs": []
    },
    {
      "cell_type": "code",
      "source": [
        "bi_lstm.summary()"
      ],
      "metadata": {
        "colab": {
          "base_uri": "https://localhost:8080/",
          "height": 0
        },
        "id": "NvjOlV09OsW6",
        "outputId": "b875e7b4-39cf-4423-ebf6-614c912b7aaa"
      },
      "execution_count": 38,
      "outputs": [
        {
          "output_type": "stream",
          "name": "stdout",
          "text": [
            "Model: \"sequential_3\"\n",
            "_________________________________________________________________\n",
            " Layer (type)                Output Shape              Param #   \n",
            "=================================================================\n",
            " lstm_5 (LSTM)               (None, 90, 128)           66560     \n",
            "                                                                 \n",
            " dropout_6 (Dropout)         (None, 90, 128)           0         \n",
            "                                                                 \n",
            " bidirectional (Bidirectiona  (None, 90, 512)          788480    \n",
            " l)                                                              \n",
            "                                                                 \n",
            " dropout_7 (Dropout)         (None, 90, 512)           0         \n",
            "                                                                 \n",
            " bidirectional_1 (Bidirectio  (None, 256)              656384    \n",
            " nal)                                                            \n",
            "                                                                 \n",
            " dense_3 (Dense)             (None, 1)                 257       \n",
            "                                                                 \n",
            " activation (Activation)     (None, 1)                 0         \n",
            "                                                                 \n",
            "=================================================================\n",
            "Total params: 1,511,681\n",
            "Trainable params: 1,511,681\n",
            "Non-trainable params: 0\n",
            "_________________________________________________________________\n"
          ]
        }
      ]
    },
    {
      "cell_type": "code",
      "source": [
        "bi_lstm_history = bi_lstm.fit(\n",
        "    x_train,\n",
        "    y_train,\n",
        "    epochs=10,\n",
        "    batch_size=16,\n",
        "    shuffle=False  #time series data must not be shuffled\n",
        "    )"
      ],
      "metadata": {
        "colab": {
          "base_uri": "https://localhost:8080/",
          "height": 0
        },
        "id": "0gLfill6OsEO",
        "outputId": "4a644b53-f29a-4118-e9ec-443eb0c32f38"
      },
      "execution_count": 39,
      "outputs": [
        {
          "output_type": "stream",
          "name": "stdout",
          "text": [
            "Epoch 1/10\n",
            "179/179 [==============================] - 185s 992ms/step - loss: 0.0015\n",
            "Epoch 2/10\n",
            "179/179 [==============================] - 176s 982ms/step - loss: 0.0088\n",
            "Epoch 3/10\n",
            "179/179 [==============================] - 177s 992ms/step - loss: 0.0114\n",
            "Epoch 4/10\n",
            "179/179 [==============================] - 176s 985ms/step - loss: 0.0098\n",
            "Epoch 5/10\n",
            "179/179 [==============================] - 177s 988ms/step - loss: 0.0123\n",
            "Epoch 6/10\n",
            "179/179 [==============================] - 177s 989ms/step - loss: 0.0150\n",
            "Epoch 7/10\n",
            "179/179 [==============================] - 176s 983ms/step - loss: 0.0132\n",
            "Epoch 8/10\n",
            "179/179 [==============================] - 183s 1s/step - loss: 0.0131\n",
            "Epoch 9/10\n",
            "179/179 [==============================] - 184s 1s/step - loss: 0.0128\n",
            "Epoch 10/10\n",
            "179/179 [==============================] - 177s 986ms/step - loss: 0.0129\n"
          ]
        }
      ]
    },
    {
      "cell_type": "code",
      "source": [
        "#Plot the loss\n",
        "plt.plot(bi_lstm_history.history['loss'])\n",
        "plt.title('Bi LSTM Loss')\n",
        "plt.xlabel('Epoch')\n",
        "plt.ylabel('Loss function')\n",
        "plt.show()"
      ],
      "metadata": {
        "id": "DqANBTTBPWVG",
        "colab": {
          "base_uri": "https://localhost:8080/",
          "height": 472
        },
        "outputId": "6e87130b-9005-4010-ce26-7046f21376af"
      },
      "execution_count": 40,
      "outputs": [
        {
          "output_type": "display_data",
          "data": {
            "text/plain": [
              "<Figure size 640x480 with 1 Axes>"
            ],
            "image/png": "[encoded data removed]"
          },
          "metadata": {}
        }
      ]
    },
    {
      "cell_type": "code",
      "source": [
        "predictions_bi = bi_lstm.predict(x_test)\n",
        "predictions_bi = sc.inverse_transform(predictions_bi)"
      ],
      "metadata": {
        "id": "u4J1qrDrPV86",
        "colab": {
          "base_uri": "https://localhost:8080/",
          "height": 0
        },
        "outputId": "3014e040-547c-421f-84b9-170235bfe2c7"
      },
      "execution_count": 41,
      "outputs": [
        {
          "output_type": "stream",
          "name": "stdout",
          "text": [
            "11/11 [==============================] - 4s 236ms/step\n"
          ]
        }
      ]
    },
    {
      "cell_type": "code",
      "source": [
        "#RMSE test set\n",
        "rmse = np.sqrt(np.mean(((predictions_bi - y_test) ** 2)))\n",
        "rmse"
      ],
      "metadata": {
        "id": "GzibATPzPKqF",
        "colab": {
          "base_uri": "https://localhost:8080/",
          "height": 0
        },
        "outputId": "b8370edf-b884-4f3a-8d10-1637f4c247e0"
      },
      "execution_count": 42,
      "outputs": [
        {
          "output_type": "execute_result",
          "data": {
            "text/plain": [
              "15.775967303827716"
            ]
          },
          "metadata": {},
          "execution_count": 42
        }
      ]
    },
    {
      "cell_type": "markdown",
      "metadata": {
        "id": "JFG9kuTruL9p"
      },
      "source": [
        "# Conclusion \n",
        "After having trained the four models, we observe that for this dataset there is some obscillation in the RMSE among them. In general, the training loss decreases over the epochs, with some minor fluctuations. Even a simple Vanilla model is able to doing relatively well in this context, with the advantage of being the least expensive.Overall the predictions are quite good, in principle one could have obtained better results but this may be due to the fact that the model has to deal with difficult predictions, since in the last year or so, there are big changes in AAPL stock price."
      ]
    }
  ],
  "metadata": {
    "colab": {
      "provenance": []
    },
    "kernelspec": {
      "display_name": "Python 3",
      "name": "python3"
    },
    "language_info": {
      "name": "python"
    }
  },
  "nbformat": 4,
  "nbformat_minor": 0
}